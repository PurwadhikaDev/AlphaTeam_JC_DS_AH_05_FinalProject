{
 "cells": [
  {
   "cell_type": "markdown",
   "id": "6e25425b-e2fc-4af8-b757-5df03446f71c",
   "metadata": {},
   "source": [
    "# Business Problem Statement\n",
    "- Problem Statement for Machine Learning : How to predict Employee's Promotion so we can have precise target of potential and outstanding employee in order to reduce subjectivity approach and optimize the working environment ?\n",
    "\n",
    "- Problem Statement for Analytics : What Employee's Profile should we maintain in order to find potential candidate?"
   ]
  },
  {
   "cell_type": "markdown",
   "id": "0c5576a0-3d3d-4ba0-9ec9-01ed35653e62",
   "metadata": {},
   "source": [
    "- This Analytical Approach will be used by a Start Up Company (E-Commerce field), People Development Division to analyze and to predict the potential candidate.\n",
    "- Project Limitation : Employee Profile (Under Manager)"
   ]
  },
  {
   "cell_type": "markdown",
   "id": "4c55e559-3705-4ad9-b968-7d8b170dc462",
   "metadata": {},
   "source": [
    "- Feature Explanation :\n",
    "    - department: Department of employee\n",
    "    - region: Region of employment \n",
    "    - education: Education Level\n",
    "    - gender: Gender of Employee\n",
    "    - recruitment_channel: Channel of recruitment for employee\n",
    "    - no_ of_ trainings: no of other trainings completed in previous year on soft skills, technical skills etc.\n",
    "    - age: Age of Employee\n",
    "    - previous_ year_ rating: Employee Rating for the previous year\n",
    "    - length_ of_ service: Length of service in years\n",
    "    - awards_ won?: if awards won during previous year then 1 else 0\n",
    "    - avg_ training_ score: Average score in current training evaluations\n",
    "    - is_promoted: (Target) Recommended for promotion"
   ]
  },
  {
   "cell_type": "markdown",
   "id": "0285cbca-aadd-4540-adb1-d4f02fc84620",
   "metadata": {},
   "source": [
    "# Data Understanding"
   ]
  },
  {
   "cell_type": "code",
   "execution_count": 1,
   "id": "69462252-85c6-4928-8343-d5f50e53da43",
   "metadata": {},
   "outputs": [],
   "source": [
    "import numpy as np\n",
    "import pandas as pd\n",
    "import matplotlib.pyplot as plt\n",
    "import seaborn as sns"
   ]
  },
  {
   "cell_type": "code",
   "execution_count": 2,
   "id": "94c948fe-c127-45fb-bf28-679df15f866a",
   "metadata": {},
   "outputs": [],
   "source": [
    "import warnings\n",
    "warnings.filterwarnings('ignore')"
   ]
  },
  {
   "cell_type": "code",
   "execution_count": 3,
   "id": "7cd33de5-8710-4130-bc28-4f4b5dcc5466",
   "metadata": {},
   "outputs": [],
   "source": [
    "df = pd.read_csv('train.csv')"
   ]
  },
  {
   "cell_type": "code",
   "execution_count": 4,
   "id": "82cf7c2e-8887-4889-ad44-0aa93bf92bf7",
   "metadata": {},
   "outputs": [],
   "source": [
    "df.drop('employee_id',inplace=True,axis=1)"
   ]
  },
  {
   "cell_type": "code",
   "execution_count": 5,
   "id": "42664bdd-fd3a-4c49-8776-07c2486f4571",
   "metadata": {},
   "outputs": [
    {
     "data": {
      "text/html": [
       "<div>\n",
       "<style scoped>\n",
       "    .dataframe tbody tr th:only-of-type {\n",
       "        vertical-align: middle;\n",
       "    }\n",
       "\n",
       "    .dataframe tbody tr th {\n",
       "        vertical-align: top;\n",
       "    }\n",
       "\n",
       "    .dataframe thead th {\n",
       "        text-align: right;\n",
       "    }\n",
       "</style>\n",
       "<table border=\"1\" class=\"dataframe\">\n",
       "  <thead>\n",
       "    <tr style=\"text-align: right;\">\n",
       "      <th></th>\n",
       "      <th>department</th>\n",
       "      <th>region</th>\n",
       "      <th>education</th>\n",
       "      <th>gender</th>\n",
       "      <th>recruitment_channel</th>\n",
       "      <th>no_of_trainings</th>\n",
       "      <th>age</th>\n",
       "      <th>previous_year_rating</th>\n",
       "      <th>length_of_service</th>\n",
       "      <th>awards_won?</th>\n",
       "      <th>avg_training_score</th>\n",
       "      <th>is_promoted</th>\n",
       "    </tr>\n",
       "  </thead>\n",
       "  <tbody>\n",
       "    <tr>\n",
       "      <th>0</th>\n",
       "      <td>Sales &amp; Marketing</td>\n",
       "      <td>region_7</td>\n",
       "      <td>Master's &amp; above</td>\n",
       "      <td>f</td>\n",
       "      <td>sourcing</td>\n",
       "      <td>1</td>\n",
       "      <td>35</td>\n",
       "      <td>5.0</td>\n",
       "      <td>8</td>\n",
       "      <td>0</td>\n",
       "      <td>49</td>\n",
       "      <td>0</td>\n",
       "    </tr>\n",
       "    <tr>\n",
       "      <th>1</th>\n",
       "      <td>Operations</td>\n",
       "      <td>region_22</td>\n",
       "      <td>Bachelor's</td>\n",
       "      <td>m</td>\n",
       "      <td>other</td>\n",
       "      <td>1</td>\n",
       "      <td>30</td>\n",
       "      <td>5.0</td>\n",
       "      <td>4</td>\n",
       "      <td>0</td>\n",
       "      <td>60</td>\n",
       "      <td>0</td>\n",
       "    </tr>\n",
       "    <tr>\n",
       "      <th>2</th>\n",
       "      <td>Sales &amp; Marketing</td>\n",
       "      <td>region_19</td>\n",
       "      <td>Bachelor's</td>\n",
       "      <td>m</td>\n",
       "      <td>sourcing</td>\n",
       "      <td>1</td>\n",
       "      <td>34</td>\n",
       "      <td>3.0</td>\n",
       "      <td>7</td>\n",
       "      <td>0</td>\n",
       "      <td>50</td>\n",
       "      <td>0</td>\n",
       "    </tr>\n",
       "    <tr>\n",
       "      <th>3</th>\n",
       "      <td>Sales &amp; Marketing</td>\n",
       "      <td>region_23</td>\n",
       "      <td>Bachelor's</td>\n",
       "      <td>m</td>\n",
       "      <td>other</td>\n",
       "      <td>2</td>\n",
       "      <td>39</td>\n",
       "      <td>1.0</td>\n",
       "      <td>10</td>\n",
       "      <td>0</td>\n",
       "      <td>50</td>\n",
       "      <td>0</td>\n",
       "    </tr>\n",
       "    <tr>\n",
       "      <th>4</th>\n",
       "      <td>Technology</td>\n",
       "      <td>region_26</td>\n",
       "      <td>Bachelor's</td>\n",
       "      <td>m</td>\n",
       "      <td>other</td>\n",
       "      <td>1</td>\n",
       "      <td>45</td>\n",
       "      <td>3.0</td>\n",
       "      <td>2</td>\n",
       "      <td>0</td>\n",
       "      <td>73</td>\n",
       "      <td>0</td>\n",
       "    </tr>\n",
       "  </tbody>\n",
       "</table>\n",
       "</div>"
      ],
      "text/plain": [
       "          department     region         education gender recruitment_channel  \\\n",
       "0  Sales & Marketing   region_7  Master's & above      f            sourcing   \n",
       "1         Operations  region_22        Bachelor's      m               other   \n",
       "2  Sales & Marketing  region_19        Bachelor's      m            sourcing   \n",
       "3  Sales & Marketing  region_23        Bachelor's      m               other   \n",
       "4         Technology  region_26        Bachelor's      m               other   \n",
       "\n",
       "   no_of_trainings  age  previous_year_rating  length_of_service  awards_won?  \\\n",
       "0                1   35                   5.0                  8            0   \n",
       "1                1   30                   5.0                  4            0   \n",
       "2                1   34                   3.0                  7            0   \n",
       "3                2   39                   1.0                 10            0   \n",
       "4                1   45                   3.0                  2            0   \n",
       "\n",
       "   avg_training_score  is_promoted  \n",
       "0                  49            0  \n",
       "1                  60            0  \n",
       "2                  50            0  \n",
       "3                  50            0  \n",
       "4                  73            0  "
      ]
     },
     "execution_count": 5,
     "metadata": {},
     "output_type": "execute_result"
    }
   ],
   "source": [
    "df.head()"
   ]
  },
  {
   "cell_type": "markdown",
   "id": "9f66308a-e5d6-4222-87a3-38a36a157222",
   "metadata": {},
   "source": [
    "- Check Datatypes"
   ]
  },
  {
   "cell_type": "code",
   "execution_count": 6,
   "id": "e6194d84-6760-4899-85bc-36b8f08b8b8a",
   "metadata": {},
   "outputs": [
    {
     "data": {
      "text/plain": [
       "department               object\n",
       "region                   object\n",
       "education                object\n",
       "gender                   object\n",
       "recruitment_channel      object\n",
       "no_of_trainings           int64\n",
       "age                       int64\n",
       "previous_year_rating    float64\n",
       "length_of_service         int64\n",
       "awards_won?               int64\n",
       "avg_training_score        int64\n",
       "is_promoted               int64\n",
       "dtype: object"
      ]
     },
     "execution_count": 6,
     "metadata": {},
     "output_type": "execute_result"
    }
   ],
   "source": [
    "df.dtypes"
   ]
  },
  {
   "cell_type": "code",
   "execution_count": 7,
   "id": "25c99897-8b07-4701-9c23-ba6d93787df2",
   "metadata": {},
   "outputs": [
    {
     "name": "stdout",
     "output_type": "stream",
     "text": [
      "<class 'pandas.core.frame.DataFrame'>\n",
      "RangeIndex: 54808 entries, 0 to 54807\n",
      "Data columns (total 12 columns):\n",
      " #   Column                Non-Null Count  Dtype  \n",
      "---  ------                --------------  -----  \n",
      " 0   department            54808 non-null  object \n",
      " 1   region                54808 non-null  object \n",
      " 2   education             52399 non-null  object \n",
      " 3   gender                54808 non-null  object \n",
      " 4   recruitment_channel   54808 non-null  object \n",
      " 5   no_of_trainings       54808 non-null  int64  \n",
      " 6   age                   54808 non-null  int64  \n",
      " 7   previous_year_rating  50684 non-null  float64\n",
      " 8   length_of_service     54808 non-null  int64  \n",
      " 9   awards_won?           54808 non-null  int64  \n",
      " 10  avg_training_score    54808 non-null  int64  \n",
      " 11  is_promoted           54808 non-null  int64  \n",
      "dtypes: float64(1), int64(6), object(5)\n",
      "memory usage: 5.0+ MB\n"
     ]
    }
   ],
   "source": [
    "df.info()"
   ]
  },
  {
   "cell_type": "markdown",
   "id": "63230e52-68ab-49a1-b30a-8060a741567c",
   "metadata": {},
   "source": [
    "- Convert Datatypes"
   ]
  },
  {
   "cell_type": "code",
   "execution_count": 8,
   "id": "e0e82f86-6a17-45b2-98a8-5f7d09b8f841",
   "metadata": {},
   "outputs": [],
   "source": [
    "df['awards_won?'] = df['awards_won?'].astype('object')"
   ]
  },
  {
   "cell_type": "code",
   "execution_count": 9,
   "id": "97127c3d-71aa-4055-a786-640cbd855c3f",
   "metadata": {},
   "outputs": [
    {
     "data": {
      "text/plain": [
       "department               object\n",
       "region                   object\n",
       "education                object\n",
       "gender                   object\n",
       "recruitment_channel      object\n",
       "no_of_trainings           int64\n",
       "age                       int64\n",
       "previous_year_rating    float64\n",
       "length_of_service         int64\n",
       "awards_won?              object\n",
       "avg_training_score        int64\n",
       "is_promoted               int64\n",
       "dtype: object"
      ]
     },
     "execution_count": 9,
     "metadata": {},
     "output_type": "execute_result"
    }
   ],
   "source": [
    "df.dtypes"
   ]
  },
  {
   "cell_type": "markdown",
   "id": "ede11177-8c92-46c0-b895-9d3689003f52",
   "metadata": {},
   "source": [
    "- Datasets Info"
   ]
  },
  {
   "cell_type": "code",
   "execution_count": 10,
   "id": "0f1787e9-bdf1-4323-ada0-ff271a0dff8f",
   "metadata": {},
   "outputs": [],
   "source": [
    "dataDesc = []\n",
    "\n",
    "for i in df.columns:\n",
    "    dataDesc.append([\n",
    "        i,\n",
    "        df[i].dtypes,\n",
    "        df[i].isna().sum(),\n",
    "        round((((df[i].isna().sum()) / len(df)) *100),2),\n",
    "        df[i].nunique(),\n",
    "        df[i].drop_duplicates().sample(2).values\n",
    "    ])"
   ]
  },
  {
   "cell_type": "code",
   "execution_count": 11,
   "id": "8401ad22-ca59-4182-984b-c8c30578e485",
   "metadata": {},
   "outputs": [
    {
     "data": {
      "text/html": [
       "<div>\n",
       "<style scoped>\n",
       "    .dataframe tbody tr th:only-of-type {\n",
       "        vertical-align: middle;\n",
       "    }\n",
       "\n",
       "    .dataframe tbody tr th {\n",
       "        vertical-align: top;\n",
       "    }\n",
       "\n",
       "    .dataframe thead th {\n",
       "        text-align: right;\n",
       "    }\n",
       "</style>\n",
       "<table border=\"1\" class=\"dataframe\">\n",
       "  <thead>\n",
       "    <tr style=\"text-align: right;\">\n",
       "      <th></th>\n",
       "      <th>Data Features</th>\n",
       "      <th>Data Type</th>\n",
       "      <th>Null</th>\n",
       "      <th>Null Percentage</th>\n",
       "      <th>Unique</th>\n",
       "      <th>Unique Sample</th>\n",
       "    </tr>\n",
       "  </thead>\n",
       "  <tbody>\n",
       "    <tr>\n",
       "      <th>0</th>\n",
       "      <td>department</td>\n",
       "      <td>object</td>\n",
       "      <td>0</td>\n",
       "      <td>0.00</td>\n",
       "      <td>9</td>\n",
       "      <td>[Technology, Analytics]</td>\n",
       "    </tr>\n",
       "    <tr>\n",
       "      <th>1</th>\n",
       "      <td>region</td>\n",
       "      <td>object</td>\n",
       "      <td>0</td>\n",
       "      <td>0.00</td>\n",
       "      <td>34</td>\n",
       "      <td>[region_22, region_1]</td>\n",
       "    </tr>\n",
       "    <tr>\n",
       "      <th>2</th>\n",
       "      <td>education</td>\n",
       "      <td>object</td>\n",
       "      <td>2409</td>\n",
       "      <td>4.40</td>\n",
       "      <td>3</td>\n",
       "      <td>[Below Secondary, Master's &amp; above]</td>\n",
       "    </tr>\n",
       "    <tr>\n",
       "      <th>3</th>\n",
       "      <td>gender</td>\n",
       "      <td>object</td>\n",
       "      <td>0</td>\n",
       "      <td>0.00</td>\n",
       "      <td>2</td>\n",
       "      <td>[f, m]</td>\n",
       "    </tr>\n",
       "    <tr>\n",
       "      <th>4</th>\n",
       "      <td>recruitment_channel</td>\n",
       "      <td>object</td>\n",
       "      <td>0</td>\n",
       "      <td>0.00</td>\n",
       "      <td>3</td>\n",
       "      <td>[other, referred]</td>\n",
       "    </tr>\n",
       "    <tr>\n",
       "      <th>5</th>\n",
       "      <td>no_of_trainings</td>\n",
       "      <td>int64</td>\n",
       "      <td>0</td>\n",
       "      <td>0.00</td>\n",
       "      <td>10</td>\n",
       "      <td>[2, 8]</td>\n",
       "    </tr>\n",
       "    <tr>\n",
       "      <th>6</th>\n",
       "      <td>age</td>\n",
       "      <td>int64</td>\n",
       "      <td>0</td>\n",
       "      <td>0.00</td>\n",
       "      <td>41</td>\n",
       "      <td>[27, 52]</td>\n",
       "    </tr>\n",
       "    <tr>\n",
       "      <th>7</th>\n",
       "      <td>previous_year_rating</td>\n",
       "      <td>float64</td>\n",
       "      <td>4124</td>\n",
       "      <td>7.52</td>\n",
       "      <td>5</td>\n",
       "      <td>[5.0, 4.0]</td>\n",
       "    </tr>\n",
       "    <tr>\n",
       "      <th>8</th>\n",
       "      <td>length_of_service</td>\n",
       "      <td>int64</td>\n",
       "      <td>0</td>\n",
       "      <td>0.00</td>\n",
       "      <td>35</td>\n",
       "      <td>[13, 2]</td>\n",
       "    </tr>\n",
       "    <tr>\n",
       "      <th>9</th>\n",
       "      <td>awards_won?</td>\n",
       "      <td>object</td>\n",
       "      <td>0</td>\n",
       "      <td>0.00</td>\n",
       "      <td>2</td>\n",
       "      <td>[1, 0]</td>\n",
       "    </tr>\n",
       "    <tr>\n",
       "      <th>10</th>\n",
       "      <td>avg_training_score</td>\n",
       "      <td>int64</td>\n",
       "      <td>0</td>\n",
       "      <td>0.00</td>\n",
       "      <td>61</td>\n",
       "      <td>[84, 79]</td>\n",
       "    </tr>\n",
       "    <tr>\n",
       "      <th>11</th>\n",
       "      <td>is_promoted</td>\n",
       "      <td>int64</td>\n",
       "      <td>0</td>\n",
       "      <td>0.00</td>\n",
       "      <td>2</td>\n",
       "      <td>[1, 0]</td>\n",
       "    </tr>\n",
       "  </tbody>\n",
       "</table>\n",
       "</div>"
      ],
      "text/plain": [
       "           Data Features Data Type  Null  Null Percentage  Unique  \\\n",
       "0             department    object     0             0.00       9   \n",
       "1                 region    object     0             0.00      34   \n",
       "2              education    object  2409             4.40       3   \n",
       "3                 gender    object     0             0.00       2   \n",
       "4    recruitment_channel    object     0             0.00       3   \n",
       "5        no_of_trainings     int64     0             0.00      10   \n",
       "6                    age     int64     0             0.00      41   \n",
       "7   previous_year_rating   float64  4124             7.52       5   \n",
       "8      length_of_service     int64     0             0.00      35   \n",
       "9            awards_won?    object     0             0.00       2   \n",
       "10    avg_training_score     int64     0             0.00      61   \n",
       "11           is_promoted     int64     0             0.00       2   \n",
       "\n",
       "                          Unique Sample  \n",
       "0               [Technology, Analytics]  \n",
       "1                 [region_22, region_1]  \n",
       "2   [Below Secondary, Master's & above]  \n",
       "3                                [f, m]  \n",
       "4                     [other, referred]  \n",
       "5                                [2, 8]  \n",
       "6                              [27, 52]  \n",
       "7                            [5.0, 4.0]  \n",
       "8                               [13, 2]  \n",
       "9                                [1, 0]  \n",
       "10                             [84, 79]  \n",
       "11                               [1, 0]  "
      ]
     },
     "execution_count": 11,
     "metadata": {},
     "output_type": "execute_result"
    }
   ],
   "source": [
    "pd.DataFrame(dataDesc,columns=[\n",
    "    \"Data Features\",\n",
    "    \"Data Type\",\n",
    "    \"Null\",\n",
    "    \"Null Percentage\",\n",
    "    \"Unique\",\n",
    "    \"Unique Sample\"\n",
    "])"
   ]
  },
  {
   "cell_type": "code",
   "execution_count": 12,
   "id": "c372f338-3963-4e8a-bcc8-2dfe7624f27e",
   "metadata": {},
   "outputs": [
    {
     "data": {
      "text/html": [
       "<div>\n",
       "<style scoped>\n",
       "    .dataframe tbody tr th:only-of-type {\n",
       "        vertical-align: middle;\n",
       "    }\n",
       "\n",
       "    .dataframe tbody tr th {\n",
       "        vertical-align: top;\n",
       "    }\n",
       "\n",
       "    .dataframe thead th {\n",
       "        text-align: right;\n",
       "    }\n",
       "</style>\n",
       "<table border=\"1\" class=\"dataframe\">\n",
       "  <thead>\n",
       "    <tr style=\"text-align: right;\">\n",
       "      <th></th>\n",
       "      <th>no_of_trainings</th>\n",
       "      <th>age</th>\n",
       "      <th>previous_year_rating</th>\n",
       "      <th>length_of_service</th>\n",
       "      <th>avg_training_score</th>\n",
       "      <th>is_promoted</th>\n",
       "    </tr>\n",
       "  </thead>\n",
       "  <tbody>\n",
       "    <tr>\n",
       "      <th>count</th>\n",
       "      <td>54808.000000</td>\n",
       "      <td>54808.000000</td>\n",
       "      <td>50684.000000</td>\n",
       "      <td>54808.000000</td>\n",
       "      <td>54808.000000</td>\n",
       "      <td>54808.000000</td>\n",
       "    </tr>\n",
       "    <tr>\n",
       "      <th>mean</th>\n",
       "      <td>1.253011</td>\n",
       "      <td>34.803915</td>\n",
       "      <td>3.329256</td>\n",
       "      <td>5.865512</td>\n",
       "      <td>63.386750</td>\n",
       "      <td>0.085170</td>\n",
       "    </tr>\n",
       "    <tr>\n",
       "      <th>std</th>\n",
       "      <td>0.609264</td>\n",
       "      <td>7.660169</td>\n",
       "      <td>1.259993</td>\n",
       "      <td>4.265094</td>\n",
       "      <td>13.371559</td>\n",
       "      <td>0.279137</td>\n",
       "    </tr>\n",
       "    <tr>\n",
       "      <th>min</th>\n",
       "      <td>1.000000</td>\n",
       "      <td>20.000000</td>\n",
       "      <td>1.000000</td>\n",
       "      <td>1.000000</td>\n",
       "      <td>39.000000</td>\n",
       "      <td>0.000000</td>\n",
       "    </tr>\n",
       "    <tr>\n",
       "      <th>25%</th>\n",
       "      <td>1.000000</td>\n",
       "      <td>29.000000</td>\n",
       "      <td>3.000000</td>\n",
       "      <td>3.000000</td>\n",
       "      <td>51.000000</td>\n",
       "      <td>0.000000</td>\n",
       "    </tr>\n",
       "    <tr>\n",
       "      <th>50%</th>\n",
       "      <td>1.000000</td>\n",
       "      <td>33.000000</td>\n",
       "      <td>3.000000</td>\n",
       "      <td>5.000000</td>\n",
       "      <td>60.000000</td>\n",
       "      <td>0.000000</td>\n",
       "    </tr>\n",
       "    <tr>\n",
       "      <th>75%</th>\n",
       "      <td>1.000000</td>\n",
       "      <td>39.000000</td>\n",
       "      <td>4.000000</td>\n",
       "      <td>7.000000</td>\n",
       "      <td>76.000000</td>\n",
       "      <td>0.000000</td>\n",
       "    </tr>\n",
       "    <tr>\n",
       "      <th>max</th>\n",
       "      <td>10.000000</td>\n",
       "      <td>60.000000</td>\n",
       "      <td>5.000000</td>\n",
       "      <td>37.000000</td>\n",
       "      <td>99.000000</td>\n",
       "      <td>1.000000</td>\n",
       "    </tr>\n",
       "  </tbody>\n",
       "</table>\n",
       "</div>"
      ],
      "text/plain": [
       "       no_of_trainings           age  previous_year_rating  length_of_service  \\\n",
       "count     54808.000000  54808.000000          50684.000000       54808.000000   \n",
       "mean          1.253011     34.803915              3.329256           5.865512   \n",
       "std           0.609264      7.660169              1.259993           4.265094   \n",
       "min           1.000000     20.000000              1.000000           1.000000   \n",
       "25%           1.000000     29.000000              3.000000           3.000000   \n",
       "50%           1.000000     33.000000              3.000000           5.000000   \n",
       "75%           1.000000     39.000000              4.000000           7.000000   \n",
       "max          10.000000     60.000000              5.000000          37.000000   \n",
       "\n",
       "       avg_training_score   is_promoted  \n",
       "count        54808.000000  54808.000000  \n",
       "mean            63.386750      0.085170  \n",
       "std             13.371559      0.279137  \n",
       "min             39.000000      0.000000  \n",
       "25%             51.000000      0.000000  \n",
       "50%             60.000000      0.000000  \n",
       "75%             76.000000      0.000000  \n",
       "max             99.000000      1.000000  "
      ]
     },
     "execution_count": 12,
     "metadata": {},
     "output_type": "execute_result"
    }
   ],
   "source": [
    "df.describe()"
   ]
  },
  {
   "cell_type": "code",
   "execution_count": 13,
   "id": "4ccb15bf-6ca6-400f-8e01-447bf5436ba5",
   "metadata": {},
   "outputs": [
    {
     "data": {
      "text/html": [
       "<div>\n",
       "<style scoped>\n",
       "    .dataframe tbody tr th:only-of-type {\n",
       "        vertical-align: middle;\n",
       "    }\n",
       "\n",
       "    .dataframe tbody tr th {\n",
       "        vertical-align: top;\n",
       "    }\n",
       "\n",
       "    .dataframe thead th {\n",
       "        text-align: right;\n",
       "    }\n",
       "</style>\n",
       "<table border=\"1\" class=\"dataframe\">\n",
       "  <thead>\n",
       "    <tr style=\"text-align: right;\">\n",
       "      <th></th>\n",
       "      <th>department</th>\n",
       "      <th>region</th>\n",
       "      <th>education</th>\n",
       "      <th>gender</th>\n",
       "      <th>recruitment_channel</th>\n",
       "      <th>awards_won?</th>\n",
       "    </tr>\n",
       "  </thead>\n",
       "  <tbody>\n",
       "    <tr>\n",
       "      <th>count</th>\n",
       "      <td>54808</td>\n",
       "      <td>54808</td>\n",
       "      <td>52399</td>\n",
       "      <td>54808</td>\n",
       "      <td>54808</td>\n",
       "      <td>54808</td>\n",
       "    </tr>\n",
       "    <tr>\n",
       "      <th>unique</th>\n",
       "      <td>9</td>\n",
       "      <td>34</td>\n",
       "      <td>3</td>\n",
       "      <td>2</td>\n",
       "      <td>3</td>\n",
       "      <td>2</td>\n",
       "    </tr>\n",
       "    <tr>\n",
       "      <th>top</th>\n",
       "      <td>Sales &amp; Marketing</td>\n",
       "      <td>region_2</td>\n",
       "      <td>Bachelor's</td>\n",
       "      <td>m</td>\n",
       "      <td>other</td>\n",
       "      <td>0</td>\n",
       "    </tr>\n",
       "    <tr>\n",
       "      <th>freq</th>\n",
       "      <td>16840</td>\n",
       "      <td>12343</td>\n",
       "      <td>36669</td>\n",
       "      <td>38496</td>\n",
       "      <td>30446</td>\n",
       "      <td>53538</td>\n",
       "    </tr>\n",
       "  </tbody>\n",
       "</table>\n",
       "</div>"
      ],
      "text/plain": [
       "               department    region   education gender recruitment_channel  \\\n",
       "count               54808     54808       52399  54808               54808   \n",
       "unique                  9        34           3      2                   3   \n",
       "top     Sales & Marketing  region_2  Bachelor's      m               other   \n",
       "freq                16840     12343       36669  38496               30446   \n",
       "\n",
       "        awards_won?  \n",
       "count         54808  \n",
       "unique            2  \n",
       "top               0  \n",
       "freq          53538  "
      ]
     },
     "execution_count": 13,
     "metadata": {},
     "output_type": "execute_result"
    }
   ],
   "source": [
    "df.describe(include='O')"
   ]
  },
  {
   "cell_type": "markdown",
   "id": "1b000319-4b09-4e80-95bf-bc48637f9093",
   "metadata": {},
   "source": [
    "- Check Missing Value"
   ]
  },
  {
   "cell_type": "code",
   "execution_count": 14,
   "id": "fdeeb515-3214-40a0-a97c-7ddb3d4df0a1",
   "metadata": {},
   "outputs": [
    {
     "data": {
      "text/plain": [
       "department                 0\n",
       "region                     0\n",
       "education               2409\n",
       "gender                     0\n",
       "recruitment_channel        0\n",
       "no_of_trainings            0\n",
       "age                        0\n",
       "previous_year_rating    4124\n",
       "length_of_service          0\n",
       "awards_won?                0\n",
       "avg_training_score         0\n",
       "is_promoted                0\n",
       "dtype: int64"
      ]
     },
     "execution_count": 14,
     "metadata": {},
     "output_type": "execute_result"
    }
   ],
   "source": [
    "df.isna().sum()"
   ]
  },
  {
   "cell_type": "code",
   "execution_count": 15,
   "id": "abec7d40-11c6-4f04-bec5-5a4ddd35903d",
   "metadata": {},
   "outputs": [
    {
     "data": {
      "image/png": "[encoded data removed]",
      "text/plain": [
       "<Figure size 936x576 with 1 Axes>"
      ]
     },
     "metadata": {
      "needs_background": "light"
     },
     "output_type": "display_data"
    }
   ],
   "source": [
    "plt.figure(figsize=(13,8))\n",
    "sns.heatmap(df.isna(),cmap='cividis',yticklabels=False,cbar=False)\n",
    "plt.show()"
   ]
  },
  {
   "cell_type": "markdown",
   "id": "9d583169-04ca-4e1f-a75b-e3d39e38ed6e",
   "metadata": {},
   "source": [
    "- Check Imbalance"
   ]
  },
  {
   "cell_type": "code",
   "execution_count": 16,
   "id": "0c070283-c1e8-463d-9c4a-f76c8016f23a",
   "metadata": {},
   "outputs": [
    {
     "data": {
      "text/html": [
       "<div>\n",
       "<style scoped>\n",
       "    .dataframe tbody tr th:only-of-type {\n",
       "        vertical-align: middle;\n",
       "    }\n",
       "\n",
       "    .dataframe tbody tr th {\n",
       "        vertical-align: top;\n",
       "    }\n",
       "\n",
       "    .dataframe thead th {\n",
       "        text-align: right;\n",
       "    }\n",
       "</style>\n",
       "<table border=\"1\" class=\"dataframe\">\n",
       "  <thead>\n",
       "    <tr style=\"text-align: right;\">\n",
       "      <th>col_0</th>\n",
       "      <th>Percentage</th>\n",
       "    </tr>\n",
       "    <tr>\n",
       "      <th>is_promoted</th>\n",
       "      <th></th>\n",
       "    </tr>\n",
       "  </thead>\n",
       "  <tbody>\n",
       "    <tr>\n",
       "      <th>0</th>\n",
       "      <td>91.48</td>\n",
       "    </tr>\n",
       "    <tr>\n",
       "      <th>1</th>\n",
       "      <td>8.52</td>\n",
       "    </tr>\n",
       "  </tbody>\n",
       "</table>\n",
       "</div>"
      ],
      "text/plain": [
       "col_0        Percentage\n",
       "is_promoted            \n",
       "0                 91.48\n",
       "1                  8.52"
      ]
     },
     "execution_count": 16,
     "metadata": {},
     "output_type": "execute_result"
    }
   ],
   "source": [
    "(pd.crosstab(index=df['is_promoted'],columns='Percentage',normalize=True)*100).round(2) # Datasets are Imbalance"
   ]
  },
  {
   "cell_type": "markdown",
   "id": "f6b8a2c2-ffb0-4d86-8325-10993fa15658",
   "metadata": {},
   "source": [
    "# Exploratory Data Analysis"
   ]
  },
  {
   "cell_type": "markdown",
   "id": "9572db57-7838-4ba4-a006-5a1bf130809d",
   "metadata": {},
   "source": [
    "- Initial Hypothesis\n",
    "    - Feature Department, Region, Education, Gender, Recruitment Channel, Number of Trainings, Age, Previous Year Training,\n",
    "        Length of Service, Awards Won, Average Training Source will affect the Employee Promotion"
   ]
  },
  {
   "cell_type": "code",
   "execution_count": 17,
   "id": "fd47eb15-60ee-4031-bd2d-de0165d78a0a",
   "metadata": {},
   "outputs": [
    {
     "data": {
      "text/html": [
       "<div>\n",
       "<style scoped>\n",
       "    .dataframe tbody tr th:only-of-type {\n",
       "        vertical-align: middle;\n",
       "    }\n",
       "\n",
       "    .dataframe tbody tr th {\n",
       "        vertical-align: top;\n",
       "    }\n",
       "\n",
       "    .dataframe thead th {\n",
       "        text-align: right;\n",
       "    }\n",
       "</style>\n",
       "<table border=\"1\" class=\"dataframe\">\n",
       "  <thead>\n",
       "    <tr style=\"text-align: right;\">\n",
       "      <th></th>\n",
       "      <th>department</th>\n",
       "      <th>region</th>\n",
       "      <th>education</th>\n",
       "      <th>gender</th>\n",
       "      <th>recruitment_channel</th>\n",
       "      <th>no_of_trainings</th>\n",
       "      <th>age</th>\n",
       "      <th>previous_year_rating</th>\n",
       "      <th>length_of_service</th>\n",
       "      <th>awards_won?</th>\n",
       "      <th>avg_training_score</th>\n",
       "      <th>is_promoted</th>\n",
       "    </tr>\n",
       "  </thead>\n",
       "  <tbody>\n",
       "    <tr>\n",
       "      <th>0</th>\n",
       "      <td>Sales &amp; Marketing</td>\n",
       "      <td>region_7</td>\n",
       "      <td>Master's &amp; above</td>\n",
       "      <td>f</td>\n",
       "      <td>sourcing</td>\n",
       "      <td>1</td>\n",
       "      <td>35</td>\n",
       "      <td>5.0</td>\n",
       "      <td>8</td>\n",
       "      <td>0</td>\n",
       "      <td>49</td>\n",
       "      <td>0</td>\n",
       "    </tr>\n",
       "    <tr>\n",
       "      <th>1</th>\n",
       "      <td>Operations</td>\n",
       "      <td>region_22</td>\n",
       "      <td>Bachelor's</td>\n",
       "      <td>m</td>\n",
       "      <td>other</td>\n",
       "      <td>1</td>\n",
       "      <td>30</td>\n",
       "      <td>5.0</td>\n",
       "      <td>4</td>\n",
       "      <td>0</td>\n",
       "      <td>60</td>\n",
       "      <td>0</td>\n",
       "    </tr>\n",
       "    <tr>\n",
       "      <th>2</th>\n",
       "      <td>Sales &amp; Marketing</td>\n",
       "      <td>region_19</td>\n",
       "      <td>Bachelor's</td>\n",
       "      <td>m</td>\n",
       "      <td>sourcing</td>\n",
       "      <td>1</td>\n",
       "      <td>34</td>\n",
       "      <td>3.0</td>\n",
       "      <td>7</td>\n",
       "      <td>0</td>\n",
       "      <td>50</td>\n",
       "      <td>0</td>\n",
       "    </tr>\n",
       "    <tr>\n",
       "      <th>3</th>\n",
       "      <td>Sales &amp; Marketing</td>\n",
       "      <td>region_23</td>\n",
       "      <td>Bachelor's</td>\n",
       "      <td>m</td>\n",
       "      <td>other</td>\n",
       "      <td>2</td>\n",
       "      <td>39</td>\n",
       "      <td>1.0</td>\n",
       "      <td>10</td>\n",
       "      <td>0</td>\n",
       "      <td>50</td>\n",
       "      <td>0</td>\n",
       "    </tr>\n",
       "    <tr>\n",
       "      <th>4</th>\n",
       "      <td>Technology</td>\n",
       "      <td>region_26</td>\n",
       "      <td>Bachelor's</td>\n",
       "      <td>m</td>\n",
       "      <td>other</td>\n",
       "      <td>1</td>\n",
       "      <td>45</td>\n",
       "      <td>3.0</td>\n",
       "      <td>2</td>\n",
       "      <td>0</td>\n",
       "      <td>73</td>\n",
       "      <td>0</td>\n",
       "    </tr>\n",
       "  </tbody>\n",
       "</table>\n",
       "</div>"
      ],
      "text/plain": [
       "          department     region         education gender recruitment_channel  \\\n",
       "0  Sales & Marketing   region_7  Master's & above      f            sourcing   \n",
       "1         Operations  region_22        Bachelor's      m               other   \n",
       "2  Sales & Marketing  region_19        Bachelor's      m            sourcing   \n",
       "3  Sales & Marketing  region_23        Bachelor's      m               other   \n",
       "4         Technology  region_26        Bachelor's      m               other   \n",
       "\n",
       "   no_of_trainings  age  previous_year_rating  length_of_service awards_won?  \\\n",
       "0                1   35                   5.0                  8           0   \n",
       "1                1   30                   5.0                  4           0   \n",
       "2                1   34                   3.0                  7           0   \n",
       "3                2   39                   1.0                 10           0   \n",
       "4                1   45                   3.0                  2           0   \n",
       "\n",
       "   avg_training_score  is_promoted  \n",
       "0                  49            0  \n",
       "1                  60            0  \n",
       "2                  50            0  \n",
       "3                  50            0  \n",
       "4                  73            0  "
      ]
     },
     "execution_count": 17,
     "metadata": {},
     "output_type": "execute_result"
    }
   ],
   "source": [
    "df.head()"
   ]
  },
  {
   "cell_type": "markdown",
   "id": "59dfcb99-37eb-4e24-ab9f-400e721b77e9",
   "metadata": {},
   "source": [
    "- Data Distribution (For Numerical Continuous Data)"
   ]
  },
  {
   "cell_type": "code",
   "execution_count": 18,
   "id": "19efac29-636e-4f17-8df2-426d162345f1",
   "metadata": {},
   "outputs": [
    {
     "name": "stdout",
     "output_type": "stream",
     "text": [
      "<class 'pandas.core.frame.DataFrame'>\n",
      "RangeIndex: 54808 entries, 0 to 54807\n",
      "Data columns (total 12 columns):\n",
      " #   Column                Non-Null Count  Dtype  \n",
      "---  ------                --------------  -----  \n",
      " 0   department            54808 non-null  object \n",
      " 1   region                54808 non-null  object \n",
      " 2   education             52399 non-null  object \n",
      " 3   gender                54808 non-null  object \n",
      " 4   recruitment_channel   54808 non-null  object \n",
      " 5   no_of_trainings       54808 non-null  int64  \n",
      " 6   age                   54808 non-null  int64  \n",
      " 7   previous_year_rating  50684 non-null  float64\n",
      " 8   length_of_service     54808 non-null  int64  \n",
      " 9   awards_won?           54808 non-null  object \n",
      " 10  avg_training_score    54808 non-null  int64  \n",
      " 11  is_promoted           54808 non-null  int64  \n",
      "dtypes: float64(1), int64(5), object(6)\n",
      "memory usage: 5.0+ MB\n"
     ]
    }
   ],
   "source": [
    "df.info()"
   ]
  },
  {
   "cell_type": "markdown",
   "id": "5df9fd5a-0c6e-4f2d-bcf0-723bc3f8a6c4",
   "metadata": {},
   "source": [
    "- Data Distribution (No of Trainings Feature)\n",
    "    - Divided into two categorical (Promoted and Not Promoted)"
   ]
  },
  {
   "cell_type": "code",
   "execution_count": 19,
   "id": "91d17be0-98ef-4dad-81b5-77cb8b67fae2",
   "metadata": {},
   "outputs": [
    {
     "data": {
      "image/png": "[encoded data removed]",
      "text/plain": [
       "<Figure size 936x576 with 1 Axes>"
      ]
     },
     "metadata": {
      "needs_background": "light"
     },
     "output_type": "display_data"
    }
   ],
   "source": [
    "plt.figure(figsize=(13,8))\n",
    "plt.title('Data Dsitribution (No of Trainings)')\n",
    "sns.histplot(df[df['is_promoted']==1]['no_of_trainings'],bins=9);\n",
    "sns.histplot(df[df['is_promoted']==0]['no_of_trainings']);"
   ]
  },
  {
   "cell_type": "markdown",
   "id": "713ff696-1552-4177-ac2c-46f2b0fdc60e",
   "metadata": {},
   "source": [
    "- Data Distribution (Age Feature)\n",
    "    - Divided into two categorical (Promoted and Not Promoted)"
   ]
  },
  {
   "cell_type": "code",
   "execution_count": 20,
   "id": "b9ea12e7-9d79-4d20-99e7-b154164675ad",
   "metadata": {},
   "outputs": [
    {
     "data": {
      "image/png": "[encoded data removed]",
      "text/plain": [
       "<Figure size 936x576 with 1 Axes>"
      ]
     },
     "metadata": {
      "needs_background": "light"
     },
     "output_type": "display_data"
    }
   ],
   "source": [
    "plt.figure(figsize=(13,8))\n",
    "plt.title('Data Dsitribution (Age)')\n",
    "sns.histplot(df[df['is_promoted']==1]['age'],bins=15,kde=True);\n",
    "sns.histplot(df[df['is_promoted']==0]['age'],bins=15,kde=True);"
   ]
  },
  {
   "cell_type": "markdown",
   "id": "fa93a7e6-0fdc-4e9e-a511-d8dcd104cd83",
   "metadata": {},
   "source": [
    "- Data Distribution (Previous Year Rating Feature)\n",
    "    - Divided into two categorical (Promoted and Not Promoted)"
   ]
  },
  {
   "cell_type": "code",
   "execution_count": 21,
   "id": "5ed25706-fbfc-4493-93e9-30e74f4aaa9b",
   "metadata": {},
   "outputs": [
    {
     "data": {
      "image/png": "[encoded data removed]",
      "text/plain": [
       "<Figure size 936x576 with 1 Axes>"
      ]
     },
     "metadata": {
      "needs_background": "light"
     },
     "output_type": "display_data"
    }
   ],
   "source": [
    "plt.figure(figsize=(13,8))\n",
    "plt.title('Data Dsitribution (Previous Year Rating)')\n",
    "sns.histplot(df[df['is_promoted']==1]['previous_year_rating'],bins=5,kde=True);\n",
    "sns.histplot(df[df['is_promoted']==0]['previous_year_rating'],bins=5,kde=True);"
   ]
  },
  {
   "cell_type": "markdown",
   "id": "200e2770-d845-46b2-9078-0760515d81cd",
   "metadata": {},
   "source": [
    "- Data Distribution (Length of Service Feature)\n",
    "    - Divided into two categorical (Promoted and Not Promoted)"
   ]
  },
  {
   "cell_type": "code",
   "execution_count": 22,
   "id": "c2cc11c8-c86b-44ff-a91d-b4bb911efda0",
   "metadata": {},
   "outputs": [
    {
     "data": {
      "image/png": "[encoded data removed]",
      "text/plain": [
       "<Figure size 936x576 with 1 Axes>"
      ]
     },
     "metadata": {
      "needs_background": "light"
     },
     "output_type": "display_data"
    }
   ],
   "source": [
    "plt.figure(figsize=(13,8))\n",
    "plt.title('Data Dsitribution (Length Of Service)')\n",
    "sns.histplot(df[df['is_promoted']==1]['length_of_service'],kde=True);\n",
    "sns.histplot(df[df['is_promoted']==0]['length_of_service'],kde=True);"
   ]
  },
  {
   "cell_type": "markdown",
   "id": "a7bdf258-16ac-458d-b51f-f01292e89f70",
   "metadata": {},
   "source": [
    "- Data Distribution (Avg Training Score Feature)\n",
    "    - Divided into two categorical (Promoted and Not Promoted)"
   ]
  },
  {
   "cell_type": "code",
   "execution_count": 23,
   "id": "89f21dd7-4206-4b32-9ca0-450d92165562",
   "metadata": {},
   "outputs": [
    {
     "data": {
      "image/png": "[encoded data removed]",
      "text/plain": [
       "<Figure size 936x576 with 1 Axes>"
      ]
     },
     "metadata": {
      "needs_background": "light"
     },
     "output_type": "display_data"
    }
   ],
   "source": [
    "plt.figure(figsize=(13,8))\n",
    "plt.title('Data Dsitribution (Average Training Score)')\n",
    "sns.histplot(df[df['is_promoted']==1]['avg_training_score'],bins=25,kde=True);\n",
    "sns.histplot(df[df['is_promoted']==0]['avg_training_score'],bins=25,kde=True);"
   ]
  },
  {
   "cell_type": "markdown",
   "id": "f7292a32-6e08-4d11-985b-53bc07c32fa5",
   "metadata": {},
   "source": [
    "- Data Cardinalities (For Categorical Data)"
   ]
  },
  {
   "cell_type": "markdown",
   "id": "6ed772eb-df18-4bb3-a263-932d7adddb86",
   "metadata": {},
   "source": [
    "- Data Cardinalities (Department Features)"
   ]
  },
  {
   "cell_type": "code",
   "execution_count": 24,
   "id": "7c3f2fa3-cf79-43b5-89c9-21c521f2b789",
   "metadata": {},
   "outputs": [
    {
     "data": {
      "text/html": [
       "<div>\n",
       "<style scoped>\n",
       "    .dataframe tbody tr th:only-of-type {\n",
       "        vertical-align: middle;\n",
       "    }\n",
       "\n",
       "    .dataframe tbody tr th {\n",
       "        vertical-align: top;\n",
       "    }\n",
       "\n",
       "    .dataframe thead th {\n",
       "        text-align: right;\n",
       "    }\n",
       "</style>\n",
       "<table border=\"1\" class=\"dataframe\">\n",
       "  <thead>\n",
       "    <tr style=\"text-align: right;\">\n",
       "      <th>col_0</th>\n",
       "      <th>Count</th>\n",
       "    </tr>\n",
       "    <tr>\n",
       "      <th>department</th>\n",
       "      <th></th>\n",
       "    </tr>\n",
       "  </thead>\n",
       "  <tbody>\n",
       "    <tr>\n",
       "      <th>Sales &amp; Marketing</th>\n",
       "      <td>16840</td>\n",
       "    </tr>\n",
       "    <tr>\n",
       "      <th>Operations</th>\n",
       "      <td>11348</td>\n",
       "    </tr>\n",
       "    <tr>\n",
       "      <th>Procurement</th>\n",
       "      <td>7138</td>\n",
       "    </tr>\n",
       "    <tr>\n",
       "      <th>Technology</th>\n",
       "      <td>7138</td>\n",
       "    </tr>\n",
       "    <tr>\n",
       "      <th>Analytics</th>\n",
       "      <td>5352</td>\n",
       "    </tr>\n",
       "    <tr>\n",
       "      <th>Finance</th>\n",
       "      <td>2536</td>\n",
       "    </tr>\n",
       "    <tr>\n",
       "      <th>HR</th>\n",
       "      <td>2418</td>\n",
       "    </tr>\n",
       "    <tr>\n",
       "      <th>Legal</th>\n",
       "      <td>1039</td>\n",
       "    </tr>\n",
       "    <tr>\n",
       "      <th>R&amp;D</th>\n",
       "      <td>999</td>\n",
       "    </tr>\n",
       "  </tbody>\n",
       "</table>\n",
       "</div>"
      ],
      "text/plain": [
       "col_0              Count\n",
       "department              \n",
       "Sales & Marketing  16840\n",
       "Operations         11348\n",
       "Procurement         7138\n",
       "Technology          7138\n",
       "Analytics           5352\n",
       "Finance             2536\n",
       "HR                  2418\n",
       "Legal               1039\n",
       "R&D                  999"
      ]
     },
     "execution_count": 24,
     "metadata": {},
     "output_type": "execute_result"
    }
   ],
   "source": [
    "pd.crosstab(index=df['department'],columns='Count').sort_values('Count',ascending =False)"
   ]
  },
  {
   "cell_type": "markdown",
   "id": "8d82a635-7e5a-419d-a882-b22df17ace2d",
   "metadata": {},
   "source": [
    "- Data Cardinalities (Region Features)"
   ]
  },
  {
   "cell_type": "code",
   "execution_count": 25,
   "id": "ad49bde9-c381-47e6-808e-a892e1be7bf5",
   "metadata": {},
   "outputs": [
    {
     "data": {
      "text/html": [
       "<div>\n",
       "<style scoped>\n",
       "    .dataframe tbody tr th:only-of-type {\n",
       "        vertical-align: middle;\n",
       "    }\n",
       "\n",
       "    .dataframe tbody tr th {\n",
       "        vertical-align: top;\n",
       "    }\n",
       "\n",
       "    .dataframe thead th {\n",
       "        text-align: right;\n",
       "    }\n",
       "</style>\n",
       "<table border=\"1\" class=\"dataframe\">\n",
       "  <thead>\n",
       "    <tr style=\"text-align: right;\">\n",
       "      <th>col_0</th>\n",
       "      <th>Count</th>\n",
       "    </tr>\n",
       "    <tr>\n",
       "      <th>region</th>\n",
       "      <th></th>\n",
       "    </tr>\n",
       "  </thead>\n",
       "  <tbody>\n",
       "    <tr>\n",
       "      <th>region_2</th>\n",
       "      <td>12343</td>\n",
       "    </tr>\n",
       "    <tr>\n",
       "      <th>region_22</th>\n",
       "      <td>6428</td>\n",
       "    </tr>\n",
       "    <tr>\n",
       "      <th>region_7</th>\n",
       "      <td>4843</td>\n",
       "    </tr>\n",
       "    <tr>\n",
       "      <th>region_15</th>\n",
       "      <td>2808</td>\n",
       "    </tr>\n",
       "    <tr>\n",
       "      <th>region_13</th>\n",
       "      <td>2648</td>\n",
       "    </tr>\n",
       "    <tr>\n",
       "      <th>region_26</th>\n",
       "      <td>2260</td>\n",
       "    </tr>\n",
       "    <tr>\n",
       "      <th>region_31</th>\n",
       "      <td>1935</td>\n",
       "    </tr>\n",
       "    <tr>\n",
       "      <th>region_4</th>\n",
       "      <td>1703</td>\n",
       "    </tr>\n",
       "    <tr>\n",
       "      <th>region_27</th>\n",
       "      <td>1659</td>\n",
       "    </tr>\n",
       "    <tr>\n",
       "      <th>region_16</th>\n",
       "      <td>1465</td>\n",
       "    </tr>\n",
       "    <tr>\n",
       "      <th>region_28</th>\n",
       "      <td>1318</td>\n",
       "    </tr>\n",
       "    <tr>\n",
       "      <th>region_11</th>\n",
       "      <td>1315</td>\n",
       "    </tr>\n",
       "    <tr>\n",
       "      <th>region_23</th>\n",
       "      <td>1175</td>\n",
       "    </tr>\n",
       "    <tr>\n",
       "      <th>region_29</th>\n",
       "      <td>994</td>\n",
       "    </tr>\n",
       "    <tr>\n",
       "      <th>region_32</th>\n",
       "      <td>945</td>\n",
       "    </tr>\n",
       "    <tr>\n",
       "      <th>region_19</th>\n",
       "      <td>874</td>\n",
       "    </tr>\n",
       "    <tr>\n",
       "      <th>region_20</th>\n",
       "      <td>850</td>\n",
       "    </tr>\n",
       "    <tr>\n",
       "      <th>region_14</th>\n",
       "      <td>827</td>\n",
       "    </tr>\n",
       "    <tr>\n",
       "      <th>region_25</th>\n",
       "      <td>819</td>\n",
       "    </tr>\n",
       "    <tr>\n",
       "      <th>region_17</th>\n",
       "      <td>796</td>\n",
       "    </tr>\n",
       "    <tr>\n",
       "      <th>region_5</th>\n",
       "      <td>766</td>\n",
       "    </tr>\n",
       "    <tr>\n",
       "      <th>region_6</th>\n",
       "      <td>690</td>\n",
       "    </tr>\n",
       "    <tr>\n",
       "      <th>region_30</th>\n",
       "      <td>657</td>\n",
       "    </tr>\n",
       "    <tr>\n",
       "      <th>region_8</th>\n",
       "      <td>655</td>\n",
       "    </tr>\n",
       "    <tr>\n",
       "      <th>region_10</th>\n",
       "      <td>648</td>\n",
       "    </tr>\n",
       "    <tr>\n",
       "      <th>region_1</th>\n",
       "      <td>610</td>\n",
       "    </tr>\n",
       "    <tr>\n",
       "      <th>region_24</th>\n",
       "      <td>508</td>\n",
       "    </tr>\n",
       "    <tr>\n",
       "      <th>region_12</th>\n",
       "      <td>500</td>\n",
       "    </tr>\n",
       "    <tr>\n",
       "      <th>region_9</th>\n",
       "      <td>420</td>\n",
       "    </tr>\n",
       "    <tr>\n",
       "      <th>region_21</th>\n",
       "      <td>411</td>\n",
       "    </tr>\n",
       "    <tr>\n",
       "      <th>region_3</th>\n",
       "      <td>346</td>\n",
       "    </tr>\n",
       "    <tr>\n",
       "      <th>region_34</th>\n",
       "      <td>292</td>\n",
       "    </tr>\n",
       "    <tr>\n",
       "      <th>region_33</th>\n",
       "      <td>269</td>\n",
       "    </tr>\n",
       "    <tr>\n",
       "      <th>region_18</th>\n",
       "      <td>31</td>\n",
       "    </tr>\n",
       "  </tbody>\n",
       "</table>\n",
       "</div>"
      ],
      "text/plain": [
       "col_0      Count\n",
       "region          \n",
       "region_2   12343\n",
       "region_22   6428\n",
       "region_7    4843\n",
       "region_15   2808\n",
       "region_13   2648\n",
       "region_26   2260\n",
       "region_31   1935\n",
       "region_4    1703\n",
       "region_27   1659\n",
       "region_16   1465\n",
       "region_28   1318\n",
       "region_11   1315\n",
       "region_23   1175\n",
       "region_29    994\n",
       "region_32    945\n",
       "region_19    874\n",
       "region_20    850\n",
       "region_14    827\n",
       "region_25    819\n",
       "region_17    796\n",
       "region_5     766\n",
       "region_6     690\n",
       "region_30    657\n",
       "region_8     655\n",
       "region_10    648\n",
       "region_1     610\n",
       "region_24    508\n",
       "region_12    500\n",
       "region_9     420\n",
       "region_21    411\n",
       "region_3     346\n",
       "region_34    292\n",
       "region_33    269\n",
       "region_18     31"
      ]
     },
     "execution_count": 25,
     "metadata": {},
     "output_type": "execute_result"
    }
   ],
   "source": [
    "pd.crosstab(index=df['region'],columns='Count').sort_values('Count',ascending =False)"
   ]
  },
  {
   "cell_type": "markdown",
   "id": "a31273c7-91da-45ee-afcd-99fb5ef67ce2",
   "metadata": {},
   "source": [
    "- Data Cardinalities (Education Features)"
   ]
  },
  {
   "cell_type": "code",
   "execution_count": 26,
   "id": "c29e1d5d-6a96-4d1f-a1e1-9240bdff6d02",
   "metadata": {},
   "outputs": [
    {
     "data": {
      "text/html": [
       "<div>\n",
       "<style scoped>\n",
       "    .dataframe tbody tr th:only-of-type {\n",
       "        vertical-align: middle;\n",
       "    }\n",
       "\n",
       "    .dataframe tbody tr th {\n",
       "        vertical-align: top;\n",
       "    }\n",
       "\n",
       "    .dataframe thead th {\n",
       "        text-align: right;\n",
       "    }\n",
       "</style>\n",
       "<table border=\"1\" class=\"dataframe\">\n",
       "  <thead>\n",
       "    <tr style=\"text-align: right;\">\n",
       "      <th>col_0</th>\n",
       "      <th>Count</th>\n",
       "    </tr>\n",
       "    <tr>\n",
       "      <th>education</th>\n",
       "      <th></th>\n",
       "    </tr>\n",
       "  </thead>\n",
       "  <tbody>\n",
       "    <tr>\n",
       "      <th>Bachelor's</th>\n",
       "      <td>36669</td>\n",
       "    </tr>\n",
       "    <tr>\n",
       "      <th>Master's &amp; above</th>\n",
       "      <td>14925</td>\n",
       "    </tr>\n",
       "    <tr>\n",
       "      <th>Below Secondary</th>\n",
       "      <td>805</td>\n",
       "    </tr>\n",
       "  </tbody>\n",
       "</table>\n",
       "</div>"
      ],
      "text/plain": [
       "col_0             Count\n",
       "education              \n",
       "Bachelor's        36669\n",
       "Master's & above  14925\n",
       "Below Secondary     805"
      ]
     },
     "execution_count": 26,
     "metadata": {},
     "output_type": "execute_result"
    }
   ],
   "source": [
    "pd.crosstab(index=df['education'],columns='Count').sort_values('Count',ascending =False)"
   ]
  },
  {
   "cell_type": "markdown",
   "id": "dc610694-341b-4a7e-b00f-8cd46e705b85",
   "metadata": {},
   "source": [
    "- Data Cardinalities (Gender Features)"
   ]
  },
  {
   "cell_type": "code",
   "execution_count": 27,
   "id": "8c635d9b-3ba7-4eb9-bf93-1e475ad858a1",
   "metadata": {},
   "outputs": [
    {
     "data": {
      "text/html": [
       "<div>\n",
       "<style scoped>\n",
       "    .dataframe tbody tr th:only-of-type {\n",
       "        vertical-align: middle;\n",
       "    }\n",
       "\n",
       "    .dataframe tbody tr th {\n",
       "        vertical-align: top;\n",
       "    }\n",
       "\n",
       "    .dataframe thead th {\n",
       "        text-align: right;\n",
       "    }\n",
       "</style>\n",
       "<table border=\"1\" class=\"dataframe\">\n",
       "  <thead>\n",
       "    <tr style=\"text-align: right;\">\n",
       "      <th>col_0</th>\n",
       "      <th>Count</th>\n",
       "    </tr>\n",
       "    <tr>\n",
       "      <th>gender</th>\n",
       "      <th></th>\n",
       "    </tr>\n",
       "  </thead>\n",
       "  <tbody>\n",
       "    <tr>\n",
       "      <th>m</th>\n",
       "      <td>38496</td>\n",
       "    </tr>\n",
       "    <tr>\n",
       "      <th>f</th>\n",
       "      <td>16312</td>\n",
       "    </tr>\n",
       "  </tbody>\n",
       "</table>\n",
       "</div>"
      ],
      "text/plain": [
       "col_0   Count\n",
       "gender       \n",
       "m       38496\n",
       "f       16312"
      ]
     },
     "execution_count": 27,
     "metadata": {},
     "output_type": "execute_result"
    }
   ],
   "source": [
    "pd.crosstab(index=df['gender'],columns='Count').sort_values('Count',ascending =False)"
   ]
  },
  {
   "cell_type": "markdown",
   "id": "33f52336-afa6-4b37-b548-f1d69daf99af",
   "metadata": {},
   "source": [
    "- Data Cardinalities (Recruitment Channel Features)"
   ]
  },
  {
   "cell_type": "code",
   "execution_count": 28,
   "id": "29d11800-e092-446f-97fa-6a60b56f10f3",
   "metadata": {},
   "outputs": [
    {
     "data": {
      "text/html": [
       "<div>\n",
       "<style scoped>\n",
       "    .dataframe tbody tr th:only-of-type {\n",
       "        vertical-align: middle;\n",
       "    }\n",
       "\n",
       "    .dataframe tbody tr th {\n",
       "        vertical-align: top;\n",
       "    }\n",
       "\n",
       "    .dataframe thead th {\n",
       "        text-align: right;\n",
       "    }\n",
       "</style>\n",
       "<table border=\"1\" class=\"dataframe\">\n",
       "  <thead>\n",
       "    <tr style=\"text-align: right;\">\n",
       "      <th>col_0</th>\n",
       "      <th>Count</th>\n",
       "    </tr>\n",
       "    <tr>\n",
       "      <th>recruitment_channel</th>\n",
       "      <th></th>\n",
       "    </tr>\n",
       "  </thead>\n",
       "  <tbody>\n",
       "    <tr>\n",
       "      <th>other</th>\n",
       "      <td>30446</td>\n",
       "    </tr>\n",
       "    <tr>\n",
       "      <th>sourcing</th>\n",
       "      <td>23220</td>\n",
       "    </tr>\n",
       "    <tr>\n",
       "      <th>referred</th>\n",
       "      <td>1142</td>\n",
       "    </tr>\n",
       "  </tbody>\n",
       "</table>\n",
       "</div>"
      ],
      "text/plain": [
       "col_0                Count\n",
       "recruitment_channel       \n",
       "other                30446\n",
       "sourcing             23220\n",
       "referred              1142"
      ]
     },
     "execution_count": 28,
     "metadata": {},
     "output_type": "execute_result"
    }
   ],
   "source": [
    "pd.crosstab(index=df['recruitment_channel'],columns='Count').sort_values('Count',ascending =False)"
   ]
  },
  {
   "cell_type": "markdown",
   "id": "55d303f3-ec25-4cd2-abc5-2f9b6754baee",
   "metadata": {},
   "source": [
    "- Data Cardinalities (Awards Won Features)"
   ]
  },
  {
   "cell_type": "code",
   "execution_count": 29,
   "id": "a6d30afc-e971-439f-b970-ca032bde586d",
   "metadata": {},
   "outputs": [
    {
     "data": {
      "text/html": [
       "<div>\n",
       "<style scoped>\n",
       "    .dataframe tbody tr th:only-of-type {\n",
       "        vertical-align: middle;\n",
       "    }\n",
       "\n",
       "    .dataframe tbody tr th {\n",
       "        vertical-align: top;\n",
       "    }\n",
       "\n",
       "    .dataframe thead th {\n",
       "        text-align: right;\n",
       "    }\n",
       "</style>\n",
       "<table border=\"1\" class=\"dataframe\">\n",
       "  <thead>\n",
       "    <tr style=\"text-align: right;\">\n",
       "      <th>col_0</th>\n",
       "      <th>Count</th>\n",
       "    </tr>\n",
       "    <tr>\n",
       "      <th>awards_won?</th>\n",
       "      <th></th>\n",
       "    </tr>\n",
       "  </thead>\n",
       "  <tbody>\n",
       "    <tr>\n",
       "      <th>0</th>\n",
       "      <td>53538</td>\n",
       "    </tr>\n",
       "    <tr>\n",
       "      <th>1</th>\n",
       "      <td>1270</td>\n",
       "    </tr>\n",
       "  </tbody>\n",
       "</table>\n",
       "</div>"
      ],
      "text/plain": [
       "col_0        Count\n",
       "awards_won?       \n",
       "0            53538\n",
       "1             1270"
      ]
     },
     "execution_count": 29,
     "metadata": {},
     "output_type": "execute_result"
    }
   ],
   "source": [
    "pd.crosstab(index=df['awards_won?'],columns='Count').sort_values('Count',ascending =False)"
   ]
  },
  {
   "cell_type": "markdown",
   "id": "38ed9756-0cc9-4677-8305-62c6dc9992c7",
   "metadata": {},
   "source": [
    "- Data Cardinalities (Promoted (Target) Features)"
   ]
  },
  {
   "cell_type": "code",
   "execution_count": 30,
   "id": "8ead0c8b-15c9-423c-a310-62eb1e414097",
   "metadata": {},
   "outputs": [
    {
     "data": {
      "text/html": [
       "<div>\n",
       "<style scoped>\n",
       "    .dataframe tbody tr th:only-of-type {\n",
       "        vertical-align: middle;\n",
       "    }\n",
       "\n",
       "    .dataframe tbody tr th {\n",
       "        vertical-align: top;\n",
       "    }\n",
       "\n",
       "    .dataframe thead th {\n",
       "        text-align: right;\n",
       "    }\n",
       "</style>\n",
       "<table border=\"1\" class=\"dataframe\">\n",
       "  <thead>\n",
       "    <tr style=\"text-align: right;\">\n",
       "      <th>col_0</th>\n",
       "      <th>Count</th>\n",
       "    </tr>\n",
       "    <tr>\n",
       "      <th>is_promoted</th>\n",
       "      <th></th>\n",
       "    </tr>\n",
       "  </thead>\n",
       "  <tbody>\n",
       "    <tr>\n",
       "      <th>0</th>\n",
       "      <td>50140</td>\n",
       "    </tr>\n",
       "    <tr>\n",
       "      <th>1</th>\n",
       "      <td>4668</td>\n",
       "    </tr>\n",
       "  </tbody>\n",
       "</table>\n",
       "</div>"
      ],
      "text/plain": [
       "col_0        Count\n",
       "is_promoted       \n",
       "0            50140\n",
       "1             4668"
      ]
     },
     "execution_count": 30,
     "metadata": {},
     "output_type": "execute_result"
    }
   ],
   "source": [
    "pd.crosstab(index=df['is_promoted'],columns='Count').sort_values('Count',ascending =False)"
   ]
  },
  {
   "cell_type": "markdown",
   "id": "c43ae8c0-35ec-4dd3-b2e1-1a3b2606f5d9",
   "metadata": {},
   "source": [
    "- Missing Values Detected on Education and Previous Year Rating Feature, instead of Dropping the Rows, we try to fiiling the Missing values with Mode"
   ]
  },
  {
   "cell_type": "code",
   "execution_count": 31,
   "id": "1a2bc067-8e4d-4058-ba73-e36f122452a1",
   "metadata": {},
   "outputs": [],
   "source": [
    "dataDesc1 = []\n",
    "\n",
    "for i in df.columns:\n",
    "    dataDesc1.append([\n",
    "        i,\n",
    "        df[i].dtypes,\n",
    "        df[i].isna().sum(),\n",
    "        round((((df[i].isna().sum()) / len(df)) *100),2),\n",
    "        df[i].nunique(),\n",
    "        df[i].drop_duplicates().sample(2).values\n",
    "    ])"
   ]
  },
  {
   "cell_type": "code",
   "execution_count": 32,
   "id": "2f0a9835-a56c-4b98-80f6-54bb3858da2b",
   "metadata": {},
   "outputs": [
    {
     "data": {
      "text/html": [
       "<div>\n",
       "<style scoped>\n",
       "    .dataframe tbody tr th:only-of-type {\n",
       "        vertical-align: middle;\n",
       "    }\n",
       "\n",
       "    .dataframe tbody tr th {\n",
       "        vertical-align: top;\n",
       "    }\n",
       "\n",
       "    .dataframe thead th {\n",
       "        text-align: right;\n",
       "    }\n",
       "</style>\n",
       "<table border=\"1\" class=\"dataframe\">\n",
       "  <thead>\n",
       "    <tr style=\"text-align: right;\">\n",
       "      <th></th>\n",
       "      <th>Data Features</th>\n",
       "      <th>Data Type</th>\n",
       "      <th>Null</th>\n",
       "      <th>Null Percentage</th>\n",
       "      <th>Unique</th>\n",
       "      <th>Unique Sample</th>\n",
       "    </tr>\n",
       "  </thead>\n",
       "  <tbody>\n",
       "    <tr>\n",
       "      <th>0</th>\n",
       "      <td>department</td>\n",
       "      <td>object</td>\n",
       "      <td>0</td>\n",
       "      <td>0.00</td>\n",
       "      <td>9</td>\n",
       "      <td>[Procurement, Analytics]</td>\n",
       "    </tr>\n",
       "    <tr>\n",
       "      <th>1</th>\n",
       "      <td>region</td>\n",
       "      <td>object</td>\n",
       "      <td>0</td>\n",
       "      <td>0.00</td>\n",
       "      <td>34</td>\n",
       "      <td>[region_22, region_10]</td>\n",
       "    </tr>\n",
       "    <tr>\n",
       "      <th>2</th>\n",
       "      <td>education</td>\n",
       "      <td>object</td>\n",
       "      <td>2409</td>\n",
       "      <td>4.40</td>\n",
       "      <td>3</td>\n",
       "      <td>[Below Secondary, nan]</td>\n",
       "    </tr>\n",
       "    <tr>\n",
       "      <th>3</th>\n",
       "      <td>gender</td>\n",
       "      <td>object</td>\n",
       "      <td>0</td>\n",
       "      <td>0.00</td>\n",
       "      <td>2</td>\n",
       "      <td>[m, f]</td>\n",
       "    </tr>\n",
       "    <tr>\n",
       "      <th>4</th>\n",
       "      <td>recruitment_channel</td>\n",
       "      <td>object</td>\n",
       "      <td>0</td>\n",
       "      <td>0.00</td>\n",
       "      <td>3</td>\n",
       "      <td>[sourcing, other]</td>\n",
       "    </tr>\n",
       "    <tr>\n",
       "      <th>5</th>\n",
       "      <td>no_of_trainings</td>\n",
       "      <td>int64</td>\n",
       "      <td>0</td>\n",
       "      <td>0.00</td>\n",
       "      <td>10</td>\n",
       "      <td>[7, 4]</td>\n",
       "    </tr>\n",
       "    <tr>\n",
       "      <th>6</th>\n",
       "      <td>age</td>\n",
       "      <td>int64</td>\n",
       "      <td>0</td>\n",
       "      <td>0.00</td>\n",
       "      <td>41</td>\n",
       "      <td>[48, 51]</td>\n",
       "    </tr>\n",
       "    <tr>\n",
       "      <th>7</th>\n",
       "      <td>previous_year_rating</td>\n",
       "      <td>float64</td>\n",
       "      <td>4124</td>\n",
       "      <td>7.52</td>\n",
       "      <td>5</td>\n",
       "      <td>[2.0, 1.0]</td>\n",
       "    </tr>\n",
       "    <tr>\n",
       "      <th>8</th>\n",
       "      <td>length_of_service</td>\n",
       "      <td>int64</td>\n",
       "      <td>0</td>\n",
       "      <td>0.00</td>\n",
       "      <td>35</td>\n",
       "      <td>[28, 6]</td>\n",
       "    </tr>\n",
       "    <tr>\n",
       "      <th>9</th>\n",
       "      <td>awards_won?</td>\n",
       "      <td>object</td>\n",
       "      <td>0</td>\n",
       "      <td>0.00</td>\n",
       "      <td>2</td>\n",
       "      <td>[1, 0]</td>\n",
       "    </tr>\n",
       "    <tr>\n",
       "      <th>10</th>\n",
       "      <td>avg_training_score</td>\n",
       "      <td>int64</td>\n",
       "      <td>0</td>\n",
       "      <td>0.00</td>\n",
       "      <td>61</td>\n",
       "      <td>[63, 45]</td>\n",
       "    </tr>\n",
       "    <tr>\n",
       "      <th>11</th>\n",
       "      <td>is_promoted</td>\n",
       "      <td>int64</td>\n",
       "      <td>0</td>\n",
       "      <td>0.00</td>\n",
       "      <td>2</td>\n",
       "      <td>[0, 1]</td>\n",
       "    </tr>\n",
       "  </tbody>\n",
       "</table>\n",
       "</div>"
      ],
      "text/plain": [
       "           Data Features Data Type  Null  Null Percentage  Unique  \\\n",
       "0             department    object     0             0.00       9   \n",
       "1                 region    object     0             0.00      34   \n",
       "2              education    object  2409             4.40       3   \n",
       "3                 gender    object     0             0.00       2   \n",
       "4    recruitment_channel    object     0             0.00       3   \n",
       "5        no_of_trainings     int64     0             0.00      10   \n",
       "6                    age     int64     0             0.00      41   \n",
       "7   previous_year_rating   float64  4124             7.52       5   \n",
       "8      length_of_service     int64     0             0.00      35   \n",
       "9            awards_won?    object     0             0.00       2   \n",
       "10    avg_training_score     int64     0             0.00      61   \n",
       "11           is_promoted     int64     0             0.00       2   \n",
       "\n",
       "               Unique Sample  \n",
       "0   [Procurement, Analytics]  \n",
       "1     [region_22, region_10]  \n",
       "2     [Below Secondary, nan]  \n",
       "3                     [m, f]  \n",
       "4          [sourcing, other]  \n",
       "5                     [7, 4]  \n",
       "6                   [48, 51]  \n",
       "7                 [2.0, 1.0]  \n",
       "8                    [28, 6]  \n",
       "9                     [1, 0]  \n",
       "10                  [63, 45]  \n",
       "11                    [0, 1]  "
      ]
     },
     "execution_count": 32,
     "metadata": {},
     "output_type": "execute_result"
    }
   ],
   "source": [
    "pd.DataFrame(dataDesc1,columns=[\n",
    "    \"Data Features\",\n",
    "    \"Data Type\",\n",
    "    \"Null\",\n",
    "    \"Null Percentage\",\n",
    "    \"Unique\",\n",
    "    \"Unique Sample\"\n",
    "])"
   ]
  },
  {
   "cell_type": "markdown",
   "id": "7d6467ac-61cd-419e-942d-fd8e8edd1283",
   "metadata": {},
   "source": [
    "- Finding the Correlation and Association Between Features"
   ]
  },
  {
   "cell_type": "markdown",
   "id": "8c087998-9175-4f8f-8bac-6c21f7c37a58",
   "metadata": {},
   "source": [
    "- Correlation Ratio (For Numerical Features)\n",
    "- Association (For Categorical Features) Cramer's V and Theil's U"
   ]
  },
  {
   "cell_type": "code",
   "execution_count": 33,
   "id": "be21ba65-9716-4059-84a6-4659a517bd7d",
   "metadata": {},
   "outputs": [],
   "source": [
    "df_numerical = df[['no_of_trainings','age','previous_year_rating','length_of_service','avg_training_score','is_promoted']]"
   ]
  },
  {
   "cell_type": "code",
   "execution_count": 34,
   "id": "1f92c7aa-3010-47ac-a2ad-83a263a65c38",
   "metadata": {},
   "outputs": [],
   "source": [
    "df_categorical = df[['department','region','education','gender','recruitment_channel','awards_won?','is_promoted']]"
   ]
  },
  {
   "cell_type": "code",
   "execution_count": 35,
   "id": "e1bc63a7-0f57-45c6-ae20-284bbfe345c6",
   "metadata": {},
   "outputs": [
    {
     "data": {
      "text/html": [
       "<div>\n",
       "<style scoped>\n",
       "    .dataframe tbody tr th:only-of-type {\n",
       "        vertical-align: middle;\n",
       "    }\n",
       "\n",
       "    .dataframe tbody tr th {\n",
       "        vertical-align: top;\n",
       "    }\n",
       "\n",
       "    .dataframe thead th {\n",
       "        text-align: right;\n",
       "    }\n",
       "</style>\n",
       "<table border=\"1\" class=\"dataframe\">\n",
       "  <thead>\n",
       "    <tr style=\"text-align: right;\">\n",
       "      <th></th>\n",
       "      <th>no_of_trainings</th>\n",
       "      <th>age</th>\n",
       "      <th>previous_year_rating</th>\n",
       "      <th>length_of_service</th>\n",
       "      <th>avg_training_score</th>\n",
       "      <th>is_promoted</th>\n",
       "    </tr>\n",
       "  </thead>\n",
       "  <tbody>\n",
       "    <tr>\n",
       "      <th>0</th>\n",
       "      <td>1</td>\n",
       "      <td>35</td>\n",
       "      <td>5.0</td>\n",
       "      <td>8</td>\n",
       "      <td>49</td>\n",
       "      <td>0</td>\n",
       "    </tr>\n",
       "    <tr>\n",
       "      <th>1</th>\n",
       "      <td>1</td>\n",
       "      <td>30</td>\n",
       "      <td>5.0</td>\n",
       "      <td>4</td>\n",
       "      <td>60</td>\n",
       "      <td>0</td>\n",
       "    </tr>\n",
       "    <tr>\n",
       "      <th>2</th>\n",
       "      <td>1</td>\n",
       "      <td>34</td>\n",
       "      <td>3.0</td>\n",
       "      <td>7</td>\n",
       "      <td>50</td>\n",
       "      <td>0</td>\n",
       "    </tr>\n",
       "    <tr>\n",
       "      <th>3</th>\n",
       "      <td>2</td>\n",
       "      <td>39</td>\n",
       "      <td>1.0</td>\n",
       "      <td>10</td>\n",
       "      <td>50</td>\n",
       "      <td>0</td>\n",
       "    </tr>\n",
       "    <tr>\n",
       "      <th>4</th>\n",
       "      <td>1</td>\n",
       "      <td>45</td>\n",
       "      <td>3.0</td>\n",
       "      <td>2</td>\n",
       "      <td>73</td>\n",
       "      <td>0</td>\n",
       "    </tr>\n",
       "  </tbody>\n",
       "</table>\n",
       "</div>"
      ],
      "text/plain": [
       "   no_of_trainings  age  previous_year_rating  length_of_service  \\\n",
       "0                1   35                   5.0                  8   \n",
       "1                1   30                   5.0                  4   \n",
       "2                1   34                   3.0                  7   \n",
       "3                2   39                   1.0                 10   \n",
       "4                1   45                   3.0                  2   \n",
       "\n",
       "   avg_training_score  is_promoted  \n",
       "0                  49            0  \n",
       "1                  60            0  \n",
       "2                  50            0  \n",
       "3                  50            0  \n",
       "4                  73            0  "
      ]
     },
     "execution_count": 35,
     "metadata": {},
     "output_type": "execute_result"
    }
   ],
   "source": [
    "df_numerical.head()"
   ]
  },
  {
   "cell_type": "code",
   "execution_count": 36,
   "id": "454237c8-7ba8-48e5-a93c-29e209c2664b",
   "metadata": {},
   "outputs": [
    {
     "data": {
      "text/html": [
       "<div>\n",
       "<style scoped>\n",
       "    .dataframe tbody tr th:only-of-type {\n",
       "        vertical-align: middle;\n",
       "    }\n",
       "\n",
       "    .dataframe tbody tr th {\n",
       "        vertical-align: top;\n",
       "    }\n",
       "\n",
       "    .dataframe thead th {\n",
       "        text-align: right;\n",
       "    }\n",
       "</style>\n",
       "<table border=\"1\" class=\"dataframe\">\n",
       "  <thead>\n",
       "    <tr style=\"text-align: right;\">\n",
       "      <th></th>\n",
       "      <th>department</th>\n",
       "      <th>region</th>\n",
       "      <th>education</th>\n",
       "      <th>gender</th>\n",
       "      <th>recruitment_channel</th>\n",
       "      <th>awards_won?</th>\n",
       "      <th>is_promoted</th>\n",
       "    </tr>\n",
       "  </thead>\n",
       "  <tbody>\n",
       "    <tr>\n",
       "      <th>0</th>\n",
       "      <td>Sales &amp; Marketing</td>\n",
       "      <td>region_7</td>\n",
       "      <td>Master's &amp; above</td>\n",
       "      <td>f</td>\n",
       "      <td>sourcing</td>\n",
       "      <td>0</td>\n",
       "      <td>0</td>\n",
       "    </tr>\n",
       "    <tr>\n",
       "      <th>1</th>\n",
       "      <td>Operations</td>\n",
       "      <td>region_22</td>\n",
       "      <td>Bachelor's</td>\n",
       "      <td>m</td>\n",
       "      <td>other</td>\n",
       "      <td>0</td>\n",
       "      <td>0</td>\n",
       "    </tr>\n",
       "    <tr>\n",
       "      <th>2</th>\n",
       "      <td>Sales &amp; Marketing</td>\n",
       "      <td>region_19</td>\n",
       "      <td>Bachelor's</td>\n",
       "      <td>m</td>\n",
       "      <td>sourcing</td>\n",
       "      <td>0</td>\n",
       "      <td>0</td>\n",
       "    </tr>\n",
       "    <tr>\n",
       "      <th>3</th>\n",
       "      <td>Sales &amp; Marketing</td>\n",
       "      <td>region_23</td>\n",
       "      <td>Bachelor's</td>\n",
       "      <td>m</td>\n",
       "      <td>other</td>\n",
       "      <td>0</td>\n",
       "      <td>0</td>\n",
       "    </tr>\n",
       "    <tr>\n",
       "      <th>4</th>\n",
       "      <td>Technology</td>\n",
       "      <td>region_26</td>\n",
       "      <td>Bachelor's</td>\n",
       "      <td>m</td>\n",
       "      <td>other</td>\n",
       "      <td>0</td>\n",
       "      <td>0</td>\n",
       "    </tr>\n",
       "  </tbody>\n",
       "</table>\n",
       "</div>"
      ],
      "text/plain": [
       "          department     region         education gender recruitment_channel  \\\n",
       "0  Sales & Marketing   region_7  Master's & above      f            sourcing   \n",
       "1         Operations  region_22        Bachelor's      m               other   \n",
       "2  Sales & Marketing  region_19        Bachelor's      m            sourcing   \n",
       "3  Sales & Marketing  region_23        Bachelor's      m               other   \n",
       "4         Technology  region_26        Bachelor's      m               other   \n",
       "\n",
       "  awards_won?  is_promoted  \n",
       "0           0            0  \n",
       "1           0            0  \n",
       "2           0            0  \n",
       "3           0            0  \n",
       "4           0            0  "
      ]
     },
     "execution_count": 36,
     "metadata": {},
     "output_type": "execute_result"
    }
   ],
   "source": [
    "df_categorical.head()"
   ]
  },
  {
   "cell_type": "code",
   "execution_count": 37,
   "id": "9869b5c9-72a6-4f47-ba7f-01e13ba294d7",
   "metadata": {},
   "outputs": [],
   "source": [
    "import scipy.stats as ss\n",
    "from collections import Counter\n",
    "import math"
   ]
  },
  {
   "cell_type": "code",
   "execution_count": 38,
   "id": "2b8f27a3-0f52-4e8d-a732-9276e46326f3",
   "metadata": {},
   "outputs": [],
   "source": [
    "from dython.nominal import correlation_ratio, cramers_v, theils_u"
   ]
  },
  {
   "cell_type": "code",
   "execution_count": 39,
   "id": "f6d7a304-7b2b-4851-b6b9-4ef0e58c429f",
   "metadata": {},
   "outputs": [
    {
     "data": {
      "text/plain": [
       "0.024895917682412384"
      ]
     },
     "execution_count": 39,
     "metadata": {},
     "output_type": "execute_result"
    }
   ],
   "source": [
    "a = correlation_ratio(df_numerical['is_promoted'],df_numerical['no_of_trainings'])\n",
    "a"
   ]
  },
  {
   "cell_type": "code",
   "execution_count": 40,
   "id": "ef6fbdbe-861d-4da6-a8bd-c00875509398",
   "metadata": {},
   "outputs": [
    {
     "data": {
      "text/plain": [
       "0.01716589167893025"
      ]
     },
     "execution_count": 40,
     "metadata": {},
     "output_type": "execute_result"
    }
   ],
   "source": [
    "b = correlation_ratio(df_numerical['is_promoted'],df_numerical['age'])\n",
    "b"
   ]
  },
  {
   "cell_type": "code",
   "execution_count": 41,
   "id": "b425fac0-5d0c-49b5-b983-86fbda9045db",
   "metadata": {},
   "outputs": [
    {
     "data": {
      "text/plain": [
       "0.12599059417959624"
      ]
     },
     "execution_count": 41,
     "metadata": {},
     "output_type": "execute_result"
    }
   ],
   "source": [
    "c = correlation_ratio(df_numerical['is_promoted'],df_numerical['previous_year_rating'])\n",
    "c"
   ]
  },
  {
   "cell_type": "code",
   "execution_count": 42,
   "id": "a0fd37f9-80e2-4976-b3a2-ca753029654d",
   "metadata": {},
   "outputs": [
    {
     "data": {
      "text/plain": [
       "0.010669866544734017"
      ]
     },
     "execution_count": 42,
     "metadata": {},
     "output_type": "execute_result"
    }
   ],
   "source": [
    "d = correlation_ratio(df_numerical['is_promoted'],df_numerical['length_of_service'])\n",
    "d"
   ]
  },
  {
   "cell_type": "code",
   "execution_count": 43,
   "id": "d45157d5-266c-4c16-a38a-f3b858ea89cc",
   "metadata": {},
   "outputs": [
    {
     "data": {
      "text/plain": [
       "0.18114671957888692"
      ]
     },
     "execution_count": 43,
     "metadata": {},
     "output_type": "execute_result"
    }
   ],
   "source": [
    "e = correlation_ratio(df_numerical['is_promoted'],df_numerical['avg_training_score'])\n",
    "e"
   ]
  },
  {
   "cell_type": "code",
   "execution_count": 44,
   "id": "d2cf7763-14bc-4afa-81e7-deb778f35dc0",
   "metadata": {},
   "outputs": [],
   "source": [
    "corr = [a,b,c,d,e,1]"
   ]
  },
  {
   "cell_type": "code",
   "execution_count": 45,
   "id": "f15871e5-890a-43b9-b6bf-7be8f0e06002",
   "metadata": {},
   "outputs": [
    {
     "data": {
      "text/html": [
       "<div>\n",
       "<style scoped>\n",
       "    .dataframe tbody tr th:only-of-type {\n",
       "        vertical-align: middle;\n",
       "    }\n",
       "\n",
       "    .dataframe tbody tr th {\n",
       "        vertical-align: top;\n",
       "    }\n",
       "\n",
       "    .dataframe thead th {\n",
       "        text-align: right;\n",
       "    }\n",
       "</style>\n",
       "<table border=\"1\" class=\"dataframe\">\n",
       "  <thead>\n",
       "    <tr style=\"text-align: right;\">\n",
       "      <th></th>\n",
       "      <th>no_of_trainings</th>\n",
       "      <th>age</th>\n",
       "      <th>previous_year_rating</th>\n",
       "      <th>length_of_service</th>\n",
       "      <th>avg_training_score</th>\n",
       "      <th>is_promoted</th>\n",
       "    </tr>\n",
       "  </thead>\n",
       "  <tbody>\n",
       "    <tr>\n",
       "      <th>is_promoted</th>\n",
       "      <td>0.024896</td>\n",
       "      <td>0.017166</td>\n",
       "      <td>0.125991</td>\n",
       "      <td>0.01067</td>\n",
       "      <td>0.181147</td>\n",
       "      <td>1</td>\n",
       "    </tr>\n",
       "  </tbody>\n",
       "</table>\n",
       "</div>"
      ],
      "text/plain": [
       "             no_of_trainings       age  previous_year_rating  \\\n",
       "is_promoted         0.024896  0.017166              0.125991   \n",
       "\n",
       "             length_of_service  avg_training_score  is_promoted  \n",
       "is_promoted            0.01067            0.181147            1  "
      ]
     },
     "execution_count": 45,
     "metadata": {},
     "output_type": "execute_result"
    }
   ],
   "source": [
    "df_corr = pd.DataFrame(data=[corr],index=['is_promoted'],columns=df_numerical.columns)\n",
    "df_corr"
   ]
  },
  {
   "cell_type": "code",
   "execution_count": 46,
   "id": "bd4512b3-dbcf-400a-b406-1f56b1c5427a",
   "metadata": {},
   "outputs": [
    {
     "data": {
      "image/png": "[encoded data removed]",
      "text/plain": [
       "<Figure size 432x72 with 1 Axes>"
      ]
     },
     "metadata": {
      "needs_background": "light"
     },
     "output_type": "display_data"
    }
   ],
   "source": [
    "plt.figure(figsize=(6,1))\n",
    "sns.heatmap(df_corr,cbar=False,annot=True);"
   ]
  },
  {
   "cell_type": "markdown",
   "id": "9476c37d-3dcb-4eff-8a2d-d51a30338542",
   "metadata": {},
   "source": [
    "- From Correlation Ratio between Target Feature and Continuous Numerical Features, found that \"Previous Year Rating\" and \"Avg Training Score\" have impact on Target Feature"
   ]
  },
  {
   "cell_type": "code",
   "execution_count": 47,
   "id": "72b619c7-edc6-4fec-b4bf-fc5c53b7ce5b",
   "metadata": {},
   "outputs": [],
   "source": [
    "def cramers (x,y):\n",
    "    confusion_matrix = pd.crosstab(x,y)\n",
    "    chi2 = ss.chi2_contingency(confusion_matrix)[0]\n",
    "    n = confusion_matrix.sum().sum()\n",
    "    phi2 = chi2/n\n",
    "    r, k = confusion_matrix.shape\n",
    "    phi2corr = max(0,phi2 - ((k - 1)*(r-1))/(n-1))\n",
    "    rcorr = r - ((r-1)**2)/(n-1)\n",
    "    kcorr = k - ((k-1)**2)/(n-1)\n",
    "    hasil = np.sqrt(phi2corr / min((kcorr-1),(rcorr-1)))\n",
    "    return hasil"
   ]
  },
  {
   "cell_type": "code",
   "execution_count": 48,
   "id": "5a818f87-42bc-423c-9a57-d7bed77366be",
   "metadata": {},
   "outputs": [
    {
     "data": {
      "text/plain": [
       "Index(['department', 'region', 'education', 'gender', 'recruitment_channel',\n",
       "       'awards_won?', 'is_promoted'],\n",
       "      dtype='object')"
      ]
     },
     "execution_count": 48,
     "metadata": {},
     "output_type": "execute_result"
    }
   ],
   "source": [
    "df_categorical.columns"
   ]
  },
  {
   "cell_type": "code",
   "execution_count": 49,
   "id": "58792d95-f3db-40b8-ad62-1b6f53c48606",
   "metadata": {},
   "outputs": [],
   "source": [
    "assoc_cramers = []\n",
    "for i in df_categorical.columns:\n",
    "    assoc = round(cramers(df_categorical['is_promoted'],df_categorical[i]),2)\n",
    "    assoc_cramers.append(assoc)"
   ]
  },
  {
   "cell_type": "code",
   "execution_count": 50,
   "id": "131789f8-9683-4959-9526-7567803857ac",
   "metadata": {},
   "outputs": [
    {
     "data": {
      "text/html": [
       "<div>\n",
       "<style scoped>\n",
       "    .dataframe tbody tr th:only-of-type {\n",
       "        vertical-align: middle;\n",
       "    }\n",
       "\n",
       "    .dataframe tbody tr th {\n",
       "        vertical-align: top;\n",
       "    }\n",
       "\n",
       "    .dataframe thead th {\n",
       "        text-align: right;\n",
       "    }\n",
       "</style>\n",
       "<table border=\"1\" class=\"dataframe\">\n",
       "  <thead>\n",
       "    <tr style=\"text-align: right;\">\n",
       "      <th></th>\n",
       "      <th>department</th>\n",
       "      <th>region</th>\n",
       "      <th>education</th>\n",
       "      <th>gender</th>\n",
       "      <th>recruitment_channel</th>\n",
       "      <th>awards_won?</th>\n",
       "      <th>is_promoted</th>\n",
       "    </tr>\n",
       "  </thead>\n",
       "  <tbody>\n",
       "    <tr>\n",
       "      <th>is_promoted</th>\n",
       "      <td>0.05</td>\n",
       "      <td>0.09</td>\n",
       "      <td>0.03</td>\n",
       "      <td>0.01</td>\n",
       "      <td>0.02</td>\n",
       "      <td>0.2</td>\n",
       "      <td>1.0</td>\n",
       "    </tr>\n",
       "  </tbody>\n",
       "</table>\n",
       "</div>"
      ],
      "text/plain": [
       "             department  region  education  gender  recruitment_channel  \\\n",
       "is_promoted        0.05    0.09       0.03    0.01                 0.02   \n",
       "\n",
       "             awards_won?  is_promoted  \n",
       "is_promoted          0.2          1.0  "
      ]
     },
     "execution_count": 50,
     "metadata": {},
     "output_type": "execute_result"
    }
   ],
   "source": [
    "df_cramers = pd.DataFrame(data=[assoc_cramers],index=['is_promoted'],columns=df_categorical.columns)\n",
    "df_cramers"
   ]
  },
  {
   "cell_type": "code",
   "execution_count": 51,
   "id": "4d1f4ac6-3852-46da-83ff-8a0e02560d2a",
   "metadata": {},
   "outputs": [
    {
     "data": {
      "image/png": "[encoded data removed]",
      "text/plain": [
       "<Figure size 864x72 with 1 Axes>"
      ]
     },
     "metadata": {
      "needs_background": "light"
     },
     "output_type": "display_data"
    }
   ],
   "source": [
    "plt.figure(figsize=(12,1))\n",
    "sns.heatmap(df_cramers,cbar=False,annot=True);"
   ]
  },
  {
   "cell_type": "code",
   "execution_count": 52,
   "id": "6691079d-8bcd-4dce-af5c-91d4031d4804",
   "metadata": {},
   "outputs": [],
   "source": [
    "def conditional_entropy(x,y):\n",
    "    y_counter = Counter(y)\n",
    "    xy_counter = Counter(list(zip(x,y)))\n",
    "    total_occurences = sum(y_counter.values())\n",
    "    entropy = 0\n",
    "    for xy in xy_counter.keys():\n",
    "        p_xy = xy_counter[xy] / total_occurences\n",
    "        p_y = y_counter[xy[1]] / total_occurences\n",
    "        entropy += p_xy * math.log(p_y/p_xy)\n",
    "    return entropy"
   ]
  },
  {
   "cell_type": "code",
   "execution_count": 53,
   "id": "e52a8f4a-46ca-438e-812f-e224635c2036",
   "metadata": {},
   "outputs": [],
   "source": [
    "def theils(x,y):\n",
    "    s_xy = conditional_entropy(x,y)\n",
    "    x_counter = Counter(x)\n",
    "    total_occurences = sum(x_counter.values())\n",
    "    p_x = list(map(lambda n : n/total_occurences,x_counter.values()))\n",
    "    s_x = ss.entropy(p_x)\n",
    "    if s_x == 0 :\n",
    "        return 1\n",
    "    else:\n",
    "        return (s_x - s_xy) / s_x"
   ]
  },
  {
   "cell_type": "code",
   "execution_count": 54,
   "id": "5746a06e-0659-4c8f-a316-7cf359d3cffc",
   "metadata": {},
   "outputs": [],
   "source": [
    "assoc_theils = []\n",
    "for i in df_categorical.columns:\n",
    "    assoc = round(theils(df_categorical['is_promoted'],df_categorical[i]),2)\n",
    "    assoc_theils.append(assoc)"
   ]
  },
  {
   "cell_type": "code",
   "execution_count": 55,
   "id": "db4898dc-f33d-42b2-94b0-32fe92dae946",
   "metadata": {},
   "outputs": [
    {
     "data": {
      "text/html": [
       "<div>\n",
       "<style scoped>\n",
       "    .dataframe tbody tr th:only-of-type {\n",
       "        vertical-align: middle;\n",
       "    }\n",
       "\n",
       "    .dataframe tbody tr th {\n",
       "        vertical-align: top;\n",
       "    }\n",
       "\n",
       "    .dataframe thead th {\n",
       "        text-align: right;\n",
       "    }\n",
       "</style>\n",
       "<table border=\"1\" class=\"dataframe\">\n",
       "  <thead>\n",
       "    <tr style=\"text-align: right;\">\n",
       "      <th></th>\n",
       "      <th>department</th>\n",
       "      <th>region</th>\n",
       "      <th>education</th>\n",
       "      <th>gender</th>\n",
       "      <th>recruitment_channel</th>\n",
       "      <th>awards_won?</th>\n",
       "      <th>is_promoted</th>\n",
       "    </tr>\n",
       "  </thead>\n",
       "  <tbody>\n",
       "    <tr>\n",
       "      <th>is_promoted</th>\n",
       "      <td>0.0</td>\n",
       "      <td>0.02</td>\n",
       "      <td>0.0</td>\n",
       "      <td>0.0</td>\n",
       "      <td>0.0</td>\n",
       "      <td>0.04</td>\n",
       "      <td>1.0</td>\n",
       "    </tr>\n",
       "  </tbody>\n",
       "</table>\n",
       "</div>"
      ],
      "text/plain": [
       "             department  region  education  gender  recruitment_channel  \\\n",
       "is_promoted         0.0    0.02        0.0     0.0                  0.0   \n",
       "\n",
       "             awards_won?  is_promoted  \n",
       "is_promoted         0.04          1.0  "
      ]
     },
     "execution_count": 55,
     "metadata": {},
     "output_type": "execute_result"
    }
   ],
   "source": [
    "df_theils = pd.DataFrame(data=[assoc_theils],index=['is_promoted'],columns=df_categorical.columns)\n",
    "df_theils"
   ]
  },
  {
   "cell_type": "code",
   "execution_count": 56,
   "id": "c576ba99-c0e2-4856-9143-0f0383061965",
   "metadata": {},
   "outputs": [
    {
     "data": {
      "image/png": "[encoded data removed]",
      "text/plain": [
       "<Figure size 864x72 with 1 Axes>"
      ]
     },
     "metadata": {
      "needs_background": "light"
     },
     "output_type": "display_data"
    }
   ],
   "source": [
    "plt.figure(figsize=(12,1))\n",
    "sns.heatmap(df_theils,cbar=False,annot=True);"
   ]
  },
  {
   "cell_type": "markdown",
   "id": "d0ef7c46-80da-4d2c-964a-2c07b6e99c98",
   "metadata": {},
   "source": [
    "- From Cramer's V Association between Target Feature and Categorical Features, found that \"Awars Won\" has impact on Target Feature"
   ]
  },
  {
   "cell_type": "markdown",
   "id": "f2c1cadb-6795-4376-abba-2bb263d4ab5f",
   "metadata": {},
   "source": [
    "- Bivariate Analysis"
   ]
  },
  {
   "cell_type": "code",
   "execution_count": 57,
   "id": "e532e990-2277-482a-b1b3-74e348a8e9c8",
   "metadata": {},
   "outputs": [
    {
     "data": {
      "text/html": [
       "<div>\n",
       "<style scoped>\n",
       "    .dataframe tbody tr th:only-of-type {\n",
       "        vertical-align: middle;\n",
       "    }\n",
       "\n",
       "    .dataframe tbody tr th {\n",
       "        vertical-align: top;\n",
       "    }\n",
       "\n",
       "    .dataframe thead th {\n",
       "        text-align: right;\n",
       "    }\n",
       "</style>\n",
       "<table border=\"1\" class=\"dataframe\">\n",
       "  <thead>\n",
       "    <tr style=\"text-align: right;\">\n",
       "      <th></th>\n",
       "      <th>department</th>\n",
       "      <th>region</th>\n",
       "      <th>education</th>\n",
       "      <th>gender</th>\n",
       "      <th>recruitment_channel</th>\n",
       "      <th>no_of_trainings</th>\n",
       "      <th>age</th>\n",
       "      <th>previous_year_rating</th>\n",
       "      <th>length_of_service</th>\n",
       "      <th>awards_won?</th>\n",
       "      <th>avg_training_score</th>\n",
       "      <th>is_promoted</th>\n",
       "    </tr>\n",
       "  </thead>\n",
       "  <tbody>\n",
       "    <tr>\n",
       "      <th>0</th>\n",
       "      <td>Sales &amp; Marketing</td>\n",
       "      <td>region_7</td>\n",
       "      <td>Master's &amp; above</td>\n",
       "      <td>f</td>\n",
       "      <td>sourcing</td>\n",
       "      <td>1</td>\n",
       "      <td>35</td>\n",
       "      <td>5.0</td>\n",
       "      <td>8</td>\n",
       "      <td>0</td>\n",
       "      <td>49</td>\n",
       "      <td>0</td>\n",
       "    </tr>\n",
       "    <tr>\n",
       "      <th>1</th>\n",
       "      <td>Operations</td>\n",
       "      <td>region_22</td>\n",
       "      <td>Bachelor's</td>\n",
       "      <td>m</td>\n",
       "      <td>other</td>\n",
       "      <td>1</td>\n",
       "      <td>30</td>\n",
       "      <td>5.0</td>\n",
       "      <td>4</td>\n",
       "      <td>0</td>\n",
       "      <td>60</td>\n",
       "      <td>0</td>\n",
       "    </tr>\n",
       "    <tr>\n",
       "      <th>2</th>\n",
       "      <td>Sales &amp; Marketing</td>\n",
       "      <td>region_19</td>\n",
       "      <td>Bachelor's</td>\n",
       "      <td>m</td>\n",
       "      <td>sourcing</td>\n",
       "      <td>1</td>\n",
       "      <td>34</td>\n",
       "      <td>3.0</td>\n",
       "      <td>7</td>\n",
       "      <td>0</td>\n",
       "      <td>50</td>\n",
       "      <td>0</td>\n",
       "    </tr>\n",
       "    <tr>\n",
       "      <th>3</th>\n",
       "      <td>Sales &amp; Marketing</td>\n",
       "      <td>region_23</td>\n",
       "      <td>Bachelor's</td>\n",
       "      <td>m</td>\n",
       "      <td>other</td>\n",
       "      <td>2</td>\n",
       "      <td>39</td>\n",
       "      <td>1.0</td>\n",
       "      <td>10</td>\n",
       "      <td>0</td>\n",
       "      <td>50</td>\n",
       "      <td>0</td>\n",
       "    </tr>\n",
       "    <tr>\n",
       "      <th>4</th>\n",
       "      <td>Technology</td>\n",
       "      <td>region_26</td>\n",
       "      <td>Bachelor's</td>\n",
       "      <td>m</td>\n",
       "      <td>other</td>\n",
       "      <td>1</td>\n",
       "      <td>45</td>\n",
       "      <td>3.0</td>\n",
       "      <td>2</td>\n",
       "      <td>0</td>\n",
       "      <td>73</td>\n",
       "      <td>0</td>\n",
       "    </tr>\n",
       "  </tbody>\n",
       "</table>\n",
       "</div>"
      ],
      "text/plain": [
       "          department     region         education gender recruitment_channel  \\\n",
       "0  Sales & Marketing   region_7  Master's & above      f            sourcing   \n",
       "1         Operations  region_22        Bachelor's      m               other   \n",
       "2  Sales & Marketing  region_19        Bachelor's      m            sourcing   \n",
       "3  Sales & Marketing  region_23        Bachelor's      m               other   \n",
       "4         Technology  region_26        Bachelor's      m               other   \n",
       "\n",
       "   no_of_trainings  age  previous_year_rating  length_of_service awards_won?  \\\n",
       "0                1   35                   5.0                  8           0   \n",
       "1                1   30                   5.0                  4           0   \n",
       "2                1   34                   3.0                  7           0   \n",
       "3                2   39                   1.0                 10           0   \n",
       "4                1   45                   3.0                  2           0   \n",
       "\n",
       "   avg_training_score  is_promoted  \n",
       "0                  49            0  \n",
       "1                  60            0  \n",
       "2                  50            0  \n",
       "3                  50            0  \n",
       "4                  73            0  "
      ]
     },
     "execution_count": 57,
     "metadata": {},
     "output_type": "execute_result"
    }
   ],
   "source": [
    "df.head()"
   ]
  },
  {
   "cell_type": "markdown",
   "id": "960d0451-e701-4653-ac84-a109cfac835a",
   "metadata": {},
   "source": [
    "- Finding the Relationship between Department and Target Feature"
   ]
  },
  {
   "cell_type": "code",
   "execution_count": 58,
   "id": "d752a75d-a191-41d3-b95c-6c6f3bf1d0d6",
   "metadata": {},
   "outputs": [
    {
     "data": {
      "text/html": [
       "<div>\n",
       "<style scoped>\n",
       "    .dataframe tbody tr th:only-of-type {\n",
       "        vertical-align: middle;\n",
       "    }\n",
       "\n",
       "    .dataframe tbody tr th {\n",
       "        vertical-align: top;\n",
       "    }\n",
       "\n",
       "    .dataframe thead th {\n",
       "        text-align: right;\n",
       "    }\n",
       "</style>\n",
       "<table border=\"1\" class=\"dataframe\">\n",
       "  <thead>\n",
       "    <tr style=\"text-align: right;\">\n",
       "      <th>is_promoted</th>\n",
       "      <th>0</th>\n",
       "      <th>1</th>\n",
       "    </tr>\n",
       "    <tr>\n",
       "      <th>department</th>\n",
       "      <th></th>\n",
       "      <th></th>\n",
       "    </tr>\n",
       "  </thead>\n",
       "  <tbody>\n",
       "    <tr>\n",
       "      <th>Sales &amp; Marketing</th>\n",
       "      <td>15627</td>\n",
       "      <td>1213</td>\n",
       "    </tr>\n",
       "    <tr>\n",
       "      <th>Operations</th>\n",
       "      <td>10325</td>\n",
       "      <td>1023</td>\n",
       "    </tr>\n",
       "    <tr>\n",
       "      <th>Technology</th>\n",
       "      <td>6370</td>\n",
       "      <td>768</td>\n",
       "    </tr>\n",
       "    <tr>\n",
       "      <th>Procurement</th>\n",
       "      <td>6450</td>\n",
       "      <td>688</td>\n",
       "    </tr>\n",
       "    <tr>\n",
       "      <th>Analytics</th>\n",
       "      <td>4840</td>\n",
       "      <td>512</td>\n",
       "    </tr>\n",
       "    <tr>\n",
       "      <th>Finance</th>\n",
       "      <td>2330</td>\n",
       "      <td>206</td>\n",
       "    </tr>\n",
       "    <tr>\n",
       "      <th>HR</th>\n",
       "      <td>2282</td>\n",
       "      <td>136</td>\n",
       "    </tr>\n",
       "    <tr>\n",
       "      <th>R&amp;D</th>\n",
       "      <td>930</td>\n",
       "      <td>69</td>\n",
       "    </tr>\n",
       "    <tr>\n",
       "      <th>Legal</th>\n",
       "      <td>986</td>\n",
       "      <td>53</td>\n",
       "    </tr>\n",
       "  </tbody>\n",
       "</table>\n",
       "</div>"
      ],
      "text/plain": [
       "is_promoted            0     1\n",
       "department                    \n",
       "Sales & Marketing  15627  1213\n",
       "Operations         10325  1023\n",
       "Technology          6370   768\n",
       "Procurement         6450   688\n",
       "Analytics           4840   512\n",
       "Finance             2330   206\n",
       "HR                  2282   136\n",
       "R&D                  930    69\n",
       "Legal                986    53"
      ]
     },
     "execution_count": 58,
     "metadata": {},
     "output_type": "execute_result"
    }
   ],
   "source": [
    "pd.crosstab(index=df['department'],columns=df['is_promoted']).sort_values(1,ascending=False)"
   ]
  },
  {
   "cell_type": "code",
   "execution_count": 59,
   "id": "565e2162-bdd8-4415-a563-d9eb1544cbcb",
   "metadata": {},
   "outputs": [
    {
     "data": {
      "text/html": [
       "<div>\n",
       "<style scoped>\n",
       "    .dataframe tbody tr th:only-of-type {\n",
       "        vertical-align: middle;\n",
       "    }\n",
       "\n",
       "    .dataframe tbody tr th {\n",
       "        vertical-align: top;\n",
       "    }\n",
       "\n",
       "    .dataframe thead th {\n",
       "        text-align: right;\n",
       "    }\n",
       "</style>\n",
       "<table border=\"1\" class=\"dataframe\">\n",
       "  <thead>\n",
       "    <tr style=\"text-align: right;\">\n",
       "      <th>is_promoted</th>\n",
       "      <th>0</th>\n",
       "      <th>1</th>\n",
       "    </tr>\n",
       "    <tr>\n",
       "      <th>department</th>\n",
       "      <th></th>\n",
       "      <th></th>\n",
       "    </tr>\n",
       "  </thead>\n",
       "  <tbody>\n",
       "    <tr>\n",
       "      <th>Sales &amp; Marketing</th>\n",
       "      <td>31.17</td>\n",
       "      <td>25.99</td>\n",
       "    </tr>\n",
       "    <tr>\n",
       "      <th>Operations</th>\n",
       "      <td>20.59</td>\n",
       "      <td>21.92</td>\n",
       "    </tr>\n",
       "    <tr>\n",
       "      <th>Technology</th>\n",
       "      <td>12.70</td>\n",
       "      <td>16.45</td>\n",
       "    </tr>\n",
       "    <tr>\n",
       "      <th>Procurement</th>\n",
       "      <td>12.86</td>\n",
       "      <td>14.74</td>\n",
       "    </tr>\n",
       "    <tr>\n",
       "      <th>Analytics</th>\n",
       "      <td>9.65</td>\n",
       "      <td>10.97</td>\n",
       "    </tr>\n",
       "    <tr>\n",
       "      <th>Finance</th>\n",
       "      <td>4.65</td>\n",
       "      <td>4.41</td>\n",
       "    </tr>\n",
       "    <tr>\n",
       "      <th>HR</th>\n",
       "      <td>4.55</td>\n",
       "      <td>2.91</td>\n",
       "    </tr>\n",
       "    <tr>\n",
       "      <th>R&amp;D</th>\n",
       "      <td>1.85</td>\n",
       "      <td>1.48</td>\n",
       "    </tr>\n",
       "    <tr>\n",
       "      <th>Legal</th>\n",
       "      <td>1.97</td>\n",
       "      <td>1.14</td>\n",
       "    </tr>\n",
       "  </tbody>\n",
       "</table>\n",
       "</div>"
      ],
      "text/plain": [
       "is_promoted            0      1\n",
       "department                     \n",
       "Sales & Marketing  31.17  25.99\n",
       "Operations         20.59  21.92\n",
       "Technology         12.70  16.45\n",
       "Procurement        12.86  14.74\n",
       "Analytics           9.65  10.97\n",
       "Finance             4.65   4.41\n",
       "HR                  4.55   2.91\n",
       "R&D                 1.85   1.48\n",
       "Legal               1.97   1.14"
      ]
     },
     "execution_count": 59,
     "metadata": {},
     "output_type": "execute_result"
    }
   ],
   "source": [
    "(pd.crosstab(index=df['department'],columns=df['is_promoted'],normalize='columns')*100).round(2).sort_values(1,ascending=False)"
   ]
  },
  {
   "cell_type": "code",
   "execution_count": 60,
   "id": "8812a5ec-0720-457c-bfac-3a0c950bf10e",
   "metadata": {},
   "outputs": [],
   "source": [
    "# Most of them who got Promoted are from Sales & Marketing Department"
   ]
  },
  {
   "cell_type": "code",
   "execution_count": 61,
   "id": "aeaee5d2-129d-443a-9fcb-6859ae413ec4",
   "metadata": {},
   "outputs": [
    {
     "data": {
      "text/html": [
       "<div>\n",
       "<style scoped>\n",
       "    .dataframe tbody tr th:only-of-type {\n",
       "        vertical-align: middle;\n",
       "    }\n",
       "\n",
       "    .dataframe tbody tr th {\n",
       "        vertical-align: top;\n",
       "    }\n",
       "\n",
       "    .dataframe thead th {\n",
       "        text-align: right;\n",
       "    }\n",
       "</style>\n",
       "<table border=\"1\" class=\"dataframe\">\n",
       "  <thead>\n",
       "    <tr style=\"text-align: right;\">\n",
       "      <th>is_promoted</th>\n",
       "      <th>0</th>\n",
       "      <th>1</th>\n",
       "    </tr>\n",
       "    <tr>\n",
       "      <th>department</th>\n",
       "      <th></th>\n",
       "      <th></th>\n",
       "    </tr>\n",
       "  </thead>\n",
       "  <tbody>\n",
       "    <tr>\n",
       "      <th>Technology</th>\n",
       "      <td>89.24</td>\n",
       "      <td>10.76</td>\n",
       "    </tr>\n",
       "    <tr>\n",
       "      <th>Procurement</th>\n",
       "      <td>90.36</td>\n",
       "      <td>9.64</td>\n",
       "    </tr>\n",
       "    <tr>\n",
       "      <th>Analytics</th>\n",
       "      <td>90.43</td>\n",
       "      <td>9.57</td>\n",
       "    </tr>\n",
       "    <tr>\n",
       "      <th>Operations</th>\n",
       "      <td>90.99</td>\n",
       "      <td>9.01</td>\n",
       "    </tr>\n",
       "    <tr>\n",
       "      <th>Finance</th>\n",
       "      <td>91.88</td>\n",
       "      <td>8.12</td>\n",
       "    </tr>\n",
       "    <tr>\n",
       "      <th>Sales &amp; Marketing</th>\n",
       "      <td>92.80</td>\n",
       "      <td>7.20</td>\n",
       "    </tr>\n",
       "    <tr>\n",
       "      <th>R&amp;D</th>\n",
       "      <td>93.09</td>\n",
       "      <td>6.91</td>\n",
       "    </tr>\n",
       "    <tr>\n",
       "      <th>HR</th>\n",
       "      <td>94.38</td>\n",
       "      <td>5.62</td>\n",
       "    </tr>\n",
       "    <tr>\n",
       "      <th>Legal</th>\n",
       "      <td>94.90</td>\n",
       "      <td>5.10</td>\n",
       "    </tr>\n",
       "  </tbody>\n",
       "</table>\n",
       "</div>"
      ],
      "text/plain": [
       "is_promoted            0      1\n",
       "department                     \n",
       "Technology         89.24  10.76\n",
       "Procurement        90.36   9.64\n",
       "Analytics          90.43   9.57\n",
       "Operations         90.99   9.01\n",
       "Finance            91.88   8.12\n",
       "Sales & Marketing  92.80   7.20\n",
       "R&D                93.09   6.91\n",
       "HR                 94.38   5.62\n",
       "Legal              94.90   5.10"
      ]
     },
     "execution_count": 61,
     "metadata": {},
     "output_type": "execute_result"
    }
   ],
   "source": [
    "(pd.crosstab(index=df['department'],columns=df['is_promoted'],normalize='index')*100).round(2).sort_values(1,ascending=False)"
   ]
  },
  {
   "cell_type": "code",
   "execution_count": 76,
   "id": "4a3bf6dd-3781-4cda-ac31-6f4a71cf9558",
   "metadata": {},
   "outputs": [],
   "source": [
    "# But the biggest proportion of Promotions from a region is in Technolgy Department"
   ]
  },
  {
   "cell_type": "code",
   "execution_count": 63,
   "id": "80147e8e-8e4c-402c-9efe-0794e748db7a",
   "metadata": {},
   "outputs": [
    {
     "data": {
      "image/png": "[encoded data removed]",
      "text/plain": [
       "<Figure size 936x576 with 1 Axes>"
      ]
     },
     "metadata": {
      "needs_background": "light"
     },
     "output_type": "display_data"
    }
   ],
   "source": [
    "plt.figure(figsize=(13,8))\n",
    "plt.title('Department VS Promotion')\n",
    "sns.countplot(x=df['department'],hue=df['is_promoted']);"
   ]
  },
  {
   "cell_type": "code",
   "execution_count": 64,
   "id": "37aae6f6-65fa-4335-b82d-ee7a5f3b651c",
   "metadata": {},
   "outputs": [],
   "source": [
    "# Visualization of Data Relationship Between Department and Promotion"
   ]
  },
  {
   "cell_type": "markdown",
   "id": "bf6fdc5c-964b-410c-a774-e4de8c2f670e",
   "metadata": {},
   "source": [
    "- Finding the Relationship between Region and Target Feature"
   ]
  },
  {
   "cell_type": "code",
   "execution_count": 65,
   "id": "1f39d5d4-637c-4590-99c0-b085be491533",
   "metadata": {},
   "outputs": [
    {
     "data": {
      "text/html": [
       "<div>\n",
       "<style scoped>\n",
       "    .dataframe tbody tr th:only-of-type {\n",
       "        vertical-align: middle;\n",
       "    }\n",
       "\n",
       "    .dataframe tbody tr th {\n",
       "        vertical-align: top;\n",
       "    }\n",
       "\n",
       "    .dataframe thead th {\n",
       "        text-align: right;\n",
       "    }\n",
       "</style>\n",
       "<table border=\"1\" class=\"dataframe\">\n",
       "  <thead>\n",
       "    <tr style=\"text-align: right;\">\n",
       "      <th>is_promoted</th>\n",
       "      <th>0</th>\n",
       "      <th>1</th>\n",
       "    </tr>\n",
       "    <tr>\n",
       "      <th>region</th>\n",
       "      <th></th>\n",
       "      <th></th>\n",
       "    </tr>\n",
       "  </thead>\n",
       "  <tbody>\n",
       "    <tr>\n",
       "      <th>region_2</th>\n",
       "      <td>11354</td>\n",
       "      <td>989</td>\n",
       "    </tr>\n",
       "    <tr>\n",
       "      <th>region_22</th>\n",
       "      <td>5694</td>\n",
       "      <td>734</td>\n",
       "    </tr>\n",
       "    <tr>\n",
       "      <th>region_7</th>\n",
       "      <td>4327</td>\n",
       "      <td>516</td>\n",
       "    </tr>\n",
       "    <tr>\n",
       "      <th>region_4</th>\n",
       "      <td>1457</td>\n",
       "      <td>246</td>\n",
       "    </tr>\n",
       "    <tr>\n",
       "      <th>region_13</th>\n",
       "      <td>2418</td>\n",
       "      <td>230</td>\n",
       "    </tr>\n",
       "    <tr>\n",
       "      <th>region_15</th>\n",
       "      <td>2586</td>\n",
       "      <td>222</td>\n",
       "    </tr>\n",
       "    <tr>\n",
       "      <th>region_28</th>\n",
       "      <td>1164</td>\n",
       "      <td>154</td>\n",
       "    </tr>\n",
       "    <tr>\n",
       "      <th>region_26</th>\n",
       "      <td>2117</td>\n",
       "      <td>143</td>\n",
       "    </tr>\n",
       "    <tr>\n",
       "      <th>region_23</th>\n",
       "      <td>1038</td>\n",
       "      <td>137</td>\n",
       "    </tr>\n",
       "    <tr>\n",
       "      <th>region_27</th>\n",
       "      <td>1528</td>\n",
       "      <td>131</td>\n",
       "    </tr>\n",
       "    <tr>\n",
       "      <th>region_31</th>\n",
       "      <td>1825</td>\n",
       "      <td>110</td>\n",
       "    </tr>\n",
       "    <tr>\n",
       "      <th>region_17</th>\n",
       "      <td>687</td>\n",
       "      <td>109</td>\n",
       "    </tr>\n",
       "    <tr>\n",
       "      <th>region_25</th>\n",
       "      <td>716</td>\n",
       "      <td>103</td>\n",
       "    </tr>\n",
       "    <tr>\n",
       "      <th>region_16</th>\n",
       "      <td>1363</td>\n",
       "      <td>102</td>\n",
       "    </tr>\n",
       "    <tr>\n",
       "      <th>region_11</th>\n",
       "      <td>1241</td>\n",
       "      <td>74</td>\n",
       "    </tr>\n",
       "    <tr>\n",
       "      <th>region_14</th>\n",
       "      <td>765</td>\n",
       "      <td>62</td>\n",
       "    </tr>\n",
       "    <tr>\n",
       "      <th>region_30</th>\n",
       "      <td>598</td>\n",
       "      <td>59</td>\n",
       "    </tr>\n",
       "    <tr>\n",
       "      <th>region_1</th>\n",
       "      <td>552</td>\n",
       "      <td>58</td>\n",
       "    </tr>\n",
       "    <tr>\n",
       "      <th>region_19</th>\n",
       "      <td>821</td>\n",
       "      <td>53</td>\n",
       "    </tr>\n",
       "    <tr>\n",
       "      <th>region_8</th>\n",
       "      <td>602</td>\n",
       "      <td>53</td>\n",
       "    </tr>\n",
       "    <tr>\n",
       "      <th>region_10</th>\n",
       "      <td>597</td>\n",
       "      <td>51</td>\n",
       "    </tr>\n",
       "    <tr>\n",
       "      <th>region_20</th>\n",
       "      <td>801</td>\n",
       "      <td>49</td>\n",
       "    </tr>\n",
       "    <tr>\n",
       "      <th>region_29</th>\n",
       "      <td>951</td>\n",
       "      <td>43</td>\n",
       "    </tr>\n",
       "    <tr>\n",
       "      <th>region_32</th>\n",
       "      <td>905</td>\n",
       "      <td>40</td>\n",
       "    </tr>\n",
       "    <tr>\n",
       "      <th>region_3</th>\n",
       "      <td>309</td>\n",
       "      <td>37</td>\n",
       "    </tr>\n",
       "    <tr>\n",
       "      <th>region_5</th>\n",
       "      <td>731</td>\n",
       "      <td>35</td>\n",
       "    </tr>\n",
       "    <tr>\n",
       "      <th>region_12</th>\n",
       "      <td>467</td>\n",
       "      <td>33</td>\n",
       "    </tr>\n",
       "    <tr>\n",
       "      <th>region_6</th>\n",
       "      <td>658</td>\n",
       "      <td>32</td>\n",
       "    </tr>\n",
       "    <tr>\n",
       "      <th>region_24</th>\n",
       "      <td>490</td>\n",
       "      <td>18</td>\n",
       "    </tr>\n",
       "    <tr>\n",
       "      <th>region_21</th>\n",
       "      <td>393</td>\n",
       "      <td>18</td>\n",
       "    </tr>\n",
       "    <tr>\n",
       "      <th>region_33</th>\n",
       "      <td>259</td>\n",
       "      <td>10</td>\n",
       "    </tr>\n",
       "    <tr>\n",
       "      <th>region_34</th>\n",
       "      <td>284</td>\n",
       "      <td>8</td>\n",
       "    </tr>\n",
       "    <tr>\n",
       "      <th>region_9</th>\n",
       "      <td>412</td>\n",
       "      <td>8</td>\n",
       "    </tr>\n",
       "    <tr>\n",
       "      <th>region_18</th>\n",
       "      <td>30</td>\n",
       "      <td>1</td>\n",
       "    </tr>\n",
       "  </tbody>\n",
       "</table>\n",
       "</div>"
      ],
      "text/plain": [
       "is_promoted      0    1\n",
       "region                 \n",
       "region_2     11354  989\n",
       "region_22     5694  734\n",
       "region_7      4327  516\n",
       "region_4      1457  246\n",
       "region_13     2418  230\n",
       "region_15     2586  222\n",
       "region_28     1164  154\n",
       "region_26     2117  143\n",
       "region_23     1038  137\n",
       "region_27     1528  131\n",
       "region_31     1825  110\n",
       "region_17      687  109\n",
       "region_25      716  103\n",
       "region_16     1363  102\n",
       "region_11     1241   74\n",
       "region_14      765   62\n",
       "region_30      598   59\n",
       "region_1       552   58\n",
       "region_19      821   53\n",
       "region_8       602   53\n",
       "region_10      597   51\n",
       "region_20      801   49\n",
       "region_29      951   43\n",
       "region_32      905   40\n",
       "region_3       309   37\n",
       "region_5       731   35\n",
       "region_12      467   33\n",
       "region_6       658   32\n",
       "region_24      490   18\n",
       "region_21      393   18\n",
       "region_33      259   10\n",
       "region_34      284    8\n",
       "region_9       412    8\n",
       "region_18       30    1"
      ]
     },
     "execution_count": 65,
     "metadata": {},
     "output_type": "execute_result"
    }
   ],
   "source": [
    "pd.crosstab(index=df['region'],columns=df['is_promoted']).sort_values(1,ascending=False)"
   ]
  },
  {
   "cell_type": "code",
   "execution_count": 65,
   "id": "4fc9c61e-7631-4a5f-9e2f-3011e866e180",
   "metadata": {},
   "outputs": [
    {
     "data": {
      "text/html": [
       "<div>\n",
       "<style scoped>\n",
       "    .dataframe tbody tr th:only-of-type {\n",
       "        vertical-align: middle;\n",
       "    }\n",
       "\n",
       "    .dataframe tbody tr th {\n",
       "        vertical-align: top;\n",
       "    }\n",
       "\n",
       "    .dataframe thead th {\n",
       "        text-align: right;\n",
       "    }\n",
       "</style>\n",
       "<table border=\"1\" class=\"dataframe\">\n",
       "  <thead>\n",
       "    <tr style=\"text-align: right;\">\n",
       "      <th>is_promoted</th>\n",
       "      <th>0</th>\n",
       "      <th>1</th>\n",
       "    </tr>\n",
       "    <tr>\n",
       "      <th>region</th>\n",
       "      <th></th>\n",
       "      <th></th>\n",
       "    </tr>\n",
       "  </thead>\n",
       "  <tbody>\n",
       "    <tr>\n",
       "      <th>region_2</th>\n",
       "      <td>22.64</td>\n",
       "      <td>21.19</td>\n",
       "    </tr>\n",
       "    <tr>\n",
       "      <th>region_22</th>\n",
       "      <td>11.36</td>\n",
       "      <td>15.72</td>\n",
       "    </tr>\n",
       "    <tr>\n",
       "      <th>region_7</th>\n",
       "      <td>8.63</td>\n",
       "      <td>11.05</td>\n",
       "    </tr>\n",
       "    <tr>\n",
       "      <th>region_4</th>\n",
       "      <td>2.91</td>\n",
       "      <td>5.27</td>\n",
       "    </tr>\n",
       "    <tr>\n",
       "      <th>region_13</th>\n",
       "      <td>4.82</td>\n",
       "      <td>4.93</td>\n",
       "    </tr>\n",
       "    <tr>\n",
       "      <th>region_15</th>\n",
       "      <td>5.16</td>\n",
       "      <td>4.76</td>\n",
       "    </tr>\n",
       "    <tr>\n",
       "      <th>region_28</th>\n",
       "      <td>2.32</td>\n",
       "      <td>3.30</td>\n",
       "    </tr>\n",
       "    <tr>\n",
       "      <th>region_26</th>\n",
       "      <td>4.22</td>\n",
       "      <td>3.06</td>\n",
       "    </tr>\n",
       "    <tr>\n",
       "      <th>region_23</th>\n",
       "      <td>2.07</td>\n",
       "      <td>2.93</td>\n",
       "    </tr>\n",
       "    <tr>\n",
       "      <th>region_27</th>\n",
       "      <td>3.05</td>\n",
       "      <td>2.81</td>\n",
       "    </tr>\n",
       "    <tr>\n",
       "      <th>region_31</th>\n",
       "      <td>3.64</td>\n",
       "      <td>2.36</td>\n",
       "    </tr>\n",
       "    <tr>\n",
       "      <th>region_17</th>\n",
       "      <td>1.37</td>\n",
       "      <td>2.34</td>\n",
       "    </tr>\n",
       "    <tr>\n",
       "      <th>region_25</th>\n",
       "      <td>1.43</td>\n",
       "      <td>2.21</td>\n",
       "    </tr>\n",
       "    <tr>\n",
       "      <th>region_16</th>\n",
       "      <td>2.72</td>\n",
       "      <td>2.19</td>\n",
       "    </tr>\n",
       "    <tr>\n",
       "      <th>region_11</th>\n",
       "      <td>2.48</td>\n",
       "      <td>1.59</td>\n",
       "    </tr>\n",
       "    <tr>\n",
       "      <th>region_14</th>\n",
       "      <td>1.53</td>\n",
       "      <td>1.33</td>\n",
       "    </tr>\n",
       "    <tr>\n",
       "      <th>region_30</th>\n",
       "      <td>1.19</td>\n",
       "      <td>1.26</td>\n",
       "    </tr>\n",
       "    <tr>\n",
       "      <th>region_1</th>\n",
       "      <td>1.10</td>\n",
       "      <td>1.24</td>\n",
       "    </tr>\n",
       "    <tr>\n",
       "      <th>region_19</th>\n",
       "      <td>1.64</td>\n",
       "      <td>1.14</td>\n",
       "    </tr>\n",
       "    <tr>\n",
       "      <th>region_8</th>\n",
       "      <td>1.20</td>\n",
       "      <td>1.14</td>\n",
       "    </tr>\n",
       "    <tr>\n",
       "      <th>region_10</th>\n",
       "      <td>1.19</td>\n",
       "      <td>1.09</td>\n",
       "    </tr>\n",
       "    <tr>\n",
       "      <th>region_20</th>\n",
       "      <td>1.60</td>\n",
       "      <td>1.05</td>\n",
       "    </tr>\n",
       "    <tr>\n",
       "      <th>region_29</th>\n",
       "      <td>1.90</td>\n",
       "      <td>0.92</td>\n",
       "    </tr>\n",
       "    <tr>\n",
       "      <th>region_32</th>\n",
       "      <td>1.80</td>\n",
       "      <td>0.86</td>\n",
       "    </tr>\n",
       "    <tr>\n",
       "      <th>region_3</th>\n",
       "      <td>0.62</td>\n",
       "      <td>0.79</td>\n",
       "    </tr>\n",
       "    <tr>\n",
       "      <th>region_5</th>\n",
       "      <td>1.46</td>\n",
       "      <td>0.75</td>\n",
       "    </tr>\n",
       "    <tr>\n",
       "      <th>region_12</th>\n",
       "      <td>0.93</td>\n",
       "      <td>0.71</td>\n",
       "    </tr>\n",
       "    <tr>\n",
       "      <th>region_6</th>\n",
       "      <td>1.31</td>\n",
       "      <td>0.69</td>\n",
       "    </tr>\n",
       "    <tr>\n",
       "      <th>region_24</th>\n",
       "      <td>0.98</td>\n",
       "      <td>0.39</td>\n",
       "    </tr>\n",
       "    <tr>\n",
       "      <th>region_21</th>\n",
       "      <td>0.78</td>\n",
       "      <td>0.39</td>\n",
       "    </tr>\n",
       "    <tr>\n",
       "      <th>region_33</th>\n",
       "      <td>0.52</td>\n",
       "      <td>0.21</td>\n",
       "    </tr>\n",
       "    <tr>\n",
       "      <th>region_34</th>\n",
       "      <td>0.57</td>\n",
       "      <td>0.17</td>\n",
       "    </tr>\n",
       "    <tr>\n",
       "      <th>region_9</th>\n",
       "      <td>0.82</td>\n",
       "      <td>0.17</td>\n",
       "    </tr>\n",
       "    <tr>\n",
       "      <th>region_18</th>\n",
       "      <td>0.06</td>\n",
       "      <td>0.02</td>\n",
       "    </tr>\n",
       "  </tbody>\n",
       "</table>\n",
       "</div>"
      ],
      "text/plain": [
       "is_promoted      0      1\n",
       "region                   \n",
       "region_2     22.64  21.19\n",
       "region_22    11.36  15.72\n",
       "region_7      8.63  11.05\n",
       "region_4      2.91   5.27\n",
       "region_13     4.82   4.93\n",
       "region_15     5.16   4.76\n",
       "region_28     2.32   3.30\n",
       "region_26     4.22   3.06\n",
       "region_23     2.07   2.93\n",
       "region_27     3.05   2.81\n",
       "region_31     3.64   2.36\n",
       "region_17     1.37   2.34\n",
       "region_25     1.43   2.21\n",
       "region_16     2.72   2.19\n",
       "region_11     2.48   1.59\n",
       "region_14     1.53   1.33\n",
       "region_30     1.19   1.26\n",
       "region_1      1.10   1.24\n",
       "region_19     1.64   1.14\n",
       "region_8      1.20   1.14\n",
       "region_10     1.19   1.09\n",
       "region_20     1.60   1.05\n",
       "region_29     1.90   0.92\n",
       "region_32     1.80   0.86\n",
       "region_3      0.62   0.79\n",
       "region_5      1.46   0.75\n",
       "region_12     0.93   0.71\n",
       "region_6      1.31   0.69\n",
       "region_24     0.98   0.39\n",
       "region_21     0.78   0.39\n",
       "region_33     0.52   0.21\n",
       "region_34     0.57   0.17\n",
       "region_9      0.82   0.17\n",
       "region_18     0.06   0.02"
      ]
     },
     "execution_count": 65,
     "metadata": {},
     "output_type": "execute_result"
    }
   ],
   "source": [
    "(pd.crosstab(index=df['region'],columns=df['is_promoted'],normalize='columns')*100).round(2).sort_values(1,ascending=False)"
   ]
  },
  {
   "cell_type": "code",
   "execution_count": 74,
   "id": "1f39d677-b9ae-40a0-9ebf-7cd31337f37f",
   "metadata": {},
   "outputs": [],
   "source": [
    "# Most of them who got Promoted are from Region 2"
   ]
  },
  {
   "cell_type": "code",
   "execution_count": 66,
   "id": "8471d17c-2932-4b34-bda8-a66f58952167",
   "metadata": {},
   "outputs": [
    {
     "data": {
      "text/html": [
       "<div>\n",
       "<style scoped>\n",
       "    .dataframe tbody tr th:only-of-type {\n",
       "        vertical-align: middle;\n",
       "    }\n",
       "\n",
       "    .dataframe tbody tr th {\n",
       "        vertical-align: top;\n",
       "    }\n",
       "\n",
       "    .dataframe thead th {\n",
       "        text-align: right;\n",
       "    }\n",
       "</style>\n",
       "<table border=\"1\" class=\"dataframe\">\n",
       "  <thead>\n",
       "    <tr style=\"text-align: right;\">\n",
       "      <th>is_promoted</th>\n",
       "      <th>0</th>\n",
       "      <th>1</th>\n",
       "    </tr>\n",
       "    <tr>\n",
       "      <th>region</th>\n",
       "      <th></th>\n",
       "      <th></th>\n",
       "    </tr>\n",
       "  </thead>\n",
       "  <tbody>\n",
       "    <tr>\n",
       "      <th>region_4</th>\n",
       "      <td>85.55</td>\n",
       "      <td>14.45</td>\n",
       "    </tr>\n",
       "    <tr>\n",
       "      <th>region_17</th>\n",
       "      <td>86.31</td>\n",
       "      <td>13.69</td>\n",
       "    </tr>\n",
       "    <tr>\n",
       "      <th>region_25</th>\n",
       "      <td>87.42</td>\n",
       "      <td>12.58</td>\n",
       "    </tr>\n",
       "    <tr>\n",
       "      <th>region_28</th>\n",
       "      <td>88.32</td>\n",
       "      <td>11.68</td>\n",
       "    </tr>\n",
       "    <tr>\n",
       "      <th>region_23</th>\n",
       "      <td>88.34</td>\n",
       "      <td>11.66</td>\n",
       "    </tr>\n",
       "    <tr>\n",
       "      <th>region_22</th>\n",
       "      <td>88.58</td>\n",
       "      <td>11.42</td>\n",
       "    </tr>\n",
       "    <tr>\n",
       "      <th>region_3</th>\n",
       "      <td>89.31</td>\n",
       "      <td>10.69</td>\n",
       "    </tr>\n",
       "    <tr>\n",
       "      <th>region_7</th>\n",
       "      <td>89.35</td>\n",
       "      <td>10.65</td>\n",
       "    </tr>\n",
       "    <tr>\n",
       "      <th>region_1</th>\n",
       "      <td>90.49</td>\n",
       "      <td>9.51</td>\n",
       "    </tr>\n",
       "    <tr>\n",
       "      <th>region_30</th>\n",
       "      <td>91.02</td>\n",
       "      <td>8.98</td>\n",
       "    </tr>\n",
       "    <tr>\n",
       "      <th>region_13</th>\n",
       "      <td>91.31</td>\n",
       "      <td>8.69</td>\n",
       "    </tr>\n",
       "    <tr>\n",
       "      <th>region_8</th>\n",
       "      <td>91.91</td>\n",
       "      <td>8.09</td>\n",
       "    </tr>\n",
       "    <tr>\n",
       "      <th>region_2</th>\n",
       "      <td>91.99</td>\n",
       "      <td>8.01</td>\n",
       "    </tr>\n",
       "    <tr>\n",
       "      <th>region_15</th>\n",
       "      <td>92.09</td>\n",
       "      <td>7.91</td>\n",
       "    </tr>\n",
       "    <tr>\n",
       "      <th>region_27</th>\n",
       "      <td>92.10</td>\n",
       "      <td>7.90</td>\n",
       "    </tr>\n",
       "    <tr>\n",
       "      <th>region_10</th>\n",
       "      <td>92.13</td>\n",
       "      <td>7.87</td>\n",
       "    </tr>\n",
       "    <tr>\n",
       "      <th>region_14</th>\n",
       "      <td>92.50</td>\n",
       "      <td>7.50</td>\n",
       "    </tr>\n",
       "    <tr>\n",
       "      <th>region_16</th>\n",
       "      <td>93.04</td>\n",
       "      <td>6.96</td>\n",
       "    </tr>\n",
       "    <tr>\n",
       "      <th>region_12</th>\n",
       "      <td>93.40</td>\n",
       "      <td>6.60</td>\n",
       "    </tr>\n",
       "    <tr>\n",
       "      <th>region_26</th>\n",
       "      <td>93.67</td>\n",
       "      <td>6.33</td>\n",
       "    </tr>\n",
       "    <tr>\n",
       "      <th>region_19</th>\n",
       "      <td>93.94</td>\n",
       "      <td>6.06</td>\n",
       "    </tr>\n",
       "    <tr>\n",
       "      <th>region_20</th>\n",
       "      <td>94.24</td>\n",
       "      <td>5.76</td>\n",
       "    </tr>\n",
       "    <tr>\n",
       "      <th>region_31</th>\n",
       "      <td>94.32</td>\n",
       "      <td>5.68</td>\n",
       "    </tr>\n",
       "    <tr>\n",
       "      <th>region_11</th>\n",
       "      <td>94.37</td>\n",
       "      <td>5.63</td>\n",
       "    </tr>\n",
       "    <tr>\n",
       "      <th>region_6</th>\n",
       "      <td>95.36</td>\n",
       "      <td>4.64</td>\n",
       "    </tr>\n",
       "    <tr>\n",
       "      <th>region_5</th>\n",
       "      <td>95.43</td>\n",
       "      <td>4.57</td>\n",
       "    </tr>\n",
       "    <tr>\n",
       "      <th>region_21</th>\n",
       "      <td>95.62</td>\n",
       "      <td>4.38</td>\n",
       "    </tr>\n",
       "    <tr>\n",
       "      <th>region_29</th>\n",
       "      <td>95.67</td>\n",
       "      <td>4.33</td>\n",
       "    </tr>\n",
       "    <tr>\n",
       "      <th>region_32</th>\n",
       "      <td>95.77</td>\n",
       "      <td>4.23</td>\n",
       "    </tr>\n",
       "    <tr>\n",
       "      <th>region_33</th>\n",
       "      <td>96.28</td>\n",
       "      <td>3.72</td>\n",
       "    </tr>\n",
       "    <tr>\n",
       "      <th>region_24</th>\n",
       "      <td>96.46</td>\n",
       "      <td>3.54</td>\n",
       "    </tr>\n",
       "    <tr>\n",
       "      <th>region_18</th>\n",
       "      <td>96.77</td>\n",
       "      <td>3.23</td>\n",
       "    </tr>\n",
       "    <tr>\n",
       "      <th>region_34</th>\n",
       "      <td>97.26</td>\n",
       "      <td>2.74</td>\n",
       "    </tr>\n",
       "    <tr>\n",
       "      <th>region_9</th>\n",
       "      <td>98.10</td>\n",
       "      <td>1.90</td>\n",
       "    </tr>\n",
       "  </tbody>\n",
       "</table>\n",
       "</div>"
      ],
      "text/plain": [
       "is_promoted      0      1\n",
       "region                   \n",
       "region_4     85.55  14.45\n",
       "region_17    86.31  13.69\n",
       "region_25    87.42  12.58\n",
       "region_28    88.32  11.68\n",
       "region_23    88.34  11.66\n",
       "region_22    88.58  11.42\n",
       "region_3     89.31  10.69\n",
       "region_7     89.35  10.65\n",
       "region_1     90.49   9.51\n",
       "region_30    91.02   8.98\n",
       "region_13    91.31   8.69\n",
       "region_8     91.91   8.09\n",
       "region_2     91.99   8.01\n",
       "region_15    92.09   7.91\n",
       "region_27    92.10   7.90\n",
       "region_10    92.13   7.87\n",
       "region_14    92.50   7.50\n",
       "region_16    93.04   6.96\n",
       "region_12    93.40   6.60\n",
       "region_26    93.67   6.33\n",
       "region_19    93.94   6.06\n",
       "region_20    94.24   5.76\n",
       "region_31    94.32   5.68\n",
       "region_11    94.37   5.63\n",
       "region_6     95.36   4.64\n",
       "region_5     95.43   4.57\n",
       "region_21    95.62   4.38\n",
       "region_29    95.67   4.33\n",
       "region_32    95.77   4.23\n",
       "region_33    96.28   3.72\n",
       "region_24    96.46   3.54\n",
       "region_18    96.77   3.23\n",
       "region_34    97.26   2.74\n",
       "region_9     98.10   1.90"
      ]
     },
     "execution_count": 66,
     "metadata": {},
     "output_type": "execute_result"
    }
   ],
   "source": [
    "(pd.crosstab(index=df['region'],columns=df['is_promoted'],normalize='index')*100).round(2).sort_values(1,ascending=False)"
   ]
  },
  {
   "cell_type": "code",
   "execution_count": 75,
   "id": "896935da-9faa-4776-9335-c32555c28e78",
   "metadata": {},
   "outputs": [],
   "source": [
    "# But the biggest proportion of Promotions from a region is in Region 4"
   ]
  },
  {
   "cell_type": "markdown",
   "id": "95709866-7031-4503-989d-d5afde566c44",
   "metadata": {},
   "source": [
    "- Finding the Relationship between Education and Target Feature"
   ]
  },
  {
   "cell_type": "code",
   "execution_count": 67,
   "id": "941d04a0-a2fd-4c12-b1d1-10e8733b75b6",
   "metadata": {},
   "outputs": [
    {
     "data": {
      "text/html": [
       "<div>\n",
       "<style scoped>\n",
       "    .dataframe tbody tr th:only-of-type {\n",
       "        vertical-align: middle;\n",
       "    }\n",
       "\n",
       "    .dataframe tbody tr th {\n",
       "        vertical-align: top;\n",
       "    }\n",
       "\n",
       "    .dataframe thead th {\n",
       "        text-align: right;\n",
       "    }\n",
       "</style>\n",
       "<table border=\"1\" class=\"dataframe\">\n",
       "  <thead>\n",
       "    <tr style=\"text-align: right;\">\n",
       "      <th>is_promoted</th>\n",
       "      <th>0</th>\n",
       "      <th>1</th>\n",
       "    </tr>\n",
       "    <tr>\n",
       "      <th>education</th>\n",
       "      <th></th>\n",
       "      <th></th>\n",
       "    </tr>\n",
       "  </thead>\n",
       "  <tbody>\n",
       "    <tr>\n",
       "      <th>Bachelor's</th>\n",
       "      <td>33661</td>\n",
       "      <td>3008</td>\n",
       "    </tr>\n",
       "    <tr>\n",
       "      <th>Master's &amp; above</th>\n",
       "      <td>13454</td>\n",
       "      <td>1471</td>\n",
       "    </tr>\n",
       "    <tr>\n",
       "      <th>Below Secondary</th>\n",
       "      <td>738</td>\n",
       "      <td>67</td>\n",
       "    </tr>\n",
       "  </tbody>\n",
       "</table>\n",
       "</div>"
      ],
      "text/plain": [
       "is_promoted           0     1\n",
       "education                    \n",
       "Bachelor's        33661  3008\n",
       "Master's & above  13454  1471\n",
       "Below Secondary     738    67"
      ]
     },
     "execution_count": 67,
     "metadata": {},
     "output_type": "execute_result"
    }
   ],
   "source": [
    "pd.crosstab(index=df['education'],columns=df['is_promoted']).sort_values(1,ascending=False)"
   ]
  },
  {
   "cell_type": "code",
   "execution_count": 68,
   "id": "4f807c94-4feb-48c7-af02-4ceca4d76d4d",
   "metadata": {},
   "outputs": [
    {
     "data": {
      "text/html": [
       "<div>\n",
       "<style scoped>\n",
       "    .dataframe tbody tr th:only-of-type {\n",
       "        vertical-align: middle;\n",
       "    }\n",
       "\n",
       "    .dataframe tbody tr th {\n",
       "        vertical-align: top;\n",
       "    }\n",
       "\n",
       "    .dataframe thead th {\n",
       "        text-align: right;\n",
       "    }\n",
       "</style>\n",
       "<table border=\"1\" class=\"dataframe\">\n",
       "  <thead>\n",
       "    <tr style=\"text-align: right;\">\n",
       "      <th>is_promoted</th>\n",
       "      <th>0</th>\n",
       "      <th>1</th>\n",
       "    </tr>\n",
       "    <tr>\n",
       "      <th>education</th>\n",
       "      <th></th>\n",
       "      <th></th>\n",
       "    </tr>\n",
       "  </thead>\n",
       "  <tbody>\n",
       "    <tr>\n",
       "      <th>Bachelor's</th>\n",
       "      <td>70.34</td>\n",
       "      <td>66.17</td>\n",
       "    </tr>\n",
       "    <tr>\n",
       "      <th>Master's &amp; above</th>\n",
       "      <td>28.12</td>\n",
       "      <td>32.36</td>\n",
       "    </tr>\n",
       "    <tr>\n",
       "      <th>Below Secondary</th>\n",
       "      <td>1.54</td>\n",
       "      <td>1.47</td>\n",
       "    </tr>\n",
       "  </tbody>\n",
       "</table>\n",
       "</div>"
      ],
      "text/plain": [
       "is_promoted           0      1\n",
       "education                     \n",
       "Bachelor's        70.34  66.17\n",
       "Master's & above  28.12  32.36\n",
       "Below Secondary    1.54   1.47"
      ]
     },
     "execution_count": 68,
     "metadata": {},
     "output_type": "execute_result"
    }
   ],
   "source": [
    "(pd.crosstab(index=df['education'],columns=df['is_promoted'],normalize='columns')*100).round(2).sort_values(1,ascending=False)"
   ]
  },
  {
   "cell_type": "code",
   "execution_count": 78,
   "id": "561eb8a8-4213-4a98-9383-bc73c805a87e",
   "metadata": {},
   "outputs": [],
   "source": [
    "# Most of them who got Promoted are the one who earned Bachelor's Degree"
   ]
  },
  {
   "cell_type": "code",
   "execution_count": 69,
   "id": "2f63383d-d030-4f89-838f-a37b65a880c0",
   "metadata": {},
   "outputs": [
    {
     "data": {
      "text/html": [
       "<div>\n",
       "<style scoped>\n",
       "    .dataframe tbody tr th:only-of-type {\n",
       "        vertical-align: middle;\n",
       "    }\n",
       "\n",
       "    .dataframe tbody tr th {\n",
       "        vertical-align: top;\n",
       "    }\n",
       "\n",
       "    .dataframe thead th {\n",
       "        text-align: right;\n",
       "    }\n",
       "</style>\n",
       "<table border=\"1\" class=\"dataframe\">\n",
       "  <thead>\n",
       "    <tr style=\"text-align: right;\">\n",
       "      <th>is_promoted</th>\n",
       "      <th>0</th>\n",
       "      <th>1</th>\n",
       "    </tr>\n",
       "    <tr>\n",
       "      <th>education</th>\n",
       "      <th></th>\n",
       "      <th></th>\n",
       "    </tr>\n",
       "  </thead>\n",
       "  <tbody>\n",
       "    <tr>\n",
       "      <th>Master's &amp; above</th>\n",
       "      <td>90.14</td>\n",
       "      <td>9.86</td>\n",
       "    </tr>\n",
       "    <tr>\n",
       "      <th>Below Secondary</th>\n",
       "      <td>91.68</td>\n",
       "      <td>8.32</td>\n",
       "    </tr>\n",
       "    <tr>\n",
       "      <th>Bachelor's</th>\n",
       "      <td>91.80</td>\n",
       "      <td>8.20</td>\n",
       "    </tr>\n",
       "  </tbody>\n",
       "</table>\n",
       "</div>"
      ],
      "text/plain": [
       "is_promoted           0     1\n",
       "education                    \n",
       "Master's & above  90.14  9.86\n",
       "Below Secondary   91.68  8.32\n",
       "Bachelor's        91.80  8.20"
      ]
     },
     "execution_count": 69,
     "metadata": {},
     "output_type": "execute_result"
    }
   ],
   "source": [
    "(pd.crosstab(index=df['education'],columns=df['is_promoted'],normalize='index')*100).round(2).sort_values(1,ascending=False)"
   ]
  },
  {
   "cell_type": "code",
   "execution_count": 79,
   "id": "d8a7bcd1-c5d2-4d4f-a93a-d7e82334e608",
   "metadata": {},
   "outputs": [],
   "source": [
    "# But the biggest proportion of Promotions based on Education Background is the one who have Master' Degree and above"
   ]
  },
  {
   "cell_type": "code",
   "execution_count": 70,
   "id": "ebe0b961-13c0-419e-87bb-68cb90525a74",
   "metadata": {},
   "outputs": [
    {
     "data": {
      "image/png": "[encoded data removed]",
      "text/plain": [
       "<Figure size 720x576 with 1 Axes>"
      ]
     },
     "metadata": {
      "needs_background": "light"
     },
     "output_type": "display_data"
    }
   ],
   "source": [
    "plt.figure(figsize=(10,8))\n",
    "plt.title('Education VS Promotion')\n",
    "sns.countplot(x=df['education'],hue=df['is_promoted']);"
   ]
  },
  {
   "cell_type": "code",
   "execution_count": 80,
   "id": "c32b3a92-93ca-467e-a7a5-2812c7598389",
   "metadata": {},
   "outputs": [],
   "source": [
    "# Visualization of Data Relationship Between Education Background and Promotion"
   ]
  },
  {
   "cell_type": "markdown",
   "id": "620e7bce-6938-448a-94a2-e2dce0d5a759",
   "metadata": {},
   "source": [
    "- Finding the Relationship between Gender and Target Feature"
   ]
  },
  {
   "cell_type": "code",
   "execution_count": 71,
   "id": "c50eb883-cf59-442f-b9f9-21423de75886",
   "metadata": {},
   "outputs": [
    {
     "data": {
      "text/html": [
       "<div>\n",
       "<style scoped>\n",
       "    .dataframe tbody tr th:only-of-type {\n",
       "        vertical-align: middle;\n",
       "    }\n",
       "\n",
       "    .dataframe tbody tr th {\n",
       "        vertical-align: top;\n",
       "    }\n",
       "\n",
       "    .dataframe thead th {\n",
       "        text-align: right;\n",
       "    }\n",
       "</style>\n",
       "<table border=\"1\" class=\"dataframe\">\n",
       "  <thead>\n",
       "    <tr style=\"text-align: right;\">\n",
       "      <th>is_promoted</th>\n",
       "      <th>0</th>\n",
       "      <th>1</th>\n",
       "    </tr>\n",
       "    <tr>\n",
       "      <th>gender</th>\n",
       "      <th></th>\n",
       "      <th></th>\n",
       "    </tr>\n",
       "  </thead>\n",
       "  <tbody>\n",
       "    <tr>\n",
       "      <th>m</th>\n",
       "      <td>35295</td>\n",
       "      <td>3201</td>\n",
       "    </tr>\n",
       "    <tr>\n",
       "      <th>f</th>\n",
       "      <td>14845</td>\n",
       "      <td>1467</td>\n",
       "    </tr>\n",
       "  </tbody>\n",
       "</table>\n",
       "</div>"
      ],
      "text/plain": [
       "is_promoted      0     1\n",
       "gender                  \n",
       "m            35295  3201\n",
       "f            14845  1467"
      ]
     },
     "execution_count": 71,
     "metadata": {},
     "output_type": "execute_result"
    }
   ],
   "source": [
    "pd.crosstab(index=df['gender'],columns=df['is_promoted']).sort_values(1,ascending=False)"
   ]
  },
  {
   "cell_type": "code",
   "execution_count": 72,
   "id": "9d6d7ce5-7f3a-4c11-9315-1bde10434366",
   "metadata": {},
   "outputs": [
    {
     "data": {
      "text/html": [
       "<div>\n",
       "<style scoped>\n",
       "    .dataframe tbody tr th:only-of-type {\n",
       "        vertical-align: middle;\n",
       "    }\n",
       "\n",
       "    .dataframe tbody tr th {\n",
       "        vertical-align: top;\n",
       "    }\n",
       "\n",
       "    .dataframe thead th {\n",
       "        text-align: right;\n",
       "    }\n",
       "</style>\n",
       "<table border=\"1\" class=\"dataframe\">\n",
       "  <thead>\n",
       "    <tr style=\"text-align: right;\">\n",
       "      <th>is_promoted</th>\n",
       "      <th>0</th>\n",
       "      <th>1</th>\n",
       "    </tr>\n",
       "    <tr>\n",
       "      <th>gender</th>\n",
       "      <th></th>\n",
       "      <th></th>\n",
       "    </tr>\n",
       "  </thead>\n",
       "  <tbody>\n",
       "    <tr>\n",
       "      <th>m</th>\n",
       "      <td>70.39</td>\n",
       "      <td>68.57</td>\n",
       "    </tr>\n",
       "    <tr>\n",
       "      <th>f</th>\n",
       "      <td>29.61</td>\n",
       "      <td>31.43</td>\n",
       "    </tr>\n",
       "  </tbody>\n",
       "</table>\n",
       "</div>"
      ],
      "text/plain": [
       "is_promoted      0      1\n",
       "gender                   \n",
       "m            70.39  68.57\n",
       "f            29.61  31.43"
      ]
     },
     "execution_count": 72,
     "metadata": {},
     "output_type": "execute_result"
    }
   ],
   "source": [
    "(pd.crosstab(index=df['gender'],columns=df['is_promoted'],normalize='columns')*100).round(2).sort_values(1,ascending=False)"
   ]
  },
  {
   "cell_type": "code",
   "execution_count": 89,
   "id": "8072ebe6-2821-458f-b27f-9f9ef254b97a",
   "metadata": {},
   "outputs": [],
   "source": [
    "# Most of them who got Promotion are Male Employee"
   ]
  },
  {
   "cell_type": "code",
   "execution_count": 73,
   "id": "c938bfb9-f177-4709-9287-f19e6b13eb19",
   "metadata": {},
   "outputs": [
    {
     "data": {
      "text/html": [
       "<div>\n",
       "<style scoped>\n",
       "    .dataframe tbody tr th:only-of-type {\n",
       "        vertical-align: middle;\n",
       "    }\n",
       "\n",
       "    .dataframe tbody tr th {\n",
       "        vertical-align: top;\n",
       "    }\n",
       "\n",
       "    .dataframe thead th {\n",
       "        text-align: right;\n",
       "    }\n",
       "</style>\n",
       "<table border=\"1\" class=\"dataframe\">\n",
       "  <thead>\n",
       "    <tr style=\"text-align: right;\">\n",
       "      <th>is_promoted</th>\n",
       "      <th>0</th>\n",
       "      <th>1</th>\n",
       "    </tr>\n",
       "    <tr>\n",
       "      <th>gender</th>\n",
       "      <th></th>\n",
       "      <th></th>\n",
       "    </tr>\n",
       "  </thead>\n",
       "  <tbody>\n",
       "    <tr>\n",
       "      <th>f</th>\n",
       "      <td>91.01</td>\n",
       "      <td>8.99</td>\n",
       "    </tr>\n",
       "    <tr>\n",
       "      <th>m</th>\n",
       "      <td>91.68</td>\n",
       "      <td>8.32</td>\n",
       "    </tr>\n",
       "  </tbody>\n",
       "</table>\n",
       "</div>"
      ],
      "text/plain": [
       "is_promoted      0     1\n",
       "gender                  \n",
       "f            91.01  8.99\n",
       "m            91.68  8.32"
      ]
     },
     "execution_count": 73,
     "metadata": {},
     "output_type": "execute_result"
    }
   ],
   "source": [
    "(pd.crosstab(index=df['gender'],columns=df['is_promoted'],normalize='index')*100).round(2).sort_values(1,ascending=False)"
   ]
  },
  {
   "cell_type": "code",
   "execution_count": 90,
   "id": "30273f8c-43ff-4ff1-bf6c-206041b6555e",
   "metadata": {},
   "outputs": [],
   "source": [
    "# But the biggest proportion of Promotions based on Gender is Female Employee"
   ]
  },
  {
   "cell_type": "code",
   "execution_count": 74,
   "id": "5778c785-44dd-42d2-95b6-a9d8058c5413",
   "metadata": {},
   "outputs": [
    {
     "data": {
      "image/png": "[encoded data removed]",
      "text/plain": [
       "<Figure size 720x576 with 1 Axes>"
      ]
     },
     "metadata": {
      "needs_background": "light"
     },
     "output_type": "display_data"
    }
   ],
   "source": [
    "plt.figure(figsize=(10,8))\n",
    "plt.title('Gender VS Promotion')\n",
    "sns.countplot(x=df['gender'],hue=df['is_promoted']);"
   ]
  },
  {
   "cell_type": "code",
   "execution_count": 81,
   "id": "54f7d716-17d5-4f2e-8146-e1e94cde01a1",
   "metadata": {},
   "outputs": [],
   "source": [
    "# Visualization of Data Relationship Between Gender and Promotion"
   ]
  },
  {
   "cell_type": "markdown",
   "id": "8e471eb2-25d6-4a79-80b1-2ce637cd3d26",
   "metadata": {},
   "source": [
    "- Finding the Relationship between Recruitment Channel and Target Feature"
   ]
  },
  {
   "cell_type": "code",
   "execution_count": 75,
   "id": "13a917c2-75b7-47a2-a23d-4c5051514dde",
   "metadata": {},
   "outputs": [
    {
     "data": {
      "text/html": [
       "<div>\n",
       "<style scoped>\n",
       "    .dataframe tbody tr th:only-of-type {\n",
       "        vertical-align: middle;\n",
       "    }\n",
       "\n",
       "    .dataframe tbody tr th {\n",
       "        vertical-align: top;\n",
       "    }\n",
       "\n",
       "    .dataframe thead th {\n",
       "        text-align: right;\n",
       "    }\n",
       "</style>\n",
       "<table border=\"1\" class=\"dataframe\">\n",
       "  <thead>\n",
       "    <tr style=\"text-align: right;\">\n",
       "      <th>is_promoted</th>\n",
       "      <th>0</th>\n",
       "      <th>1</th>\n",
       "    </tr>\n",
       "    <tr>\n",
       "      <th>recruitment_channel</th>\n",
       "      <th></th>\n",
       "      <th></th>\n",
       "    </tr>\n",
       "  </thead>\n",
       "  <tbody>\n",
       "    <tr>\n",
       "      <th>other</th>\n",
       "      <td>27890</td>\n",
       "      <td>2556</td>\n",
       "    </tr>\n",
       "    <tr>\n",
       "      <th>sourcing</th>\n",
       "      <td>21246</td>\n",
       "      <td>1974</td>\n",
       "    </tr>\n",
       "    <tr>\n",
       "      <th>referred</th>\n",
       "      <td>1004</td>\n",
       "      <td>138</td>\n",
       "    </tr>\n",
       "  </tbody>\n",
       "</table>\n",
       "</div>"
      ],
      "text/plain": [
       "is_promoted              0     1\n",
       "recruitment_channel             \n",
       "other                27890  2556\n",
       "sourcing             21246  1974\n",
       "referred              1004   138"
      ]
     },
     "execution_count": 75,
     "metadata": {},
     "output_type": "execute_result"
    }
   ],
   "source": [
    "pd.crosstab(index=df['recruitment_channel'],columns=df['is_promoted']).sort_values(1,ascending=False)"
   ]
  },
  {
   "cell_type": "code",
   "execution_count": 76,
   "id": "bb4ff968-3cee-4f6e-807c-da6923766e96",
   "metadata": {},
   "outputs": [
    {
     "data": {
      "text/html": [
       "<div>\n",
       "<style scoped>\n",
       "    .dataframe tbody tr th:only-of-type {\n",
       "        vertical-align: middle;\n",
       "    }\n",
       "\n",
       "    .dataframe tbody tr th {\n",
       "        vertical-align: top;\n",
       "    }\n",
       "\n",
       "    .dataframe thead th {\n",
       "        text-align: right;\n",
       "    }\n",
       "</style>\n",
       "<table border=\"1\" class=\"dataframe\">\n",
       "  <thead>\n",
       "    <tr style=\"text-align: right;\">\n",
       "      <th>is_promoted</th>\n",
       "      <th>0</th>\n",
       "      <th>1</th>\n",
       "    </tr>\n",
       "    <tr>\n",
       "      <th>recruitment_channel</th>\n",
       "      <th></th>\n",
       "      <th></th>\n",
       "    </tr>\n",
       "  </thead>\n",
       "  <tbody>\n",
       "    <tr>\n",
       "      <th>other</th>\n",
       "      <td>55.62</td>\n",
       "      <td>54.76</td>\n",
       "    </tr>\n",
       "    <tr>\n",
       "      <th>sourcing</th>\n",
       "      <td>42.37</td>\n",
       "      <td>42.29</td>\n",
       "    </tr>\n",
       "    <tr>\n",
       "      <th>referred</th>\n",
       "      <td>2.00</td>\n",
       "      <td>2.96</td>\n",
       "    </tr>\n",
       "  </tbody>\n",
       "</table>\n",
       "</div>"
      ],
      "text/plain": [
       "is_promoted              0      1\n",
       "recruitment_channel              \n",
       "other                55.62  54.76\n",
       "sourcing             42.37  42.29\n",
       "referred              2.00   2.96"
      ]
     },
     "execution_count": 76,
     "metadata": {},
     "output_type": "execute_result"
    }
   ],
   "source": [
    "(pd.crosstab(index=df['recruitment_channel'],columns=df['is_promoted'],normalize='columns')*100).round(2).sort_values(1,ascending=False)"
   ]
  },
  {
   "cell_type": "code",
   "execution_count": 91,
   "id": "e1bdb0d2-1fb3-4fe2-9d6e-82002d895a92",
   "metadata": {},
   "outputs": [],
   "source": [
    "# Most of them who got Promoted are recruited from unknown resources"
   ]
  },
  {
   "cell_type": "code",
   "execution_count": 77,
   "id": "f1da4ad3-d102-4db1-ae21-3eed4f24b8e0",
   "metadata": {},
   "outputs": [
    {
     "data": {
      "text/html": [
       "<div>\n",
       "<style scoped>\n",
       "    .dataframe tbody tr th:only-of-type {\n",
       "        vertical-align: middle;\n",
       "    }\n",
       "\n",
       "    .dataframe tbody tr th {\n",
       "        vertical-align: top;\n",
       "    }\n",
       "\n",
       "    .dataframe thead th {\n",
       "        text-align: right;\n",
       "    }\n",
       "</style>\n",
       "<table border=\"1\" class=\"dataframe\">\n",
       "  <thead>\n",
       "    <tr style=\"text-align: right;\">\n",
       "      <th>is_promoted</th>\n",
       "      <th>0</th>\n",
       "      <th>1</th>\n",
       "    </tr>\n",
       "    <tr>\n",
       "      <th>recruitment_channel</th>\n",
       "      <th></th>\n",
       "      <th></th>\n",
       "    </tr>\n",
       "  </thead>\n",
       "  <tbody>\n",
       "    <tr>\n",
       "      <th>referred</th>\n",
       "      <td>87.92</td>\n",
       "      <td>12.08</td>\n",
       "    </tr>\n",
       "    <tr>\n",
       "      <th>sourcing</th>\n",
       "      <td>91.50</td>\n",
       "      <td>8.50</td>\n",
       "    </tr>\n",
       "    <tr>\n",
       "      <th>other</th>\n",
       "      <td>91.60</td>\n",
       "      <td>8.40</td>\n",
       "    </tr>\n",
       "  </tbody>\n",
       "</table>\n",
       "</div>"
      ],
      "text/plain": [
       "is_promoted              0      1\n",
       "recruitment_channel              \n",
       "referred             87.92  12.08\n",
       "sourcing             91.50   8.50\n",
       "other                91.60   8.40"
      ]
     },
     "execution_count": 77,
     "metadata": {},
     "output_type": "execute_result"
    }
   ],
   "source": [
    "(pd.crosstab(index=df['recruitment_channel'],columns=df['is_promoted'],normalize='index')*100).round(2).sort_values(1,ascending=False)"
   ]
  },
  {
   "cell_type": "code",
   "execution_count": 92,
   "id": "75f7a395-8554-4755-b888-0d06b47ffa75",
   "metadata": {},
   "outputs": [],
   "source": [
    "# But the biggest proportion of Promotions based on Recruitment Channel is from Reference"
   ]
  },
  {
   "cell_type": "code",
   "execution_count": 78,
   "id": "474421f8-6759-4b46-ae5b-0667fea03d75",
   "metadata": {},
   "outputs": [
    {
     "data": {
      "image/png": "[encoded data removed]",
      "text/plain": [
       "<Figure size 720x576 with 1 Axes>"
      ]
     },
     "metadata": {
      "needs_background": "light"
     },
     "output_type": "display_data"
    }
   ],
   "source": [
    "plt.figure(figsize=(10,8))\n",
    "plt.title('Recruiment VS Promotion')\n",
    "sns.countplot(x=df['recruitment_channel'],hue=df['is_promoted']);"
   ]
  },
  {
   "cell_type": "code",
   "execution_count": 82,
   "id": "0d911a18-8504-47fc-90eb-6ca2f23c83c4",
   "metadata": {},
   "outputs": [],
   "source": [
    "# Visualization of Data Relationship Between Recruitment Channel and Promotion"
   ]
  },
  {
   "cell_type": "markdown",
   "id": "e34ceef9-dbbc-4212-a31a-3266f6009739",
   "metadata": {},
   "source": [
    "- Finding the Relationship between Age and Target Feature, using Binning"
   ]
  },
  {
   "cell_type": "code",
   "execution_count": 79,
   "id": "006027c8-f2b7-4895-85cd-8b05245048bc",
   "metadata": {},
   "outputs": [],
   "source": [
    "bin_age = [19,25,30,35,40,45,50,55,60]"
   ]
  },
  {
   "cell_type": "code",
   "execution_count": 80,
   "id": "0007c19e-626c-48fb-b4c8-7fcf9f19d6aa",
   "metadata": {},
   "outputs": [],
   "source": [
    "label_age = ['A','B','C','D','E','F','G','H']"
   ]
  },
  {
   "cell_type": "code",
   "execution_count": 81,
   "id": "8b9905d1-5f4c-4ee9-b055-2a75e6881240",
   "metadata": {},
   "outputs": [],
   "source": [
    "df['age_recat'] = pd.cut(df['age'],bins=bin_age,labels=label_age)"
   ]
  },
  {
   "cell_type": "code",
   "execution_count": 82,
   "id": "08e31c0c-92a0-4c68-9d9b-fa5b8bbaeef2",
   "metadata": {},
   "outputs": [
    {
     "data": {
      "text/html": [
       "<div>\n",
       "<style scoped>\n",
       "    .dataframe tbody tr th:only-of-type {\n",
       "        vertical-align: middle;\n",
       "    }\n",
       "\n",
       "    .dataframe tbody tr th {\n",
       "        vertical-align: top;\n",
       "    }\n",
       "\n",
       "    .dataframe thead th {\n",
       "        text-align: right;\n",
       "    }\n",
       "</style>\n",
       "<table border=\"1\" class=\"dataframe\">\n",
       "  <thead>\n",
       "    <tr style=\"text-align: right;\">\n",
       "      <th></th>\n",
       "      <th>department</th>\n",
       "      <th>region</th>\n",
       "      <th>education</th>\n",
       "      <th>gender</th>\n",
       "      <th>recruitment_channel</th>\n",
       "      <th>no_of_trainings</th>\n",
       "      <th>age</th>\n",
       "      <th>previous_year_rating</th>\n",
       "      <th>length_of_service</th>\n",
       "      <th>awards_won?</th>\n",
       "      <th>avg_training_score</th>\n",
       "      <th>is_promoted</th>\n",
       "      <th>age_recat</th>\n",
       "    </tr>\n",
       "  </thead>\n",
       "  <tbody>\n",
       "    <tr>\n",
       "      <th>0</th>\n",
       "      <td>Sales &amp; Marketing</td>\n",
       "      <td>region_7</td>\n",
       "      <td>Master's &amp; above</td>\n",
       "      <td>f</td>\n",
       "      <td>sourcing</td>\n",
       "      <td>1</td>\n",
       "      <td>35</td>\n",
       "      <td>5.0</td>\n",
       "      <td>8</td>\n",
       "      <td>0</td>\n",
       "      <td>49</td>\n",
       "      <td>0</td>\n",
       "      <td>C</td>\n",
       "    </tr>\n",
       "    <tr>\n",
       "      <th>1</th>\n",
       "      <td>Operations</td>\n",
       "      <td>region_22</td>\n",
       "      <td>Bachelor's</td>\n",
       "      <td>m</td>\n",
       "      <td>other</td>\n",
       "      <td>1</td>\n",
       "      <td>30</td>\n",
       "      <td>5.0</td>\n",
       "      <td>4</td>\n",
       "      <td>0</td>\n",
       "      <td>60</td>\n",
       "      <td>0</td>\n",
       "      <td>B</td>\n",
       "    </tr>\n",
       "    <tr>\n",
       "      <th>2</th>\n",
       "      <td>Sales &amp; Marketing</td>\n",
       "      <td>region_19</td>\n",
       "      <td>Bachelor's</td>\n",
       "      <td>m</td>\n",
       "      <td>sourcing</td>\n",
       "      <td>1</td>\n",
       "      <td>34</td>\n",
       "      <td>3.0</td>\n",
       "      <td>7</td>\n",
       "      <td>0</td>\n",
       "      <td>50</td>\n",
       "      <td>0</td>\n",
       "      <td>C</td>\n",
       "    </tr>\n",
       "    <tr>\n",
       "      <th>3</th>\n",
       "      <td>Sales &amp; Marketing</td>\n",
       "      <td>region_23</td>\n",
       "      <td>Bachelor's</td>\n",
       "      <td>m</td>\n",
       "      <td>other</td>\n",
       "      <td>2</td>\n",
       "      <td>39</td>\n",
       "      <td>1.0</td>\n",
       "      <td>10</td>\n",
       "      <td>0</td>\n",
       "      <td>50</td>\n",
       "      <td>0</td>\n",
       "      <td>D</td>\n",
       "    </tr>\n",
       "    <tr>\n",
       "      <th>4</th>\n",
       "      <td>Technology</td>\n",
       "      <td>region_26</td>\n",
       "      <td>Bachelor's</td>\n",
       "      <td>m</td>\n",
       "      <td>other</td>\n",
       "      <td>1</td>\n",
       "      <td>45</td>\n",
       "      <td>3.0</td>\n",
       "      <td>2</td>\n",
       "      <td>0</td>\n",
       "      <td>73</td>\n",
       "      <td>0</td>\n",
       "      <td>E</td>\n",
       "    </tr>\n",
       "  </tbody>\n",
       "</table>\n",
       "</div>"
      ],
      "text/plain": [
       "          department     region         education gender recruitment_channel  \\\n",
       "0  Sales & Marketing   region_7  Master's & above      f            sourcing   \n",
       "1         Operations  region_22        Bachelor's      m               other   \n",
       "2  Sales & Marketing  region_19        Bachelor's      m            sourcing   \n",
       "3  Sales & Marketing  region_23        Bachelor's      m               other   \n",
       "4         Technology  region_26        Bachelor's      m               other   \n",
       "\n",
       "   no_of_trainings  age  previous_year_rating  length_of_service awards_won?  \\\n",
       "0                1   35                   5.0                  8           0   \n",
       "1                1   30                   5.0                  4           0   \n",
       "2                1   34                   3.0                  7           0   \n",
       "3                2   39                   1.0                 10           0   \n",
       "4                1   45                   3.0                  2           0   \n",
       "\n",
       "   avg_training_score  is_promoted age_recat  \n",
       "0                  49            0         C  \n",
       "1                  60            0         B  \n",
       "2                  50            0         C  \n",
       "3                  50            0         D  \n",
       "4                  73            0         E  "
      ]
     },
     "execution_count": 82,
     "metadata": {},
     "output_type": "execute_result"
    }
   ],
   "source": [
    "df.head()"
   ]
  },
  {
   "cell_type": "code",
   "execution_count": 83,
   "id": "475a48c5-0e13-4642-aa68-252cbddedfaa",
   "metadata": {},
   "outputs": [
    {
     "data": {
      "text/html": [
       "<div>\n",
       "<style scoped>\n",
       "    .dataframe tbody tr th:only-of-type {\n",
       "        vertical-align: middle;\n",
       "    }\n",
       "\n",
       "    .dataframe tbody tr th {\n",
       "        vertical-align: top;\n",
       "    }\n",
       "\n",
       "    .dataframe thead th {\n",
       "        text-align: right;\n",
       "    }\n",
       "</style>\n",
       "<table border=\"1\" class=\"dataframe\">\n",
       "  <thead>\n",
       "    <tr style=\"text-align: right;\">\n",
       "      <th>is_promoted</th>\n",
       "      <th>0</th>\n",
       "      <th>1</th>\n",
       "    </tr>\n",
       "    <tr>\n",
       "      <th>age_recat</th>\n",
       "      <th></th>\n",
       "      <th></th>\n",
       "    </tr>\n",
       "  </thead>\n",
       "  <tbody>\n",
       "    <tr>\n",
       "      <th>C</th>\n",
       "      <td>14570</td>\n",
       "      <td>1495</td>\n",
       "    </tr>\n",
       "    <tr>\n",
       "      <th>B</th>\n",
       "      <td>13754</td>\n",
       "      <td>1350</td>\n",
       "    </tr>\n",
       "    <tr>\n",
       "      <th>D</th>\n",
       "      <td>9099</td>\n",
       "      <td>864</td>\n",
       "    </tr>\n",
       "    <tr>\n",
       "      <th>E</th>\n",
       "      <td>4647</td>\n",
       "      <td>390</td>\n",
       "    </tr>\n",
       "    <tr>\n",
       "      <th>A</th>\n",
       "      <td>2814</td>\n",
       "      <td>200</td>\n",
       "    </tr>\n",
       "    <tr>\n",
       "      <th>F</th>\n",
       "      <td>2595</td>\n",
       "      <td>178</td>\n",
       "    </tr>\n",
       "    <tr>\n",
       "      <th>G</th>\n",
       "      <td>1593</td>\n",
       "      <td>118</td>\n",
       "    </tr>\n",
       "    <tr>\n",
       "      <th>H</th>\n",
       "      <td>1068</td>\n",
       "      <td>73</td>\n",
       "    </tr>\n",
       "  </tbody>\n",
       "</table>\n",
       "</div>"
      ],
      "text/plain": [
       "is_promoted      0     1\n",
       "age_recat               \n",
       "C            14570  1495\n",
       "B            13754  1350\n",
       "D             9099   864\n",
       "E             4647   390\n",
       "A             2814   200\n",
       "F             2595   178\n",
       "G             1593   118\n",
       "H             1068    73"
      ]
     },
     "execution_count": 83,
     "metadata": {},
     "output_type": "execute_result"
    }
   ],
   "source": [
    "pd.crosstab(index=df['age_recat'],columns=df['is_promoted']).sort_values(1,ascending=False)"
   ]
  },
  {
   "cell_type": "code",
   "execution_count": 84,
   "id": "03548f33-5389-4f6a-983b-50cc88a224f3",
   "metadata": {},
   "outputs": [
    {
     "data": {
      "text/html": [
       "<div>\n",
       "<style scoped>\n",
       "    .dataframe tbody tr th:only-of-type {\n",
       "        vertical-align: middle;\n",
       "    }\n",
       "\n",
       "    .dataframe tbody tr th {\n",
       "        vertical-align: top;\n",
       "    }\n",
       "\n",
       "    .dataframe thead th {\n",
       "        text-align: right;\n",
       "    }\n",
       "</style>\n",
       "<table border=\"1\" class=\"dataframe\">\n",
       "  <thead>\n",
       "    <tr style=\"text-align: right;\">\n",
       "      <th>is_promoted</th>\n",
       "      <th>0</th>\n",
       "      <th>1</th>\n",
       "    </tr>\n",
       "    <tr>\n",
       "      <th>age_recat</th>\n",
       "      <th></th>\n",
       "      <th></th>\n",
       "    </tr>\n",
       "  </thead>\n",
       "  <tbody>\n",
       "    <tr>\n",
       "      <th>C</th>\n",
       "      <td>29.06</td>\n",
       "      <td>32.03</td>\n",
       "    </tr>\n",
       "    <tr>\n",
       "      <th>B</th>\n",
       "      <td>27.43</td>\n",
       "      <td>28.92</td>\n",
       "    </tr>\n",
       "    <tr>\n",
       "      <th>D</th>\n",
       "      <td>18.15</td>\n",
       "      <td>18.51</td>\n",
       "    </tr>\n",
       "    <tr>\n",
       "      <th>E</th>\n",
       "      <td>9.27</td>\n",
       "      <td>8.35</td>\n",
       "    </tr>\n",
       "    <tr>\n",
       "      <th>A</th>\n",
       "      <td>5.61</td>\n",
       "      <td>4.28</td>\n",
       "    </tr>\n",
       "    <tr>\n",
       "      <th>F</th>\n",
       "      <td>5.18</td>\n",
       "      <td>3.81</td>\n",
       "    </tr>\n",
       "    <tr>\n",
       "      <th>G</th>\n",
       "      <td>3.18</td>\n",
       "      <td>2.53</td>\n",
       "    </tr>\n",
       "    <tr>\n",
       "      <th>H</th>\n",
       "      <td>2.13</td>\n",
       "      <td>1.56</td>\n",
       "    </tr>\n",
       "  </tbody>\n",
       "</table>\n",
       "</div>"
      ],
      "text/plain": [
       "is_promoted      0      1\n",
       "age_recat                \n",
       "C            29.06  32.03\n",
       "B            27.43  28.92\n",
       "D            18.15  18.51\n",
       "E             9.27   8.35\n",
       "A             5.61   4.28\n",
       "F             5.18   3.81\n",
       "G             3.18   2.53\n",
       "H             2.13   1.56"
      ]
     },
     "execution_count": 84,
     "metadata": {},
     "output_type": "execute_result"
    }
   ],
   "source": [
    "(pd.crosstab(index=df['age_recat'],columns=df['is_promoted'],normalize='columns')*100).round(2).sort_values(1,ascending=False)"
   ]
  },
  {
   "cell_type": "code",
   "execution_count": 85,
   "id": "377d1d56-bada-444a-bfa2-4e19a24550ae",
   "metadata": {},
   "outputs": [
    {
     "data": {
      "text/html": [
       "<div>\n",
       "<style scoped>\n",
       "    .dataframe tbody tr th:only-of-type {\n",
       "        vertical-align: middle;\n",
       "    }\n",
       "\n",
       "    .dataframe tbody tr th {\n",
       "        vertical-align: top;\n",
       "    }\n",
       "\n",
       "    .dataframe thead th {\n",
       "        text-align: right;\n",
       "    }\n",
       "</style>\n",
       "<table border=\"1\" class=\"dataframe\">\n",
       "  <thead>\n",
       "    <tr style=\"text-align: right;\">\n",
       "      <th>is_promoted</th>\n",
       "      <th>0</th>\n",
       "      <th>1</th>\n",
       "    </tr>\n",
       "    <tr>\n",
       "      <th>age_recat</th>\n",
       "      <th></th>\n",
       "      <th></th>\n",
       "    </tr>\n",
       "  </thead>\n",
       "  <tbody>\n",
       "    <tr>\n",
       "      <th>C</th>\n",
       "      <td>90.69</td>\n",
       "      <td>9.31</td>\n",
       "    </tr>\n",
       "    <tr>\n",
       "      <th>B</th>\n",
       "      <td>91.06</td>\n",
       "      <td>8.94</td>\n",
       "    </tr>\n",
       "    <tr>\n",
       "      <th>D</th>\n",
       "      <td>91.33</td>\n",
       "      <td>8.67</td>\n",
       "    </tr>\n",
       "    <tr>\n",
       "      <th>E</th>\n",
       "      <td>92.26</td>\n",
       "      <td>7.74</td>\n",
       "    </tr>\n",
       "    <tr>\n",
       "      <th>G</th>\n",
       "      <td>93.10</td>\n",
       "      <td>6.90</td>\n",
       "    </tr>\n",
       "    <tr>\n",
       "      <th>A</th>\n",
       "      <td>93.36</td>\n",
       "      <td>6.64</td>\n",
       "    </tr>\n",
       "    <tr>\n",
       "      <th>F</th>\n",
       "      <td>93.58</td>\n",
       "      <td>6.42</td>\n",
       "    </tr>\n",
       "    <tr>\n",
       "      <th>H</th>\n",
       "      <td>93.60</td>\n",
       "      <td>6.40</td>\n",
       "    </tr>\n",
       "  </tbody>\n",
       "</table>\n",
       "</div>"
      ],
      "text/plain": [
       "is_promoted      0     1\n",
       "age_recat               \n",
       "C            90.69  9.31\n",
       "B            91.06  8.94\n",
       "D            91.33  8.67\n",
       "E            92.26  7.74\n",
       "G            93.10  6.90\n",
       "A            93.36  6.64\n",
       "F            93.58  6.42\n",
       "H            93.60  6.40"
      ]
     },
     "execution_count": 85,
     "metadata": {},
     "output_type": "execute_result"
    }
   ],
   "source": [
    "(pd.crosstab(index=df['age_recat'],columns=df['is_promoted'],normalize='index')*100).round(2).sort_values(1,ascending=False)"
   ]
  },
  {
   "cell_type": "code",
   "execution_count": 93,
   "id": "773649e7-8abe-402e-88ad-9792d998a028",
   "metadata": {},
   "outputs": [],
   "source": [
    "# Most of them who got Promotion and the biggest proportion of Promotion are from Age Range between 31-35"
   ]
  },
  {
   "cell_type": "code",
   "execution_count": 86,
   "id": "dffbc93b-a483-4515-a4bb-63ff72ed29cb",
   "metadata": {},
   "outputs": [
    {
     "data": {
      "image/png": "[encoded data removed]",
      "text/plain": [
       "<Figure size 936x576 with 1 Axes>"
      ]
     },
     "metadata": {
      "needs_background": "light"
     },
     "output_type": "display_data"
    }
   ],
   "source": [
    "plt.figure(figsize=(13,8))\n",
    "plt.title('Age VS Promotion')\n",
    "sns.countplot(x=df['age_recat'],hue=df['is_promoted']);"
   ]
  },
  {
   "cell_type": "code",
   "execution_count": 83,
   "id": "2d508ec7-4532-47b9-89fd-687b92b3f969",
   "metadata": {},
   "outputs": [],
   "source": [
    "# Visualization of Data Relationship Between Age and Promotion"
   ]
  },
  {
   "cell_type": "markdown",
   "id": "32f0e114-b234-499b-9a53-6cb140241d6b",
   "metadata": {},
   "source": [
    "- Finding the Relationship between No of Trainings and Target Feature using Recategorize"
   ]
  },
  {
   "cell_type": "code",
   "execution_count": 87,
   "id": "635efc27-9aad-4de0-8418-eb9eae649a78",
   "metadata": {},
   "outputs": [],
   "source": [
    "def trainings_recat(x):\n",
    "    if x == 1:\n",
    "        return 1\n",
    "    else :\n",
    "        return \"Others\""
   ]
  },
  {
   "cell_type": "code",
   "execution_count": 88,
   "id": "60bb9856-4ad4-4c87-9d58-04b5fdcc753a",
   "metadata": {},
   "outputs": [],
   "source": [
    "df['no_of_trainings_recat'] = df['no_of_trainings'].apply(trainings_recat)"
   ]
  },
  {
   "cell_type": "code",
   "execution_count": 89,
   "id": "a062f5a1-1aa2-46d8-8ed5-482080ad947f",
   "metadata": {},
   "outputs": [
    {
     "data": {
      "text/html": [
       "<div>\n",
       "<style scoped>\n",
       "    .dataframe tbody tr th:only-of-type {\n",
       "        vertical-align: middle;\n",
       "    }\n",
       "\n",
       "    .dataframe tbody tr th {\n",
       "        vertical-align: top;\n",
       "    }\n",
       "\n",
       "    .dataframe thead th {\n",
       "        text-align: right;\n",
       "    }\n",
       "</style>\n",
       "<table border=\"1\" class=\"dataframe\">\n",
       "  <thead>\n",
       "    <tr style=\"text-align: right;\">\n",
       "      <th></th>\n",
       "      <th>department</th>\n",
       "      <th>region</th>\n",
       "      <th>education</th>\n",
       "      <th>gender</th>\n",
       "      <th>recruitment_channel</th>\n",
       "      <th>no_of_trainings</th>\n",
       "      <th>age</th>\n",
       "      <th>previous_year_rating</th>\n",
       "      <th>length_of_service</th>\n",
       "      <th>awards_won?</th>\n",
       "      <th>avg_training_score</th>\n",
       "      <th>is_promoted</th>\n",
       "      <th>age_recat</th>\n",
       "      <th>no_of_trainings_recat</th>\n",
       "    </tr>\n",
       "  </thead>\n",
       "  <tbody>\n",
       "    <tr>\n",
       "      <th>0</th>\n",
       "      <td>Sales &amp; Marketing</td>\n",
       "      <td>region_7</td>\n",
       "      <td>Master's &amp; above</td>\n",
       "      <td>f</td>\n",
       "      <td>sourcing</td>\n",
       "      <td>1</td>\n",
       "      <td>35</td>\n",
       "      <td>5.0</td>\n",
       "      <td>8</td>\n",
       "      <td>0</td>\n",
       "      <td>49</td>\n",
       "      <td>0</td>\n",
       "      <td>C</td>\n",
       "      <td>1</td>\n",
       "    </tr>\n",
       "    <tr>\n",
       "      <th>1</th>\n",
       "      <td>Operations</td>\n",
       "      <td>region_22</td>\n",
       "      <td>Bachelor's</td>\n",
       "      <td>m</td>\n",
       "      <td>other</td>\n",
       "      <td>1</td>\n",
       "      <td>30</td>\n",
       "      <td>5.0</td>\n",
       "      <td>4</td>\n",
       "      <td>0</td>\n",
       "      <td>60</td>\n",
       "      <td>0</td>\n",
       "      <td>B</td>\n",
       "      <td>1</td>\n",
       "    </tr>\n",
       "    <tr>\n",
       "      <th>2</th>\n",
       "      <td>Sales &amp; Marketing</td>\n",
       "      <td>region_19</td>\n",
       "      <td>Bachelor's</td>\n",
       "      <td>m</td>\n",
       "      <td>sourcing</td>\n",
       "      <td>1</td>\n",
       "      <td>34</td>\n",
       "      <td>3.0</td>\n",
       "      <td>7</td>\n",
       "      <td>0</td>\n",
       "      <td>50</td>\n",
       "      <td>0</td>\n",
       "      <td>C</td>\n",
       "      <td>1</td>\n",
       "    </tr>\n",
       "    <tr>\n",
       "      <th>3</th>\n",
       "      <td>Sales &amp; Marketing</td>\n",
       "      <td>region_23</td>\n",
       "      <td>Bachelor's</td>\n",
       "      <td>m</td>\n",
       "      <td>other</td>\n",
       "      <td>2</td>\n",
       "      <td>39</td>\n",
       "      <td>1.0</td>\n",
       "      <td>10</td>\n",
       "      <td>0</td>\n",
       "      <td>50</td>\n",
       "      <td>0</td>\n",
       "      <td>D</td>\n",
       "      <td>Others</td>\n",
       "    </tr>\n",
       "    <tr>\n",
       "      <th>4</th>\n",
       "      <td>Technology</td>\n",
       "      <td>region_26</td>\n",
       "      <td>Bachelor's</td>\n",
       "      <td>m</td>\n",
       "      <td>other</td>\n",
       "      <td>1</td>\n",
       "      <td>45</td>\n",
       "      <td>3.0</td>\n",
       "      <td>2</td>\n",
       "      <td>0</td>\n",
       "      <td>73</td>\n",
       "      <td>0</td>\n",
       "      <td>E</td>\n",
       "      <td>1</td>\n",
       "    </tr>\n",
       "  </tbody>\n",
       "</table>\n",
       "</div>"
      ],
      "text/plain": [
       "          department     region         education gender recruitment_channel  \\\n",
       "0  Sales & Marketing   region_7  Master's & above      f            sourcing   \n",
       "1         Operations  region_22        Bachelor's      m               other   \n",
       "2  Sales & Marketing  region_19        Bachelor's      m            sourcing   \n",
       "3  Sales & Marketing  region_23        Bachelor's      m               other   \n",
       "4         Technology  region_26        Bachelor's      m               other   \n",
       "\n",
       "   no_of_trainings  age  previous_year_rating  length_of_service awards_won?  \\\n",
       "0                1   35                   5.0                  8           0   \n",
       "1                1   30                   5.0                  4           0   \n",
       "2                1   34                   3.0                  7           0   \n",
       "3                2   39                   1.0                 10           0   \n",
       "4                1   45                   3.0                  2           0   \n",
       "\n",
       "   avg_training_score  is_promoted age_recat no_of_trainings_recat  \n",
       "0                  49            0         C                     1  \n",
       "1                  60            0         B                     1  \n",
       "2                  50            0         C                     1  \n",
       "3                  50            0         D                Others  \n",
       "4                  73            0         E                     1  "
      ]
     },
     "execution_count": 89,
     "metadata": {},
     "output_type": "execute_result"
    }
   ],
   "source": [
    "df.head()"
   ]
  },
  {
   "cell_type": "code",
   "execution_count": 90,
   "id": "3d7f286b-d8b0-4edf-878c-90b4deb72632",
   "metadata": {},
   "outputs": [
    {
     "data": {
      "text/html": [
       "<div>\n",
       "<style scoped>\n",
       "    .dataframe tbody tr th:only-of-type {\n",
       "        vertical-align: middle;\n",
       "    }\n",
       "\n",
       "    .dataframe tbody tr th {\n",
       "        vertical-align: top;\n",
       "    }\n",
       "\n",
       "    .dataframe thead th {\n",
       "        text-align: right;\n",
       "    }\n",
       "</style>\n",
       "<table border=\"1\" class=\"dataframe\">\n",
       "  <thead>\n",
       "    <tr style=\"text-align: right;\">\n",
       "      <th>is_promoted</th>\n",
       "      <th>0</th>\n",
       "      <th>1</th>\n",
       "    </tr>\n",
       "    <tr>\n",
       "      <th>no_of_trainings_recat</th>\n",
       "      <th></th>\n",
       "      <th></th>\n",
       "    </tr>\n",
       "  </thead>\n",
       "  <tbody>\n",
       "    <tr>\n",
       "      <th>1</th>\n",
       "      <td>40468</td>\n",
       "      <td>3910</td>\n",
       "    </tr>\n",
       "    <tr>\n",
       "      <th>Others</th>\n",
       "      <td>9672</td>\n",
       "      <td>758</td>\n",
       "    </tr>\n",
       "  </tbody>\n",
       "</table>\n",
       "</div>"
      ],
      "text/plain": [
       "is_promoted                0     1\n",
       "no_of_trainings_recat             \n",
       "1                      40468  3910\n",
       "Others                  9672   758"
      ]
     },
     "execution_count": 90,
     "metadata": {},
     "output_type": "execute_result"
    }
   ],
   "source": [
    "pd.crosstab(index=df['no_of_trainings_recat'],columns=df['is_promoted']).sort_values(1,ascending=False)"
   ]
  },
  {
   "cell_type": "code",
   "execution_count": 91,
   "id": "afad4fad-b1b9-4a89-83c6-8b0c84785d24",
   "metadata": {},
   "outputs": [
    {
     "data": {
      "text/html": [
       "<div>\n",
       "<style scoped>\n",
       "    .dataframe tbody tr th:only-of-type {\n",
       "        vertical-align: middle;\n",
       "    }\n",
       "\n",
       "    .dataframe tbody tr th {\n",
       "        vertical-align: top;\n",
       "    }\n",
       "\n",
       "    .dataframe thead th {\n",
       "        text-align: right;\n",
       "    }\n",
       "</style>\n",
       "<table border=\"1\" class=\"dataframe\">\n",
       "  <thead>\n",
       "    <tr style=\"text-align: right;\">\n",
       "      <th>is_promoted</th>\n",
       "      <th>0</th>\n",
       "      <th>1</th>\n",
       "    </tr>\n",
       "    <tr>\n",
       "      <th>no_of_trainings_recat</th>\n",
       "      <th></th>\n",
       "      <th></th>\n",
       "    </tr>\n",
       "  </thead>\n",
       "  <tbody>\n",
       "    <tr>\n",
       "      <th>1</th>\n",
       "      <td>80.71</td>\n",
       "      <td>83.76</td>\n",
       "    </tr>\n",
       "    <tr>\n",
       "      <th>Others</th>\n",
       "      <td>19.29</td>\n",
       "      <td>16.24</td>\n",
       "    </tr>\n",
       "  </tbody>\n",
       "</table>\n",
       "</div>"
      ],
      "text/plain": [
       "is_promoted                0      1\n",
       "no_of_trainings_recat              \n",
       "1                      80.71  83.76\n",
       "Others                 19.29  16.24"
      ]
     },
     "execution_count": 91,
     "metadata": {},
     "output_type": "execute_result"
    }
   ],
   "source": [
    "(pd.crosstab(index=df['no_of_trainings_recat'],columns=df['is_promoted'],normalize='columns')*100).round(2).sort_values(1,ascending=False)"
   ]
  },
  {
   "cell_type": "code",
   "execution_count": 92,
   "id": "4ae16d33-85ec-46c9-b433-993312c4afc4",
   "metadata": {},
   "outputs": [
    {
     "data": {
      "text/html": [
       "<div>\n",
       "<style scoped>\n",
       "    .dataframe tbody tr th:only-of-type {\n",
       "        vertical-align: middle;\n",
       "    }\n",
       "\n",
       "    .dataframe tbody tr th {\n",
       "        vertical-align: top;\n",
       "    }\n",
       "\n",
       "    .dataframe thead th {\n",
       "        text-align: right;\n",
       "    }\n",
       "</style>\n",
       "<table border=\"1\" class=\"dataframe\">\n",
       "  <thead>\n",
       "    <tr style=\"text-align: right;\">\n",
       "      <th>is_promoted</th>\n",
       "      <th>0</th>\n",
       "      <th>1</th>\n",
       "    </tr>\n",
       "    <tr>\n",
       "      <th>no_of_trainings_recat</th>\n",
       "      <th></th>\n",
       "      <th></th>\n",
       "    </tr>\n",
       "  </thead>\n",
       "  <tbody>\n",
       "    <tr>\n",
       "      <th>1</th>\n",
       "      <td>91.19</td>\n",
       "      <td>8.81</td>\n",
       "    </tr>\n",
       "    <tr>\n",
       "      <th>Others</th>\n",
       "      <td>92.73</td>\n",
       "      <td>7.27</td>\n",
       "    </tr>\n",
       "  </tbody>\n",
       "</table>\n",
       "</div>"
      ],
      "text/plain": [
       "is_promoted                0     1\n",
       "no_of_trainings_recat             \n",
       "1                      91.19  8.81\n",
       "Others                 92.73  7.27"
      ]
     },
     "execution_count": 92,
     "metadata": {},
     "output_type": "execute_result"
    }
   ],
   "source": [
    "(pd.crosstab(index=df['no_of_trainings_recat'],columns=df['is_promoted'],normalize='index')*100).round(2).sort_values(1,ascending=False)"
   ]
  },
  {
   "cell_type": "code",
   "execution_count": 95,
   "id": "383f6314-188f-49e4-a04b-ecf4d21af584",
   "metadata": {},
   "outputs": [],
   "source": [
    "# Most of them who got Promotion and the biggest proportion of Promotion are from the Employee who has only received 1 training"
   ]
  },
  {
   "cell_type": "code",
   "execution_count": 93,
   "id": "92d3d4ae-a8cf-4c72-a71b-f8e488418b39",
   "metadata": {},
   "outputs": [
    {
     "data": {
      "image/png": "[encoded data removed]",
      "text/plain": [
       "<Figure size 936x576 with 1 Axes>"
      ]
     },
     "metadata": {
      "needs_background": "light"
     },
     "output_type": "display_data"
    }
   ],
   "source": [
    "plt.figure(figsize=(13,8))\n",
    "plt.title('No. of Trainings VS Promotion')\n",
    "sns.countplot(x=df['no_of_trainings_recat'],hue=df['is_promoted']);"
   ]
  },
  {
   "cell_type": "code",
   "execution_count": 84,
   "id": "40db7c87-41ac-428d-b878-193521ad1097",
   "metadata": {},
   "outputs": [],
   "source": [
    "# Visualization of Data Relationship Between No of Trainings and Promotion"
   ]
  },
  {
   "cell_type": "markdown",
   "id": "7bc3063c-6720-49bb-bb76-e6032ead066c",
   "metadata": {},
   "source": [
    "- Finding the Relationship between Previous Year Rating and Target Feature"
   ]
  },
  {
   "cell_type": "code",
   "execution_count": 94,
   "id": "a0acc34c-12e5-443e-be8a-13e12eee021e",
   "metadata": {},
   "outputs": [
    {
     "data": {
      "text/html": [
       "<div>\n",
       "<style scoped>\n",
       "    .dataframe tbody tr th:only-of-type {\n",
       "        vertical-align: middle;\n",
       "    }\n",
       "\n",
       "    .dataframe tbody tr th {\n",
       "        vertical-align: top;\n",
       "    }\n",
       "\n",
       "    .dataframe thead th {\n",
       "        text-align: right;\n",
       "    }\n",
       "</style>\n",
       "<table border=\"1\" class=\"dataframe\">\n",
       "  <thead>\n",
       "    <tr style=\"text-align: right;\">\n",
       "      <th>is_promoted</th>\n",
       "      <th>0</th>\n",
       "      <th>1</th>\n",
       "    </tr>\n",
       "    <tr>\n",
       "      <th>previous_year_rating</th>\n",
       "      <th></th>\n",
       "      <th></th>\n",
       "    </tr>\n",
       "  </thead>\n",
       "  <tbody>\n",
       "    <tr>\n",
       "      <th>5.0</th>\n",
       "      <td>9820</td>\n",
       "      <td>1921</td>\n",
       "    </tr>\n",
       "    <tr>\n",
       "      <th>3.0</th>\n",
       "      <td>17263</td>\n",
       "      <td>1355</td>\n",
       "    </tr>\n",
       "    <tr>\n",
       "      <th>4.0</th>\n",
       "      <td>9093</td>\n",
       "      <td>784</td>\n",
       "    </tr>\n",
       "    <tr>\n",
       "      <th>2.0</th>\n",
       "      <td>4044</td>\n",
       "      <td>181</td>\n",
       "    </tr>\n",
       "    <tr>\n",
       "      <th>1.0</th>\n",
       "      <td>6135</td>\n",
       "      <td>88</td>\n",
       "    </tr>\n",
       "  </tbody>\n",
       "</table>\n",
       "</div>"
      ],
      "text/plain": [
       "is_promoted               0     1\n",
       "previous_year_rating             \n",
       "5.0                    9820  1921\n",
       "3.0                   17263  1355\n",
       "4.0                    9093   784\n",
       "2.0                    4044   181\n",
       "1.0                    6135    88"
      ]
     },
     "execution_count": 94,
     "metadata": {},
     "output_type": "execute_result"
    }
   ],
   "source": [
    "pd.crosstab(index=df['previous_year_rating'],columns=df['is_promoted']).sort_values(1,ascending=False)"
   ]
  },
  {
   "cell_type": "code",
   "execution_count": 95,
   "id": "033a82eb-f382-4d15-a1ab-05b8b42b21ab",
   "metadata": {},
   "outputs": [
    {
     "data": {
      "text/html": [
       "<div>\n",
       "<style scoped>\n",
       "    .dataframe tbody tr th:only-of-type {\n",
       "        vertical-align: middle;\n",
       "    }\n",
       "\n",
       "    .dataframe tbody tr th {\n",
       "        vertical-align: top;\n",
       "    }\n",
       "\n",
       "    .dataframe thead th {\n",
       "        text-align: right;\n",
       "    }\n",
       "</style>\n",
       "<table border=\"1\" class=\"dataframe\">\n",
       "  <thead>\n",
       "    <tr style=\"text-align: right;\">\n",
       "      <th>is_promoted</th>\n",
       "      <th>0</th>\n",
       "      <th>1</th>\n",
       "    </tr>\n",
       "    <tr>\n",
       "      <th>previous_year_rating</th>\n",
       "      <th></th>\n",
       "      <th></th>\n",
       "    </tr>\n",
       "  </thead>\n",
       "  <tbody>\n",
       "    <tr>\n",
       "      <th>5.0</th>\n",
       "      <td>21.18</td>\n",
       "      <td>44.38</td>\n",
       "    </tr>\n",
       "    <tr>\n",
       "      <th>3.0</th>\n",
       "      <td>37.24</td>\n",
       "      <td>31.30</td>\n",
       "    </tr>\n",
       "    <tr>\n",
       "      <th>4.0</th>\n",
       "      <td>19.62</td>\n",
       "      <td>18.11</td>\n",
       "    </tr>\n",
       "    <tr>\n",
       "      <th>2.0</th>\n",
       "      <td>8.72</td>\n",
       "      <td>4.18</td>\n",
       "    </tr>\n",
       "    <tr>\n",
       "      <th>1.0</th>\n",
       "      <td>13.23</td>\n",
       "      <td>2.03</td>\n",
       "    </tr>\n",
       "  </tbody>\n",
       "</table>\n",
       "</div>"
      ],
      "text/plain": [
       "is_promoted               0      1\n",
       "previous_year_rating              \n",
       "5.0                   21.18  44.38\n",
       "3.0                   37.24  31.30\n",
       "4.0                   19.62  18.11\n",
       "2.0                    8.72   4.18\n",
       "1.0                   13.23   2.03"
      ]
     },
     "execution_count": 95,
     "metadata": {},
     "output_type": "execute_result"
    }
   ],
   "source": [
    "(pd.crosstab(index=df['previous_year_rating'],columns=df['is_promoted'],normalize='columns')*100).round(2).sort_values(1,ascending=False)"
   ]
  },
  {
   "cell_type": "code",
   "execution_count": 96,
   "id": "34bc9212-00ef-4855-a2ad-d3fd9ce19ba2",
   "metadata": {},
   "outputs": [
    {
     "data": {
      "text/html": [
       "<div>\n",
       "<style scoped>\n",
       "    .dataframe tbody tr th:only-of-type {\n",
       "        vertical-align: middle;\n",
       "    }\n",
       "\n",
       "    .dataframe tbody tr th {\n",
       "        vertical-align: top;\n",
       "    }\n",
       "\n",
       "    .dataframe thead th {\n",
       "        text-align: right;\n",
       "    }\n",
       "</style>\n",
       "<table border=\"1\" class=\"dataframe\">\n",
       "  <thead>\n",
       "    <tr style=\"text-align: right;\">\n",
       "      <th>is_promoted</th>\n",
       "      <th>0</th>\n",
       "      <th>1</th>\n",
       "    </tr>\n",
       "    <tr>\n",
       "      <th>previous_year_rating</th>\n",
       "      <th></th>\n",
       "      <th></th>\n",
       "    </tr>\n",
       "  </thead>\n",
       "  <tbody>\n",
       "    <tr>\n",
       "      <th>5.0</th>\n",
       "      <td>83.64</td>\n",
       "      <td>16.36</td>\n",
       "    </tr>\n",
       "    <tr>\n",
       "      <th>4.0</th>\n",
       "      <td>92.06</td>\n",
       "      <td>7.94</td>\n",
       "    </tr>\n",
       "    <tr>\n",
       "      <th>3.0</th>\n",
       "      <td>92.72</td>\n",
       "      <td>7.28</td>\n",
       "    </tr>\n",
       "    <tr>\n",
       "      <th>2.0</th>\n",
       "      <td>95.72</td>\n",
       "      <td>4.28</td>\n",
       "    </tr>\n",
       "    <tr>\n",
       "      <th>1.0</th>\n",
       "      <td>98.59</td>\n",
       "      <td>1.41</td>\n",
       "    </tr>\n",
       "  </tbody>\n",
       "</table>\n",
       "</div>"
      ],
      "text/plain": [
       "is_promoted               0      1\n",
       "previous_year_rating              \n",
       "5.0                   83.64  16.36\n",
       "4.0                   92.06   7.94\n",
       "3.0                   92.72   7.28\n",
       "2.0                   95.72   4.28\n",
       "1.0                   98.59   1.41"
      ]
     },
     "execution_count": 96,
     "metadata": {},
     "output_type": "execute_result"
    }
   ],
   "source": [
    "(pd.crosstab(index=df['previous_year_rating'],columns=df['is_promoted'],normalize='index')*100).round(2).sort_values(1,ascending=False)"
   ]
  },
  {
   "cell_type": "code",
   "execution_count": 96,
   "id": "6995237a-ce96-4a92-b18d-043a93d521ef",
   "metadata": {},
   "outputs": [],
   "source": [
    "# Most of them who got Promotion and the biggest proportion of Promotion are from the Employee who has received 5 point from last year Perfromance Appraisal"
   ]
  },
  {
   "cell_type": "code",
   "execution_count": 97,
   "id": "4c1fa144-8ff7-4c9b-be81-ca8700174e78",
   "metadata": {},
   "outputs": [
    {
     "data": {
      "image/png": "[encoded data removed]",
      "text/plain": [
       "<Figure size 936x576 with 1 Axes>"
      ]
     },
     "metadata": {
      "needs_background": "light"
     },
     "output_type": "display_data"
    }
   ],
   "source": [
    "plt.figure(figsize=(13,8))\n",
    "plt.title('Previous Year Rating VS Promotion')\n",
    "sns.countplot(x=df['previous_year_rating'],hue=df['is_promoted']);"
   ]
  },
  {
   "cell_type": "code",
   "execution_count": 85,
   "id": "c83fae04-1d91-41aa-9717-3880565c784c",
   "metadata": {},
   "outputs": [],
   "source": [
    "# Visualization of Data Relationship Between Previous Year Rating and Promotion"
   ]
  },
  {
   "cell_type": "markdown",
   "id": "523e1cb7-3af4-4604-9624-46580b68da75",
   "metadata": {},
   "source": [
    "- Finding the Relationship between Length of Service and Target Feature, using Binning"
   ]
  },
  {
   "cell_type": "code",
   "execution_count": 98,
   "id": "761c41d1-4af6-4b80-a18c-dabf72b76ae0",
   "metadata": {},
   "outputs": [],
   "source": [
    "bin_length_of_service = [0,5,10,15,20,25,30,35,37]"
   ]
  },
  {
   "cell_type": "code",
   "execution_count": 99,
   "id": "5b293ad5-a619-4681-af98-866dcb8bffa9",
   "metadata": {},
   "outputs": [],
   "source": [
    "label_length_of_service = [1,2,3,4,5,6,7,8]"
   ]
  },
  {
   "cell_type": "code",
   "execution_count": 100,
   "id": "980da5d4-0280-4562-87a5-26567b429984",
   "metadata": {},
   "outputs": [],
   "source": [
    "df['length_of_service_recat'] = pd.cut(df['length_of_service'],bins=bin_length_of_service,labels=label_length_of_service)"
   ]
  },
  {
   "cell_type": "code",
   "execution_count": 101,
   "id": "b929ca6e-8b25-4a50-9c8e-30a686dae3de",
   "metadata": {},
   "outputs": [
    {
     "data": {
      "text/html": [
       "<div>\n",
       "<style scoped>\n",
       "    .dataframe tbody tr th:only-of-type {\n",
       "        vertical-align: middle;\n",
       "    }\n",
       "\n",
       "    .dataframe tbody tr th {\n",
       "        vertical-align: top;\n",
       "    }\n",
       "\n",
       "    .dataframe thead th {\n",
       "        text-align: right;\n",
       "    }\n",
       "</style>\n",
       "<table border=\"1\" class=\"dataframe\">\n",
       "  <thead>\n",
       "    <tr style=\"text-align: right;\">\n",
       "      <th></th>\n",
       "      <th>department</th>\n",
       "      <th>region</th>\n",
       "      <th>education</th>\n",
       "      <th>gender</th>\n",
       "      <th>recruitment_channel</th>\n",
       "      <th>no_of_trainings</th>\n",
       "      <th>age</th>\n",
       "      <th>previous_year_rating</th>\n",
       "      <th>length_of_service</th>\n",
       "      <th>awards_won?</th>\n",
       "      <th>avg_training_score</th>\n",
       "      <th>is_promoted</th>\n",
       "      <th>age_recat</th>\n",
       "      <th>no_of_trainings_recat</th>\n",
       "      <th>length_of_service_recat</th>\n",
       "    </tr>\n",
       "  </thead>\n",
       "  <tbody>\n",
       "    <tr>\n",
       "      <th>0</th>\n",
       "      <td>Sales &amp; Marketing</td>\n",
       "      <td>region_7</td>\n",
       "      <td>Master's &amp; above</td>\n",
       "      <td>f</td>\n",
       "      <td>sourcing</td>\n",
       "      <td>1</td>\n",
       "      <td>35</td>\n",
       "      <td>5.0</td>\n",
       "      <td>8</td>\n",
       "      <td>0</td>\n",
       "      <td>49</td>\n",
       "      <td>0</td>\n",
       "      <td>C</td>\n",
       "      <td>1</td>\n",
       "      <td>2</td>\n",
       "    </tr>\n",
       "    <tr>\n",
       "      <th>1</th>\n",
       "      <td>Operations</td>\n",
       "      <td>region_22</td>\n",
       "      <td>Bachelor's</td>\n",
       "      <td>m</td>\n",
       "      <td>other</td>\n",
       "      <td>1</td>\n",
       "      <td>30</td>\n",
       "      <td>5.0</td>\n",
       "      <td>4</td>\n",
       "      <td>0</td>\n",
       "      <td>60</td>\n",
       "      <td>0</td>\n",
       "      <td>B</td>\n",
       "      <td>1</td>\n",
       "      <td>1</td>\n",
       "    </tr>\n",
       "    <tr>\n",
       "      <th>2</th>\n",
       "      <td>Sales &amp; Marketing</td>\n",
       "      <td>region_19</td>\n",
       "      <td>Bachelor's</td>\n",
       "      <td>m</td>\n",
       "      <td>sourcing</td>\n",
       "      <td>1</td>\n",
       "      <td>34</td>\n",
       "      <td>3.0</td>\n",
       "      <td>7</td>\n",
       "      <td>0</td>\n",
       "      <td>50</td>\n",
       "      <td>0</td>\n",
       "      <td>C</td>\n",
       "      <td>1</td>\n",
       "      <td>2</td>\n",
       "    </tr>\n",
       "    <tr>\n",
       "      <th>3</th>\n",
       "      <td>Sales &amp; Marketing</td>\n",
       "      <td>region_23</td>\n",
       "      <td>Bachelor's</td>\n",
       "      <td>m</td>\n",
       "      <td>other</td>\n",
       "      <td>2</td>\n",
       "      <td>39</td>\n",
       "      <td>1.0</td>\n",
       "      <td>10</td>\n",
       "      <td>0</td>\n",
       "      <td>50</td>\n",
       "      <td>0</td>\n",
       "      <td>D</td>\n",
       "      <td>Others</td>\n",
       "      <td>2</td>\n",
       "    </tr>\n",
       "    <tr>\n",
       "      <th>4</th>\n",
       "      <td>Technology</td>\n",
       "      <td>region_26</td>\n",
       "      <td>Bachelor's</td>\n",
       "      <td>m</td>\n",
       "      <td>other</td>\n",
       "      <td>1</td>\n",
       "      <td>45</td>\n",
       "      <td>3.0</td>\n",
       "      <td>2</td>\n",
       "      <td>0</td>\n",
       "      <td>73</td>\n",
       "      <td>0</td>\n",
       "      <td>E</td>\n",
       "      <td>1</td>\n",
       "      <td>1</td>\n",
       "    </tr>\n",
       "  </tbody>\n",
       "</table>\n",
       "</div>"
      ],
      "text/plain": [
       "          department     region         education gender recruitment_channel  \\\n",
       "0  Sales & Marketing   region_7  Master's & above      f            sourcing   \n",
       "1         Operations  region_22        Bachelor's      m               other   \n",
       "2  Sales & Marketing  region_19        Bachelor's      m            sourcing   \n",
       "3  Sales & Marketing  region_23        Bachelor's      m               other   \n",
       "4         Technology  region_26        Bachelor's      m               other   \n",
       "\n",
       "   no_of_trainings  age  previous_year_rating  length_of_service awards_won?  \\\n",
       "0                1   35                   5.0                  8           0   \n",
       "1                1   30                   5.0                  4           0   \n",
       "2                1   34                   3.0                  7           0   \n",
       "3                2   39                   1.0                 10           0   \n",
       "4                1   45                   3.0                  2           0   \n",
       "\n",
       "   avg_training_score  is_promoted age_recat no_of_trainings_recat  \\\n",
       "0                  49            0         C                     1   \n",
       "1                  60            0         B                     1   \n",
       "2                  50            0         C                     1   \n",
       "3                  50            0         D                Others   \n",
       "4                  73            0         E                     1   \n",
       "\n",
       "  length_of_service_recat  \n",
       "0                       2  \n",
       "1                       1  \n",
       "2                       2  \n",
       "3                       2  \n",
       "4                       1  "
      ]
     },
     "execution_count": 101,
     "metadata": {},
     "output_type": "execute_result"
    }
   ],
   "source": [
    "df.head()"
   ]
  },
  {
   "cell_type": "code",
   "execution_count": 102,
   "id": "845dd71a-d1f3-4148-9155-edfc87c6c767",
   "metadata": {},
   "outputs": [
    {
     "data": {
      "text/html": [
       "<div>\n",
       "<style scoped>\n",
       "    .dataframe tbody tr th:only-of-type {\n",
       "        vertical-align: middle;\n",
       "    }\n",
       "\n",
       "    .dataframe tbody tr th {\n",
       "        vertical-align: top;\n",
       "    }\n",
       "\n",
       "    .dataframe thead th {\n",
       "        text-align: right;\n",
       "    }\n",
       "</style>\n",
       "<table border=\"1\" class=\"dataframe\">\n",
       "  <thead>\n",
       "    <tr style=\"text-align: right;\">\n",
       "      <th>is_promoted</th>\n",
       "      <th>0</th>\n",
       "      <th>1</th>\n",
       "    </tr>\n",
       "    <tr>\n",
       "      <th>length_of_service_recat</th>\n",
       "      <th></th>\n",
       "      <th></th>\n",
       "    </tr>\n",
       "  </thead>\n",
       "  <tbody>\n",
       "    <tr>\n",
       "      <th>1</th>\n",
       "      <td>28278</td>\n",
       "      <td>2654</td>\n",
       "    </tr>\n",
       "    <tr>\n",
       "      <th>2</th>\n",
       "      <td>16423</td>\n",
       "      <td>1567</td>\n",
       "    </tr>\n",
       "    <tr>\n",
       "      <th>3</th>\n",
       "      <td>3254</td>\n",
       "      <td>285</td>\n",
       "    </tr>\n",
       "    <tr>\n",
       "      <th>4</th>\n",
       "      <td>1695</td>\n",
       "      <td>134</td>\n",
       "    </tr>\n",
       "    <tr>\n",
       "      <th>5</th>\n",
       "      <td>306</td>\n",
       "      <td>19</td>\n",
       "    </tr>\n",
       "    <tr>\n",
       "      <th>6</th>\n",
       "      <td>143</td>\n",
       "      <td>6</td>\n",
       "    </tr>\n",
       "    <tr>\n",
       "      <th>7</th>\n",
       "      <td>40</td>\n",
       "      <td>3</td>\n",
       "    </tr>\n",
       "    <tr>\n",
       "      <th>8</th>\n",
       "      <td>1</td>\n",
       "      <td>0</td>\n",
       "    </tr>\n",
       "  </tbody>\n",
       "</table>\n",
       "</div>"
      ],
      "text/plain": [
       "is_promoted                  0     1\n",
       "length_of_service_recat             \n",
       "1                        28278  2654\n",
       "2                        16423  1567\n",
       "3                         3254   285\n",
       "4                         1695   134\n",
       "5                          306    19\n",
       "6                          143     6\n",
       "7                           40     3\n",
       "8                            1     0"
      ]
     },
     "execution_count": 102,
     "metadata": {},
     "output_type": "execute_result"
    }
   ],
   "source": [
    "pd.crosstab(index=df['length_of_service_recat'],columns=df['is_promoted']).sort_values(1,ascending=False)"
   ]
  },
  {
   "cell_type": "code",
   "execution_count": 103,
   "id": "9d3f9f1b-2c09-49d2-8969-1ce390061cb8",
   "metadata": {},
   "outputs": [
    {
     "data": {
      "text/html": [
       "<div>\n",
       "<style scoped>\n",
       "    .dataframe tbody tr th:only-of-type {\n",
       "        vertical-align: middle;\n",
       "    }\n",
       "\n",
       "    .dataframe tbody tr th {\n",
       "        vertical-align: top;\n",
       "    }\n",
       "\n",
       "    .dataframe thead th {\n",
       "        text-align: right;\n",
       "    }\n",
       "</style>\n",
       "<table border=\"1\" class=\"dataframe\">\n",
       "  <thead>\n",
       "    <tr style=\"text-align: right;\">\n",
       "      <th>is_promoted</th>\n",
       "      <th>0</th>\n",
       "      <th>1</th>\n",
       "    </tr>\n",
       "    <tr>\n",
       "      <th>length_of_service_recat</th>\n",
       "      <th></th>\n",
       "      <th></th>\n",
       "    </tr>\n",
       "  </thead>\n",
       "  <tbody>\n",
       "    <tr>\n",
       "      <th>1</th>\n",
       "      <td>56.40</td>\n",
       "      <td>56.86</td>\n",
       "    </tr>\n",
       "    <tr>\n",
       "      <th>2</th>\n",
       "      <td>32.75</td>\n",
       "      <td>33.57</td>\n",
       "    </tr>\n",
       "    <tr>\n",
       "      <th>3</th>\n",
       "      <td>6.49</td>\n",
       "      <td>6.11</td>\n",
       "    </tr>\n",
       "    <tr>\n",
       "      <th>4</th>\n",
       "      <td>3.38</td>\n",
       "      <td>2.87</td>\n",
       "    </tr>\n",
       "    <tr>\n",
       "      <th>5</th>\n",
       "      <td>0.61</td>\n",
       "      <td>0.41</td>\n",
       "    </tr>\n",
       "    <tr>\n",
       "      <th>6</th>\n",
       "      <td>0.29</td>\n",
       "      <td>0.13</td>\n",
       "    </tr>\n",
       "    <tr>\n",
       "      <th>7</th>\n",
       "      <td>0.08</td>\n",
       "      <td>0.06</td>\n",
       "    </tr>\n",
       "    <tr>\n",
       "      <th>8</th>\n",
       "      <td>0.00</td>\n",
       "      <td>0.00</td>\n",
       "    </tr>\n",
       "  </tbody>\n",
       "</table>\n",
       "</div>"
      ],
      "text/plain": [
       "is_promoted                  0      1\n",
       "length_of_service_recat              \n",
       "1                        56.40  56.86\n",
       "2                        32.75  33.57\n",
       "3                         6.49   6.11\n",
       "4                         3.38   2.87\n",
       "5                         0.61   0.41\n",
       "6                         0.29   0.13\n",
       "7                         0.08   0.06\n",
       "8                         0.00   0.00"
      ]
     },
     "execution_count": 103,
     "metadata": {},
     "output_type": "execute_result"
    }
   ],
   "source": [
    "(pd.crosstab(index=df['length_of_service_recat'],columns=df['is_promoted'],normalize='columns')*100).round(2).sort_values(1,ascending=False)"
   ]
  },
  {
   "cell_type": "code",
   "execution_count": 97,
   "id": "ce34b716-8333-4203-89fa-9ffef7681633",
   "metadata": {},
   "outputs": [],
   "source": [
    "# Most of them who got Promoted are the Employee who only worked for 1 year service"
   ]
  },
  {
   "cell_type": "code",
   "execution_count": 104,
   "id": "f88d0200-8e38-4351-8d9f-f59b5f33fede",
   "metadata": {},
   "outputs": [
    {
     "data": {
      "text/html": [
       "<div>\n",
       "<style scoped>\n",
       "    .dataframe tbody tr th:only-of-type {\n",
       "        vertical-align: middle;\n",
       "    }\n",
       "\n",
       "    .dataframe tbody tr th {\n",
       "        vertical-align: top;\n",
       "    }\n",
       "\n",
       "    .dataframe thead th {\n",
       "        text-align: right;\n",
       "    }\n",
       "</style>\n",
       "<table border=\"1\" class=\"dataframe\">\n",
       "  <thead>\n",
       "    <tr style=\"text-align: right;\">\n",
       "      <th>is_promoted</th>\n",
       "      <th>0</th>\n",
       "      <th>1</th>\n",
       "    </tr>\n",
       "    <tr>\n",
       "      <th>length_of_service_recat</th>\n",
       "      <th></th>\n",
       "      <th></th>\n",
       "    </tr>\n",
       "  </thead>\n",
       "  <tbody>\n",
       "    <tr>\n",
       "      <th>2</th>\n",
       "      <td>91.29</td>\n",
       "      <td>8.71</td>\n",
       "    </tr>\n",
       "    <tr>\n",
       "      <th>1</th>\n",
       "      <td>91.42</td>\n",
       "      <td>8.58</td>\n",
       "    </tr>\n",
       "    <tr>\n",
       "      <th>3</th>\n",
       "      <td>91.95</td>\n",
       "      <td>8.05</td>\n",
       "    </tr>\n",
       "    <tr>\n",
       "      <th>4</th>\n",
       "      <td>92.67</td>\n",
       "      <td>7.33</td>\n",
       "    </tr>\n",
       "    <tr>\n",
       "      <th>7</th>\n",
       "      <td>93.02</td>\n",
       "      <td>6.98</td>\n",
       "    </tr>\n",
       "    <tr>\n",
       "      <th>5</th>\n",
       "      <td>94.15</td>\n",
       "      <td>5.85</td>\n",
       "    </tr>\n",
       "    <tr>\n",
       "      <th>6</th>\n",
       "      <td>95.97</td>\n",
       "      <td>4.03</td>\n",
       "    </tr>\n",
       "    <tr>\n",
       "      <th>8</th>\n",
       "      <td>100.00</td>\n",
       "      <td>0.00</td>\n",
       "    </tr>\n",
       "  </tbody>\n",
       "</table>\n",
       "</div>"
      ],
      "text/plain": [
       "is_promoted                   0     1\n",
       "length_of_service_recat              \n",
       "2                         91.29  8.71\n",
       "1                         91.42  8.58\n",
       "3                         91.95  8.05\n",
       "4                         92.67  7.33\n",
       "7                         93.02  6.98\n",
       "5                         94.15  5.85\n",
       "6                         95.97  4.03\n",
       "8                        100.00  0.00"
      ]
     },
     "execution_count": 104,
     "metadata": {},
     "output_type": "execute_result"
    }
   ],
   "source": [
    "(pd.crosstab(index=df['length_of_service_recat'],columns=df['is_promoted'],normalize='index')*100).round(2).sort_values(1,ascending=False)"
   ]
  },
  {
   "cell_type": "code",
   "execution_count": 99,
   "id": "83f89040-22b5-42d4-83b6-1f7c8d6e02e9",
   "metadata": {},
   "outputs": [],
   "source": [
    "# But the biggest proportion of Promotions are the Employee who worked for 2 years of Service"
   ]
  },
  {
   "cell_type": "code",
   "execution_count": 105,
   "id": "c85d2822-247d-4c6d-bb9f-d3c590b98131",
   "metadata": {},
   "outputs": [
    {
     "data": {
      "image/png": "[encoded data removed]",
      "text/plain": [
       "<Figure size 936x576 with 1 Axes>"
      ]
     },
     "metadata": {
      "needs_background": "light"
     },
     "output_type": "display_data"
    }
   ],
   "source": [
    "plt.figure(figsize=(13,8))\n",
    "plt.title('Length of Service VS Promotion')\n",
    "sns.countplot(x=df['length_of_service_recat'],hue=df['is_promoted']);"
   ]
  },
  {
   "cell_type": "code",
   "execution_count": 86,
   "id": "3b56985c-7a15-4d7a-b60a-9d9beefc5cee",
   "metadata": {},
   "outputs": [],
   "source": [
    "# Visualization of Data Relationship Between Length of Service and Promotion"
   ]
  },
  {
   "cell_type": "markdown",
   "id": "0defa38c-7511-40c3-a7a3-b5179335fe95",
   "metadata": {},
   "source": [
    "- Finding the Relationship between Awards Won and Target Feature"
   ]
  },
  {
   "cell_type": "code",
   "execution_count": 106,
   "id": "97f8c676-a8a0-49ce-9a74-909d4b8aafc1",
   "metadata": {},
   "outputs": [
    {
     "data": {
      "text/html": [
       "<div>\n",
       "<style scoped>\n",
       "    .dataframe tbody tr th:only-of-type {\n",
       "        vertical-align: middle;\n",
       "    }\n",
       "\n",
       "    .dataframe tbody tr th {\n",
       "        vertical-align: top;\n",
       "    }\n",
       "\n",
       "    .dataframe thead th {\n",
       "        text-align: right;\n",
       "    }\n",
       "</style>\n",
       "<table border=\"1\" class=\"dataframe\">\n",
       "  <thead>\n",
       "    <tr style=\"text-align: right;\">\n",
       "      <th>is_promoted</th>\n",
       "      <th>0</th>\n",
       "      <th>1</th>\n",
       "    </tr>\n",
       "    <tr>\n",
       "      <th>awards_won?</th>\n",
       "      <th></th>\n",
       "      <th></th>\n",
       "    </tr>\n",
       "  </thead>\n",
       "  <tbody>\n",
       "    <tr>\n",
       "      <th>0</th>\n",
       "      <td>49429</td>\n",
       "      <td>4109</td>\n",
       "    </tr>\n",
       "    <tr>\n",
       "      <th>1</th>\n",
       "      <td>711</td>\n",
       "      <td>559</td>\n",
       "    </tr>\n",
       "  </tbody>\n",
       "</table>\n",
       "</div>"
      ],
      "text/plain": [
       "is_promoted      0     1\n",
       "awards_won?             \n",
       "0            49429  4109\n",
       "1              711   559"
      ]
     },
     "execution_count": 106,
     "metadata": {},
     "output_type": "execute_result"
    }
   ],
   "source": [
    "pd.crosstab(index=df['awards_won?'],columns=df['is_promoted']).sort_values(1,ascending=False)"
   ]
  },
  {
   "cell_type": "code",
   "execution_count": 107,
   "id": "48f2cf34-2c31-4ac9-8922-2df790944f3f",
   "metadata": {},
   "outputs": [
    {
     "data": {
      "text/html": [
       "<div>\n",
       "<style scoped>\n",
       "    .dataframe tbody tr th:only-of-type {\n",
       "        vertical-align: middle;\n",
       "    }\n",
       "\n",
       "    .dataframe tbody tr th {\n",
       "        vertical-align: top;\n",
       "    }\n",
       "\n",
       "    .dataframe thead th {\n",
       "        text-align: right;\n",
       "    }\n",
       "</style>\n",
       "<table border=\"1\" class=\"dataframe\">\n",
       "  <thead>\n",
       "    <tr style=\"text-align: right;\">\n",
       "      <th>is_promoted</th>\n",
       "      <th>0</th>\n",
       "      <th>1</th>\n",
       "    </tr>\n",
       "    <tr>\n",
       "      <th>awards_won?</th>\n",
       "      <th></th>\n",
       "      <th></th>\n",
       "    </tr>\n",
       "  </thead>\n",
       "  <tbody>\n",
       "    <tr>\n",
       "      <th>0</th>\n",
       "      <td>98.58</td>\n",
       "      <td>88.02</td>\n",
       "    </tr>\n",
       "    <tr>\n",
       "      <th>1</th>\n",
       "      <td>1.42</td>\n",
       "      <td>11.98</td>\n",
       "    </tr>\n",
       "  </tbody>\n",
       "</table>\n",
       "</div>"
      ],
      "text/plain": [
       "is_promoted      0      1\n",
       "awards_won?              \n",
       "0            98.58  88.02\n",
       "1             1.42  11.98"
      ]
     },
     "execution_count": 107,
     "metadata": {},
     "output_type": "execute_result"
    }
   ],
   "source": [
    "(pd.crosstab(index=df['awards_won?'],columns=df['is_promoted'],normalize='columns')*100).round(2).sort_values(1,ascending=False)"
   ]
  },
  {
   "cell_type": "code",
   "execution_count": 105,
   "id": "73e8455d-60e8-4b2a-be74-180d1ff5ed70",
   "metadata": {},
   "outputs": [],
   "source": [
    "# Most of them who got Promoted are the Employee didn't get an award last year, but that was because of the imbalance data"
   ]
  },
  {
   "cell_type": "code",
   "execution_count": 108,
   "id": "ee75bb24-25f8-4785-876e-ed2871de0d8b",
   "metadata": {},
   "outputs": [
    {
     "data": {
      "text/html": [
       "<div>\n",
       "<style scoped>\n",
       "    .dataframe tbody tr th:only-of-type {\n",
       "        vertical-align: middle;\n",
       "    }\n",
       "\n",
       "    .dataframe tbody tr th {\n",
       "        vertical-align: top;\n",
       "    }\n",
       "\n",
       "    .dataframe thead th {\n",
       "        text-align: right;\n",
       "    }\n",
       "</style>\n",
       "<table border=\"1\" class=\"dataframe\">\n",
       "  <thead>\n",
       "    <tr style=\"text-align: right;\">\n",
       "      <th>is_promoted</th>\n",
       "      <th>0</th>\n",
       "      <th>1</th>\n",
       "    </tr>\n",
       "    <tr>\n",
       "      <th>awards_won?</th>\n",
       "      <th></th>\n",
       "      <th></th>\n",
       "    </tr>\n",
       "  </thead>\n",
       "  <tbody>\n",
       "    <tr>\n",
       "      <th>1</th>\n",
       "      <td>55.98</td>\n",
       "      <td>44.02</td>\n",
       "    </tr>\n",
       "    <tr>\n",
       "      <th>0</th>\n",
       "      <td>92.33</td>\n",
       "      <td>7.67</td>\n",
       "    </tr>\n",
       "  </tbody>\n",
       "</table>\n",
       "</div>"
      ],
      "text/plain": [
       "is_promoted      0      1\n",
       "awards_won?              \n",
       "1            55.98  44.02\n",
       "0            92.33   7.67"
      ]
     },
     "execution_count": 108,
     "metadata": {},
     "output_type": "execute_result"
    }
   ],
   "source": [
    "(pd.crosstab(index=df['awards_won?'],columns=df['is_promoted'],normalize='index')*100).round(2).sort_values(1,ascending=False)"
   ]
  },
  {
   "cell_type": "code",
   "execution_count": 104,
   "id": "b91c567c-7f0d-429f-bece-2f89d12a8e7d",
   "metadata": {},
   "outputs": [],
   "source": [
    "# But the biggest proportion of Promotions are the Employee who got an award previous year"
   ]
  },
  {
   "cell_type": "code",
   "execution_count": 109,
   "id": "be16c59f-ed7f-4246-9259-936bdd554373",
   "metadata": {},
   "outputs": [
    {
     "data": {
      "image/png": "[encoded data removed]",
      "text/plain": [
       "<Figure size 936x576 with 1 Axes>"
      ]
     },
     "metadata": {
      "needs_background": "light"
     },
     "output_type": "display_data"
    }
   ],
   "source": [
    "plt.figure(figsize=(13,8))\n",
    "plt.title('Award Won VS Promotion')\n",
    "sns.countplot(x=df['awards_won?'],hue=df['is_promoted']);"
   ]
  },
  {
   "cell_type": "code",
   "execution_count": 87,
   "id": "a69fc98a-2d30-4791-9fb0-6540e1292f6d",
   "metadata": {},
   "outputs": [],
   "source": [
    "# Visualization of Data Relationship Between Awards Won and Promotion"
   ]
  },
  {
   "cell_type": "markdown",
   "id": "38edcdf3-b704-456e-bd2b-86b242999450",
   "metadata": {},
   "source": [
    "- Finding the Relationship between Avg Training Score and Target Feature"
   ]
  },
  {
   "cell_type": "code",
   "execution_count": 110,
   "id": "4e3a2d1d-6ab9-4363-a712-b6830c079ac8",
   "metadata": {},
   "outputs": [],
   "source": [
    "bin_avg_training_score = [38,60,80,100]"
   ]
  },
  {
   "cell_type": "code",
   "execution_count": 111,
   "id": "277c09fa-36ff-4c2b-a164-22cd6cfaa7e8",
   "metadata": {},
   "outputs": [],
   "source": [
    "label_avg_training_score = ['C','B','A']"
   ]
  },
  {
   "cell_type": "code",
   "execution_count": 112,
   "id": "c1683ae0-f8c5-41f5-a079-145c2e5d10c3",
   "metadata": {},
   "outputs": [],
   "source": [
    "df['avg_training_score_recat'] = pd.cut(df['avg_training_score'],bins=bin_avg_training_score,labels=label_avg_training_score)"
   ]
  },
  {
   "cell_type": "code",
   "execution_count": 113,
   "id": "900cbdc8-01f1-4e83-8031-baa3d05cffbf",
   "metadata": {},
   "outputs": [
    {
     "data": {
      "text/html": [
       "<div>\n",
       "<style scoped>\n",
       "    .dataframe tbody tr th:only-of-type {\n",
       "        vertical-align: middle;\n",
       "    }\n",
       "\n",
       "    .dataframe tbody tr th {\n",
       "        vertical-align: top;\n",
       "    }\n",
       "\n",
       "    .dataframe thead th {\n",
       "        text-align: right;\n",
       "    }\n",
       "</style>\n",
       "<table border=\"1\" class=\"dataframe\">\n",
       "  <thead>\n",
       "    <tr style=\"text-align: right;\">\n",
       "      <th></th>\n",
       "      <th>department</th>\n",
       "      <th>region</th>\n",
       "      <th>education</th>\n",
       "      <th>gender</th>\n",
       "      <th>recruitment_channel</th>\n",
       "      <th>no_of_trainings</th>\n",
       "      <th>age</th>\n",
       "      <th>previous_year_rating</th>\n",
       "      <th>length_of_service</th>\n",
       "      <th>awards_won?</th>\n",
       "      <th>avg_training_score</th>\n",
       "      <th>is_promoted</th>\n",
       "      <th>age_recat</th>\n",
       "      <th>no_of_trainings_recat</th>\n",
       "      <th>length_of_service_recat</th>\n",
       "      <th>avg_training_score_recat</th>\n",
       "    </tr>\n",
       "  </thead>\n",
       "  <tbody>\n",
       "    <tr>\n",
       "      <th>0</th>\n",
       "      <td>Sales &amp; Marketing</td>\n",
       "      <td>region_7</td>\n",
       "      <td>Master's &amp; above</td>\n",
       "      <td>f</td>\n",
       "      <td>sourcing</td>\n",
       "      <td>1</td>\n",
       "      <td>35</td>\n",
       "      <td>5.0</td>\n",
       "      <td>8</td>\n",
       "      <td>0</td>\n",
       "      <td>49</td>\n",
       "      <td>0</td>\n",
       "      <td>C</td>\n",
       "      <td>1</td>\n",
       "      <td>2</td>\n",
       "      <td>C</td>\n",
       "    </tr>\n",
       "    <tr>\n",
       "      <th>1</th>\n",
       "      <td>Operations</td>\n",
       "      <td>region_22</td>\n",
       "      <td>Bachelor's</td>\n",
       "      <td>m</td>\n",
       "      <td>other</td>\n",
       "      <td>1</td>\n",
       "      <td>30</td>\n",
       "      <td>5.0</td>\n",
       "      <td>4</td>\n",
       "      <td>0</td>\n",
       "      <td>60</td>\n",
       "      <td>0</td>\n",
       "      <td>B</td>\n",
       "      <td>1</td>\n",
       "      <td>1</td>\n",
       "      <td>C</td>\n",
       "    </tr>\n",
       "    <tr>\n",
       "      <th>2</th>\n",
       "      <td>Sales &amp; Marketing</td>\n",
       "      <td>region_19</td>\n",
       "      <td>Bachelor's</td>\n",
       "      <td>m</td>\n",
       "      <td>sourcing</td>\n",
       "      <td>1</td>\n",
       "      <td>34</td>\n",
       "      <td>3.0</td>\n",
       "      <td>7</td>\n",
       "      <td>0</td>\n",
       "      <td>50</td>\n",
       "      <td>0</td>\n",
       "      <td>C</td>\n",
       "      <td>1</td>\n",
       "      <td>2</td>\n",
       "      <td>C</td>\n",
       "    </tr>\n",
       "    <tr>\n",
       "      <th>3</th>\n",
       "      <td>Sales &amp; Marketing</td>\n",
       "      <td>region_23</td>\n",
       "      <td>Bachelor's</td>\n",
       "      <td>m</td>\n",
       "      <td>other</td>\n",
       "      <td>2</td>\n",
       "      <td>39</td>\n",
       "      <td>1.0</td>\n",
       "      <td>10</td>\n",
       "      <td>0</td>\n",
       "      <td>50</td>\n",
       "      <td>0</td>\n",
       "      <td>D</td>\n",
       "      <td>Others</td>\n",
       "      <td>2</td>\n",
       "      <td>C</td>\n",
       "    </tr>\n",
       "    <tr>\n",
       "      <th>4</th>\n",
       "      <td>Technology</td>\n",
       "      <td>region_26</td>\n",
       "      <td>Bachelor's</td>\n",
       "      <td>m</td>\n",
       "      <td>other</td>\n",
       "      <td>1</td>\n",
       "      <td>45</td>\n",
       "      <td>3.0</td>\n",
       "      <td>2</td>\n",
       "      <td>0</td>\n",
       "      <td>73</td>\n",
       "      <td>0</td>\n",
       "      <td>E</td>\n",
       "      <td>1</td>\n",
       "      <td>1</td>\n",
       "      <td>B</td>\n",
       "    </tr>\n",
       "  </tbody>\n",
       "</table>\n",
       "</div>"
      ],
      "text/plain": [
       "          department     region         education gender recruitment_channel  \\\n",
       "0  Sales & Marketing   region_7  Master's & above      f            sourcing   \n",
       "1         Operations  region_22        Bachelor's      m               other   \n",
       "2  Sales & Marketing  region_19        Bachelor's      m            sourcing   \n",
       "3  Sales & Marketing  region_23        Bachelor's      m               other   \n",
       "4         Technology  region_26        Bachelor's      m               other   \n",
       "\n",
       "   no_of_trainings  age  previous_year_rating  length_of_service awards_won?  \\\n",
       "0                1   35                   5.0                  8           0   \n",
       "1                1   30                   5.0                  4           0   \n",
       "2                1   34                   3.0                  7           0   \n",
       "3                2   39                   1.0                 10           0   \n",
       "4                1   45                   3.0                  2           0   \n",
       "\n",
       "   avg_training_score  is_promoted age_recat no_of_trainings_recat  \\\n",
       "0                  49            0         C                     1   \n",
       "1                  60            0         B                     1   \n",
       "2                  50            0         C                     1   \n",
       "3                  50            0         D                Others   \n",
       "4                  73            0         E                     1   \n",
       "\n",
       "  length_of_service_recat avg_training_score_recat  \n",
       "0                       2                        C  \n",
       "1                       1                        C  \n",
       "2                       2                        C  \n",
       "3                       2                        C  \n",
       "4                       1                        B  "
      ]
     },
     "execution_count": 113,
     "metadata": {},
     "output_type": "execute_result"
    }
   ],
   "source": [
    "df.head()"
   ]
  },
  {
   "cell_type": "code",
   "execution_count": 114,
   "id": "3d373cf0-d308-430b-894a-902116fef1e1",
   "metadata": {},
   "outputs": [
    {
     "data": {
      "text/html": [
       "<div>\n",
       "<style scoped>\n",
       "    .dataframe tbody tr th:only-of-type {\n",
       "        vertical-align: middle;\n",
       "    }\n",
       "\n",
       "    .dataframe tbody tr th {\n",
       "        vertical-align: top;\n",
       "    }\n",
       "\n",
       "    .dataframe thead th {\n",
       "        text-align: right;\n",
       "    }\n",
       "</style>\n",
       "<table border=\"1\" class=\"dataframe\">\n",
       "  <thead>\n",
       "    <tr style=\"text-align: right;\">\n",
       "      <th>is_promoted</th>\n",
       "      <th>0</th>\n",
       "      <th>1</th>\n",
       "    </tr>\n",
       "    <tr>\n",
       "      <th>avg_training_score_recat</th>\n",
       "      <th></th>\n",
       "      <th></th>\n",
       "    </tr>\n",
       "  </thead>\n",
       "  <tbody>\n",
       "    <tr>\n",
       "      <th>B</th>\n",
       "      <td>15761</td>\n",
       "      <td>1706</td>\n",
       "    </tr>\n",
       "    <tr>\n",
       "      <th>A</th>\n",
       "      <td>7709</td>\n",
       "      <td>1609</td>\n",
       "    </tr>\n",
       "    <tr>\n",
       "      <th>C</th>\n",
       "      <td>26670</td>\n",
       "      <td>1353</td>\n",
       "    </tr>\n",
       "  </tbody>\n",
       "</table>\n",
       "</div>"
      ],
      "text/plain": [
       "is_promoted                   0     1\n",
       "avg_training_score_recat             \n",
       "B                         15761  1706\n",
       "A                          7709  1609\n",
       "C                         26670  1353"
      ]
     },
     "execution_count": 114,
     "metadata": {},
     "output_type": "execute_result"
    }
   ],
   "source": [
    "pd.crosstab(index=df['avg_training_score_recat'],columns=df['is_promoted']).sort_values(1,ascending=False)"
   ]
  },
  {
   "cell_type": "code",
   "execution_count": 115,
   "id": "a6f643c2-e3a2-4495-a3ce-6b1f88fadec1",
   "metadata": {},
   "outputs": [
    {
     "data": {
      "text/html": [
       "<div>\n",
       "<style scoped>\n",
       "    .dataframe tbody tr th:only-of-type {\n",
       "        vertical-align: middle;\n",
       "    }\n",
       "\n",
       "    .dataframe tbody tr th {\n",
       "        vertical-align: top;\n",
       "    }\n",
       "\n",
       "    .dataframe thead th {\n",
       "        text-align: right;\n",
       "    }\n",
       "</style>\n",
       "<table border=\"1\" class=\"dataframe\">\n",
       "  <thead>\n",
       "    <tr style=\"text-align: right;\">\n",
       "      <th>is_promoted</th>\n",
       "      <th>0</th>\n",
       "      <th>1</th>\n",
       "    </tr>\n",
       "    <tr>\n",
       "      <th>avg_training_score_recat</th>\n",
       "      <th></th>\n",
       "      <th></th>\n",
       "    </tr>\n",
       "  </thead>\n",
       "  <tbody>\n",
       "    <tr>\n",
       "      <th>B</th>\n",
       "      <td>31.43</td>\n",
       "      <td>36.55</td>\n",
       "    </tr>\n",
       "    <tr>\n",
       "      <th>A</th>\n",
       "      <td>15.37</td>\n",
       "      <td>34.47</td>\n",
       "    </tr>\n",
       "    <tr>\n",
       "      <th>C</th>\n",
       "      <td>53.19</td>\n",
       "      <td>28.98</td>\n",
       "    </tr>\n",
       "  </tbody>\n",
       "</table>\n",
       "</div>"
      ],
      "text/plain": [
       "is_promoted                   0      1\n",
       "avg_training_score_recat              \n",
       "B                         31.43  36.55\n",
       "A                         15.37  34.47\n",
       "C                         53.19  28.98"
      ]
     },
     "execution_count": 115,
     "metadata": {},
     "output_type": "execute_result"
    }
   ],
   "source": [
    "(pd.crosstab(index=df['avg_training_score_recat'],columns=df['is_promoted'],normalize='columns')*100).round(2).sort_values(1,ascending=False)"
   ]
  },
  {
   "cell_type": "code",
   "execution_count": 102,
   "id": "51d87ab2-63ad-401f-9b1c-1e301e185675",
   "metadata": {},
   "outputs": [],
   "source": [
    "# Most of them who got Promoted are the Employee who got Averaage Training Score Between 61-80"
   ]
  },
  {
   "cell_type": "code",
   "execution_count": 116,
   "id": "f45f0e9d-41ed-4d9b-9724-f76878a38452",
   "metadata": {},
   "outputs": [
    {
     "data": {
      "text/html": [
       "<div>\n",
       "<style scoped>\n",
       "    .dataframe tbody tr th:only-of-type {\n",
       "        vertical-align: middle;\n",
       "    }\n",
       "\n",
       "    .dataframe tbody tr th {\n",
       "        vertical-align: top;\n",
       "    }\n",
       "\n",
       "    .dataframe thead th {\n",
       "        text-align: right;\n",
       "    }\n",
       "</style>\n",
       "<table border=\"1\" class=\"dataframe\">\n",
       "  <thead>\n",
       "    <tr style=\"text-align: right;\">\n",
       "      <th>is_promoted</th>\n",
       "      <th>0</th>\n",
       "      <th>1</th>\n",
       "    </tr>\n",
       "    <tr>\n",
       "      <th>avg_training_score_recat</th>\n",
       "      <th></th>\n",
       "      <th></th>\n",
       "    </tr>\n",
       "  </thead>\n",
       "  <tbody>\n",
       "    <tr>\n",
       "      <th>A</th>\n",
       "      <td>82.73</td>\n",
       "      <td>17.27</td>\n",
       "    </tr>\n",
       "    <tr>\n",
       "      <th>B</th>\n",
       "      <td>90.23</td>\n",
       "      <td>9.77</td>\n",
       "    </tr>\n",
       "    <tr>\n",
       "      <th>C</th>\n",
       "      <td>95.17</td>\n",
       "      <td>4.83</td>\n",
       "    </tr>\n",
       "  </tbody>\n",
       "</table>\n",
       "</div>"
      ],
      "text/plain": [
       "is_promoted                   0      1\n",
       "avg_training_score_recat              \n",
       "A                         82.73  17.27\n",
       "B                         90.23   9.77\n",
       "C                         95.17   4.83"
      ]
     },
     "execution_count": 116,
     "metadata": {},
     "output_type": "execute_result"
    }
   ],
   "source": [
    "(pd.crosstab(index=df['avg_training_score_recat'],columns=df['is_promoted'],normalize='index')*100).round(2).sort_values(1,ascending=False)"
   ]
  },
  {
   "cell_type": "code",
   "execution_count": 103,
   "id": "162b57da-560b-46ed-b0f6-28eb40e12d7d",
   "metadata": {},
   "outputs": [],
   "source": [
    "# But the biggest proportion of Promotions are the Employee who got Average Training Score Between 81-100"
   ]
  },
  {
   "cell_type": "code",
   "execution_count": 117,
   "id": "50082fca-0d4e-4230-a8a8-e4563531ad86",
   "metadata": {},
   "outputs": [
    {
     "data": {
      "image/png": "[encoded data removed]",
      "text/plain": [
       "<Figure size 936x576 with 1 Axes>"
      ]
     },
     "metadata": {
      "needs_background": "light"
     },
     "output_type": "display_data"
    }
   ],
   "source": [
    "plt.figure(figsize=(13,8))\n",
    "plt.title('Average Training Score VS Promotion')\n",
    "sns.countplot(x=df['avg_training_score_recat'],hue=df['is_promoted']);"
   ]
  },
  {
   "cell_type": "code",
   "execution_count": 88,
   "id": "71771bfa-e105-4bc9-8ea7-709ec167846d",
   "metadata": {},
   "outputs": [],
   "source": [
    "# Visualization of Data Relationship Between Avg Training Score and Promotion"
   ]
  },
  {
   "cell_type": "markdown",
   "id": "3165b0f8-c5d1-4ae8-8fba-9cdcefd13250",
   "metadata": {},
   "source": [
    "- From EDA, we can conclude that:\n",
    "    - From Correlation Ratio, previous year rating and average training score have impact on Promotion\n",
    "    - From Association Cramer's V. Awards Won has impact on Promotion\n",
    "    - Most of the Employee who got promotion were from Sales Department, but Technology Department have more portion or percentage of the employee promotion in a Department\n",
    "    - Most of the Employee who got promotion achieved 5.0 previous rating, 81-100 avg training score, won an award previous year, recruited by reference, and at the age range 31-35, and recruited by Reference"
   ]
  },
  {
   "cell_type": "markdown",
   "id": "45a7591a-2b0b-406c-9358-c80509234b9e",
   "metadata": {},
   "source": [
    "# Preprocessing"
   ]
  },
  {
   "cell_type": "code",
   "execution_count": 118,
   "id": "7788fbd4-bb8b-4125-b39c-b5ad8a62cf95",
   "metadata": {},
   "outputs": [
    {
     "name": "stdout",
     "output_type": "stream",
     "text": [
      "<class 'pandas.core.frame.DataFrame'>\n",
      "RangeIndex: 54808 entries, 0 to 54807\n",
      "Data columns (total 16 columns):\n",
      " #   Column                    Non-Null Count  Dtype   \n",
      "---  ------                    --------------  -----   \n",
      " 0   department                54808 non-null  object  \n",
      " 1   region                    54808 non-null  object  \n",
      " 2   education                 52399 non-null  object  \n",
      " 3   gender                    54808 non-null  object  \n",
      " 4   recruitment_channel       54808 non-null  object  \n",
      " 5   no_of_trainings           54808 non-null  int64   \n",
      " 6   age                       54808 non-null  int64   \n",
      " 7   previous_year_rating      50684 non-null  float64 \n",
      " 8   length_of_service         54808 non-null  int64   \n",
      " 9   awards_won?               54808 non-null  object  \n",
      " 10  avg_training_score        54808 non-null  int64   \n",
      " 11  is_promoted               54808 non-null  int64   \n",
      " 12  age_recat                 54808 non-null  category\n",
      " 13  no_of_trainings_recat     54808 non-null  object  \n",
      " 14  length_of_service_recat   54808 non-null  category\n",
      " 15  avg_training_score_recat  54808 non-null  category\n",
      "dtypes: category(3), float64(1), int64(5), object(7)\n",
      "memory usage: 5.6+ MB\n"
     ]
    }
   ],
   "source": [
    "df.info()"
   ]
  },
  {
   "cell_type": "code",
   "execution_count": 119,
   "id": "692d1d5c-00c2-4f55-b573-e5f1695c426a",
   "metadata": {},
   "outputs": [
    {
     "data": {
      "text/plain": [
       "department                     0\n",
       "region                         0\n",
       "education                   2409\n",
       "gender                         0\n",
       "recruitment_channel            0\n",
       "no_of_trainings                0\n",
       "age                            0\n",
       "previous_year_rating        4124\n",
       "length_of_service              0\n",
       "awards_won?                    0\n",
       "avg_training_score             0\n",
       "is_promoted                    0\n",
       "age_recat                      0\n",
       "no_of_trainings_recat          0\n",
       "length_of_service_recat        0\n",
       "avg_training_score_recat       0\n",
       "dtype: int64"
      ]
     },
     "execution_count": 119,
     "metadata": {},
     "output_type": "execute_result"
    }
   ],
   "source": [
    "df.isna().sum()"
   ]
  },
  {
   "cell_type": "code",
   "execution_count": 120,
   "id": "d7b6da1e-e20a-4aef-867b-1ab5847dd0ed",
   "metadata": {},
   "outputs": [
    {
     "data": {
      "text/plain": [
       "0    Bachelor's\n",
       "dtype: object"
      ]
     },
     "execution_count": 120,
     "metadata": {},
     "output_type": "execute_result"
    }
   ],
   "source": [
    "df['education'].mode() #Fiiling Missing Value on Pipeline"
   ]
  },
  {
   "cell_type": "code",
   "execution_count": 121,
   "id": "3443aa8e-ecdf-4232-b814-29c044e8e4dd",
   "metadata": {},
   "outputs": [
    {
     "data": {
      "text/plain": [
       "1    4124\n",
       "Name: length_of_service, dtype: int64"
      ]
     },
     "execution_count": 121,
     "metadata": {},
     "output_type": "execute_result"
    }
   ],
   "source": [
    "df[df['previous_year_rating'].isna()]['length_of_service'].value_counts() #Assume that All of the Missing Value on Previous Year Rating Features are the one who worked under 1 year of service"
   ]
  },
  {
   "cell_type": "code",
   "execution_count": 122,
   "id": "0d9b9d70-41cd-4e1b-aa04-ed6b2fbc0a93",
   "metadata": {},
   "outputs": [],
   "source": [
    "df1 = df.dropna(subset=['previous_year_rating'],axis=0)"
   ]
  },
  {
   "cell_type": "code",
   "execution_count": 123,
   "id": "fb4bfa25-cb63-4b62-b635-3eff84bf2fd7",
   "metadata": {},
   "outputs": [
    {
     "data": {
      "text/html": [
       "<div>\n",
       "<style scoped>\n",
       "    .dataframe tbody tr th:only-of-type {\n",
       "        vertical-align: middle;\n",
       "    }\n",
       "\n",
       "    .dataframe tbody tr th {\n",
       "        vertical-align: top;\n",
       "    }\n",
       "\n",
       "    .dataframe thead th {\n",
       "        text-align: right;\n",
       "    }\n",
       "</style>\n",
       "<table border=\"1\" class=\"dataframe\">\n",
       "  <thead>\n",
       "    <tr style=\"text-align: right;\">\n",
       "      <th></th>\n",
       "      <th>department</th>\n",
       "      <th>region</th>\n",
       "      <th>education</th>\n",
       "      <th>gender</th>\n",
       "      <th>recruitment_channel</th>\n",
       "      <th>no_of_trainings</th>\n",
       "      <th>age</th>\n",
       "      <th>previous_year_rating</th>\n",
       "      <th>length_of_service</th>\n",
       "      <th>awards_won?</th>\n",
       "      <th>avg_training_score</th>\n",
       "      <th>is_promoted</th>\n",
       "      <th>age_recat</th>\n",
       "      <th>no_of_trainings_recat</th>\n",
       "      <th>length_of_service_recat</th>\n",
       "      <th>avg_training_score_recat</th>\n",
       "    </tr>\n",
       "  </thead>\n",
       "  <tbody>\n",
       "    <tr>\n",
       "      <th>0</th>\n",
       "      <td>Sales &amp; Marketing</td>\n",
       "      <td>region_7</td>\n",
       "      <td>Master's &amp; above</td>\n",
       "      <td>f</td>\n",
       "      <td>sourcing</td>\n",
       "      <td>1</td>\n",
       "      <td>35</td>\n",
       "      <td>5.0</td>\n",
       "      <td>8</td>\n",
       "      <td>0</td>\n",
       "      <td>49</td>\n",
       "      <td>0</td>\n",
       "      <td>C</td>\n",
       "      <td>1</td>\n",
       "      <td>2</td>\n",
       "      <td>C</td>\n",
       "    </tr>\n",
       "    <tr>\n",
       "      <th>1</th>\n",
       "      <td>Operations</td>\n",
       "      <td>region_22</td>\n",
       "      <td>Bachelor's</td>\n",
       "      <td>m</td>\n",
       "      <td>other</td>\n",
       "      <td>1</td>\n",
       "      <td>30</td>\n",
       "      <td>5.0</td>\n",
       "      <td>4</td>\n",
       "      <td>0</td>\n",
       "      <td>60</td>\n",
       "      <td>0</td>\n",
       "      <td>B</td>\n",
       "      <td>1</td>\n",
       "      <td>1</td>\n",
       "      <td>C</td>\n",
       "    </tr>\n",
       "    <tr>\n",
       "      <th>2</th>\n",
       "      <td>Sales &amp; Marketing</td>\n",
       "      <td>region_19</td>\n",
       "      <td>Bachelor's</td>\n",
       "      <td>m</td>\n",
       "      <td>sourcing</td>\n",
       "      <td>1</td>\n",
       "      <td>34</td>\n",
       "      <td>3.0</td>\n",
       "      <td>7</td>\n",
       "      <td>0</td>\n",
       "      <td>50</td>\n",
       "      <td>0</td>\n",
       "      <td>C</td>\n",
       "      <td>1</td>\n",
       "      <td>2</td>\n",
       "      <td>C</td>\n",
       "    </tr>\n",
       "    <tr>\n",
       "      <th>3</th>\n",
       "      <td>Sales &amp; Marketing</td>\n",
       "      <td>region_23</td>\n",
       "      <td>Bachelor's</td>\n",
       "      <td>m</td>\n",
       "      <td>other</td>\n",
       "      <td>2</td>\n",
       "      <td>39</td>\n",
       "      <td>1.0</td>\n",
       "      <td>10</td>\n",
       "      <td>0</td>\n",
       "      <td>50</td>\n",
       "      <td>0</td>\n",
       "      <td>D</td>\n",
       "      <td>Others</td>\n",
       "      <td>2</td>\n",
       "      <td>C</td>\n",
       "    </tr>\n",
       "    <tr>\n",
       "      <th>4</th>\n",
       "      <td>Technology</td>\n",
       "      <td>region_26</td>\n",
       "      <td>Bachelor's</td>\n",
       "      <td>m</td>\n",
       "      <td>other</td>\n",
       "      <td>1</td>\n",
       "      <td>45</td>\n",
       "      <td>3.0</td>\n",
       "      <td>2</td>\n",
       "      <td>0</td>\n",
       "      <td>73</td>\n",
       "      <td>0</td>\n",
       "      <td>E</td>\n",
       "      <td>1</td>\n",
       "      <td>1</td>\n",
       "      <td>B</td>\n",
       "    </tr>\n",
       "  </tbody>\n",
       "</table>\n",
       "</div>"
      ],
      "text/plain": [
       "          department     region         education gender recruitment_channel  \\\n",
       "0  Sales & Marketing   region_7  Master's & above      f            sourcing   \n",
       "1         Operations  region_22        Bachelor's      m               other   \n",
       "2  Sales & Marketing  region_19        Bachelor's      m            sourcing   \n",
       "3  Sales & Marketing  region_23        Bachelor's      m               other   \n",
       "4         Technology  region_26        Bachelor's      m               other   \n",
       "\n",
       "   no_of_trainings  age  previous_year_rating  length_of_service awards_won?  \\\n",
       "0                1   35                   5.0                  8           0   \n",
       "1                1   30                   5.0                  4           0   \n",
       "2                1   34                   3.0                  7           0   \n",
       "3                2   39                   1.0                 10           0   \n",
       "4                1   45                   3.0                  2           0   \n",
       "\n",
       "   avg_training_score  is_promoted age_recat no_of_trainings_recat  \\\n",
       "0                  49            0         C                     1   \n",
       "1                  60            0         B                     1   \n",
       "2                  50            0         C                     1   \n",
       "3                  50            0         D                Others   \n",
       "4                  73            0         E                     1   \n",
       "\n",
       "  length_of_service_recat avg_training_score_recat  \n",
       "0                       2                        C  \n",
       "1                       1                        C  \n",
       "2                       2                        C  \n",
       "3                       2                        C  \n",
       "4                       1                        B  "
      ]
     },
     "execution_count": 123,
     "metadata": {},
     "output_type": "execute_result"
    }
   ],
   "source": [
    "df1.head()"
   ]
  },
  {
   "cell_type": "code",
   "execution_count": 124,
   "id": "cc075f74-57d5-408d-a500-5126af215b50",
   "metadata": {},
   "outputs": [
    {
     "data": {
      "text/plain": [
       "department                     0\n",
       "region                         0\n",
       "education                   2024\n",
       "gender                         0\n",
       "recruitment_channel            0\n",
       "no_of_trainings                0\n",
       "age                            0\n",
       "previous_year_rating           0\n",
       "length_of_service              0\n",
       "awards_won?                    0\n",
       "avg_training_score             0\n",
       "is_promoted                    0\n",
       "age_recat                      0\n",
       "no_of_trainings_recat          0\n",
       "length_of_service_recat        0\n",
       "avg_training_score_recat       0\n",
       "dtype: int64"
      ]
     },
     "execution_count": 124,
     "metadata": {},
     "output_type": "execute_result"
    }
   ],
   "source": [
    "df1.isna().sum()"
   ]
  },
  {
   "cell_type": "code",
   "execution_count": 125,
   "id": "855b7540-fb4d-400c-8857-53a1dacb6c1d",
   "metadata": {},
   "outputs": [],
   "source": [
    "def education_recat(x):\n",
    "    if x == \"Bachelor's\":\n",
    "        return 1\n",
    "    elif x == \"Master's & above\" :\n",
    "        return 2\n",
    "    else :\n",
    "        return 0"
   ]
  },
  {
   "cell_type": "code",
   "execution_count": 126,
   "id": "6a16f0d8-f60e-410c-b3a5-c9462891e836",
   "metadata": {},
   "outputs": [],
   "source": [
    "df1['education_recat'] = df1['education'].apply(education_recat)"
   ]
  },
  {
   "cell_type": "code",
   "execution_count": 127,
   "id": "921dd0a3-c39d-48f5-b6ca-fafdee810afd",
   "metadata": {},
   "outputs": [
    {
     "data": {
      "text/plain": [
       "0        2\n",
       "1        1\n",
       "2        1\n",
       "3        1\n",
       "4        1\n",
       "        ..\n",
       "54803    1\n",
       "54804    2\n",
       "54805    1\n",
       "54806    0\n",
       "54807    1\n",
       "Name: education_recat, Length: 50684, dtype: int64"
      ]
     },
     "execution_count": 127,
     "metadata": {},
     "output_type": "execute_result"
    }
   ],
   "source": [
    "df1['education_recat'].astype('int64')"
   ]
  },
  {
   "cell_type": "code",
   "execution_count": 128,
   "id": "31be0ec2-05d8-424f-b8b2-2da6253a7c37",
   "metadata": {},
   "outputs": [
    {
     "data": {
      "text/html": [
       "<div>\n",
       "<style scoped>\n",
       "    .dataframe tbody tr th:only-of-type {\n",
       "        vertical-align: middle;\n",
       "    }\n",
       "\n",
       "    .dataframe tbody tr th {\n",
       "        vertical-align: top;\n",
       "    }\n",
       "\n",
       "    .dataframe thead th {\n",
       "        text-align: right;\n",
       "    }\n",
       "</style>\n",
       "<table border=\"1\" class=\"dataframe\">\n",
       "  <thead>\n",
       "    <tr style=\"text-align: right;\">\n",
       "      <th></th>\n",
       "      <th>department</th>\n",
       "      <th>region</th>\n",
       "      <th>education</th>\n",
       "      <th>gender</th>\n",
       "      <th>recruitment_channel</th>\n",
       "      <th>no_of_trainings</th>\n",
       "      <th>age</th>\n",
       "      <th>previous_year_rating</th>\n",
       "      <th>length_of_service</th>\n",
       "      <th>awards_won?</th>\n",
       "      <th>avg_training_score</th>\n",
       "      <th>is_promoted</th>\n",
       "      <th>age_recat</th>\n",
       "      <th>no_of_trainings_recat</th>\n",
       "      <th>length_of_service_recat</th>\n",
       "      <th>avg_training_score_recat</th>\n",
       "      <th>education_recat</th>\n",
       "    </tr>\n",
       "  </thead>\n",
       "  <tbody>\n",
       "    <tr>\n",
       "      <th>0</th>\n",
       "      <td>Sales &amp; Marketing</td>\n",
       "      <td>region_7</td>\n",
       "      <td>Master's &amp; above</td>\n",
       "      <td>f</td>\n",
       "      <td>sourcing</td>\n",
       "      <td>1</td>\n",
       "      <td>35</td>\n",
       "      <td>5.0</td>\n",
       "      <td>8</td>\n",
       "      <td>0</td>\n",
       "      <td>49</td>\n",
       "      <td>0</td>\n",
       "      <td>C</td>\n",
       "      <td>1</td>\n",
       "      <td>2</td>\n",
       "      <td>C</td>\n",
       "      <td>2</td>\n",
       "    </tr>\n",
       "    <tr>\n",
       "      <th>1</th>\n",
       "      <td>Operations</td>\n",
       "      <td>region_22</td>\n",
       "      <td>Bachelor's</td>\n",
       "      <td>m</td>\n",
       "      <td>other</td>\n",
       "      <td>1</td>\n",
       "      <td>30</td>\n",
       "      <td>5.0</td>\n",
       "      <td>4</td>\n",
       "      <td>0</td>\n",
       "      <td>60</td>\n",
       "      <td>0</td>\n",
       "      <td>B</td>\n",
       "      <td>1</td>\n",
       "      <td>1</td>\n",
       "      <td>C</td>\n",
       "      <td>1</td>\n",
       "    </tr>\n",
       "    <tr>\n",
       "      <th>2</th>\n",
       "      <td>Sales &amp; Marketing</td>\n",
       "      <td>region_19</td>\n",
       "      <td>Bachelor's</td>\n",
       "      <td>m</td>\n",
       "      <td>sourcing</td>\n",
       "      <td>1</td>\n",
       "      <td>34</td>\n",
       "      <td>3.0</td>\n",
       "      <td>7</td>\n",
       "      <td>0</td>\n",
       "      <td>50</td>\n",
       "      <td>0</td>\n",
       "      <td>C</td>\n",
       "      <td>1</td>\n",
       "      <td>2</td>\n",
       "      <td>C</td>\n",
       "      <td>1</td>\n",
       "    </tr>\n",
       "    <tr>\n",
       "      <th>3</th>\n",
       "      <td>Sales &amp; Marketing</td>\n",
       "      <td>region_23</td>\n",
       "      <td>Bachelor's</td>\n",
       "      <td>m</td>\n",
       "      <td>other</td>\n",
       "      <td>2</td>\n",
       "      <td>39</td>\n",
       "      <td>1.0</td>\n",
       "      <td>10</td>\n",
       "      <td>0</td>\n",
       "      <td>50</td>\n",
       "      <td>0</td>\n",
       "      <td>D</td>\n",
       "      <td>Others</td>\n",
       "      <td>2</td>\n",
       "      <td>C</td>\n",
       "      <td>1</td>\n",
       "    </tr>\n",
       "    <tr>\n",
       "      <th>4</th>\n",
       "      <td>Technology</td>\n",
       "      <td>region_26</td>\n",
       "      <td>Bachelor's</td>\n",
       "      <td>m</td>\n",
       "      <td>other</td>\n",
       "      <td>1</td>\n",
       "      <td>45</td>\n",
       "      <td>3.0</td>\n",
       "      <td>2</td>\n",
       "      <td>0</td>\n",
       "      <td>73</td>\n",
       "      <td>0</td>\n",
       "      <td>E</td>\n",
       "      <td>1</td>\n",
       "      <td>1</td>\n",
       "      <td>B</td>\n",
       "      <td>1</td>\n",
       "    </tr>\n",
       "  </tbody>\n",
       "</table>\n",
       "</div>"
      ],
      "text/plain": [
       "          department     region         education gender recruitment_channel  \\\n",
       "0  Sales & Marketing   region_7  Master's & above      f            sourcing   \n",
       "1         Operations  region_22        Bachelor's      m               other   \n",
       "2  Sales & Marketing  region_19        Bachelor's      m            sourcing   \n",
       "3  Sales & Marketing  region_23        Bachelor's      m               other   \n",
       "4         Technology  region_26        Bachelor's      m               other   \n",
       "\n",
       "   no_of_trainings  age  previous_year_rating  length_of_service awards_won?  \\\n",
       "0                1   35                   5.0                  8           0   \n",
       "1                1   30                   5.0                  4           0   \n",
       "2                1   34                   3.0                  7           0   \n",
       "3                2   39                   1.0                 10           0   \n",
       "4                1   45                   3.0                  2           0   \n",
       "\n",
       "   avg_training_score  is_promoted age_recat no_of_trainings_recat  \\\n",
       "0                  49            0         C                     1   \n",
       "1                  60            0         B                     1   \n",
       "2                  50            0         C                     1   \n",
       "3                  50            0         D                Others   \n",
       "4                  73            0         E                     1   \n",
       "\n",
       "  length_of_service_recat avg_training_score_recat  education_recat  \n",
       "0                       2                        C                2  \n",
       "1                       1                        C                1  \n",
       "2                       2                        C                1  \n",
       "3                       2                        C                1  \n",
       "4                       1                        B                1  "
      ]
     },
     "execution_count": 128,
     "metadata": {},
     "output_type": "execute_result"
    }
   ],
   "source": [
    "df1.head()"
   ]
  },
  {
   "cell_type": "markdown",
   "id": "ee298047-5520-4304-8ca9-6c786a146fee",
   "metadata": {},
   "source": [
    "df1.info()"
   ]
  },
  {
   "cell_type": "code",
   "execution_count": 129,
   "id": "71211cb0-6b50-4efd-9484-a86fc82520e1",
   "metadata": {},
   "outputs": [],
   "source": [
    "from sklearn.model_selection import train_test_split,GridSearchCV,StratifiedKFold,RandomizedSearchCV\n",
    "from sklearn.pipeline import Pipeline\n",
    "from sklearn.impute import SimpleImputer\n",
    "from sklearn.preprocessing import OneHotEncoder\n",
    "from sklearn.compose import ColumnTransformer\n",
    "from sklearn.neighbors import KNeighborsClassifier\n",
    "from sklearn.svm import SVC\n",
    "from sklearn.ensemble import RandomForestClassifier\n",
    "from sklearn.linear_model import LogisticRegression\n",
    "from sklearn.metrics import accuracy_score,recall_score,precision_score,f1_score,confusion_matrix,classification_report"
   ]
  },
  {
   "cell_type": "markdown",
   "id": "831529ce-b5dc-4eca-ad62-5144d1e6feef",
   "metadata": {},
   "source": [
    "- Data Splitting"
   ]
  },
  {
   "cell_type": "code",
   "execution_count": 130,
   "id": "1c703c25-e2be-4731-b6be-752444a26ec0",
   "metadata": {},
   "outputs": [],
   "source": [
    "X = df1[['department','region','education_recat','gender','recruitment_channel','no_of_trainings','age','previous_year_rating','length_of_service','awards_won?','avg_training_score']]"
   ]
  },
  {
   "cell_type": "code",
   "execution_count": 131,
   "id": "cd2134e3-17a8-4763-9f97-43315d5d94e9",
   "metadata": {},
   "outputs": [],
   "source": [
    "y = df1['is_promoted']"
   ]
  },
  {
   "cell_type": "code",
   "execution_count": 132,
   "id": "c0491ec2-10e2-4b8c-803f-fd0b1840c6c3",
   "metadata": {},
   "outputs": [
    {
     "data": {
      "text/plain": [
       "(50684, 11)"
      ]
     },
     "execution_count": 132,
     "metadata": {},
     "output_type": "execute_result"
    }
   ],
   "source": [
    "X.shape"
   ]
  },
  {
   "cell_type": "code",
   "execution_count": 133,
   "id": "5c6cbd43-d474-487b-9cfe-945707fab98b",
   "metadata": {},
   "outputs": [
    {
     "data": {
      "text/plain": [
       "(50684,)"
      ]
     },
     "execution_count": 133,
     "metadata": {},
     "output_type": "execute_result"
    }
   ],
   "source": [
    "y.shape"
   ]
  },
  {
   "cell_type": "code",
   "execution_count": 134,
   "id": "b439fd9a-3c4e-46d4-b9f7-756f67d4fe76",
   "metadata": {},
   "outputs": [],
   "source": [
    "X_train,X_test,y_train,y_test = train_test_split(X,y,train_size=.80,stratify=y,random_state=42)"
   ]
  },
  {
   "cell_type": "markdown",
   "id": "d34f45d5-b25f-47e9-8dc6-e2f05d56cd12",
   "metadata": {},
   "source": [
    "- Pipeline Base Model (KNN, Logistic Regression, Random Forest)"
   ]
  },
  {
   "cell_type": "code",
   "execution_count": 135,
   "id": "87f5926c-5276-4719-b51a-929527ca243f",
   "metadata": {},
   "outputs": [],
   "source": [
    "num_columns = ['education_recat','no_of_trainings','age','previous_year_rating','length_of_service','avg_training_score']\n",
    "\n",
    "cat_columns = ['department','region','gender','recruitment_channel','awards_won?']"
   ]
  },
  {
   "cell_type": "code",
   "execution_count": 136,
   "id": "ae4f98e1-5572-4828-8913-ab37f7e598f3",
   "metadata": {
    "tags": []
   },
   "outputs": [],
   "source": [
    "num_pipeline = Pipeline([\n",
    "    ('imputer',SimpleImputer(strategy='most_frequent')),\n",
    "])\n",
    "\n",
    "cat_pipeline = Pipeline([\n",
    "    ('imputer',SimpleImputer(strategy='most_frequent')),\n",
    "    ('encoder',OneHotEncoder())\n",
    "])"
   ]
  },
  {
   "cell_type": "code",
   "execution_count": 137,
   "id": "5d4c8039-e135-44cb-932c-e2ef585e6374",
   "metadata": {
    "tags": []
   },
   "outputs": [],
   "source": [
    "preprocessor = ColumnTransformer([\n",
    "    ('numeric',num_pipeline,num_columns),\n",
    "    ('categoric',cat_pipeline,cat_columns)\n",
    "])"
   ]
  },
  {
   "cell_type": "code",
   "execution_count": 138,
   "id": "0943ed66-bcb3-40d5-a193-5148012ce6d4",
   "metadata": {},
   "outputs": [],
   "source": [
    "Pipe_KNN = Pipeline([\n",
    "    ('prep',preprocessor),\n",
    "    ('algo',KNeighborsClassifier())\n",
    "])\n",
    "\n",
    "Pipe_RF = Pipeline([\n",
    "    ('prep',preprocessor),\n",
    "    ('algo',RandomForestClassifier(class_weight={0:0.1, 1:0.9}))\n",
    "])\n",
    "\n",
    "Pipe_LR = Pipeline([\n",
    "    ('prep',preprocessor),\n",
    "    ('algo',LogisticRegression(class_weight={0:0.1, 1:0.9},solver='liblinear'))\n",
    "])"
   ]
  },
  {
   "cell_type": "code",
   "execution_count": 139,
   "id": "7306b54e-fc73-43cf-9afd-cb4758e6e273",
   "metadata": {},
   "outputs": [
    {
     "data": {
      "text/plain": [
       "Pipeline(steps=[('prep',\n",
       "                 ColumnTransformer(transformers=[('numeric',\n",
       "                                                  Pipeline(steps=[('imputer',\n",
       "                                                                   SimpleImputer(strategy='most_frequent'))]),\n",
       "                                                  ['education_recat',\n",
       "                                                   'no_of_trainings', 'age',\n",
       "                                                   'previous_year_rating',\n",
       "                                                   'length_of_service',\n",
       "                                                   'avg_training_score']),\n",
       "                                                 ('categoric',\n",
       "                                                  Pipeline(steps=[('imputer',\n",
       "                                                                   SimpleImputer(strategy='most_frequent')),\n",
       "                                                                  ('encoder',\n",
       "                                                                   OneHotEncoder())]),\n",
       "                                                  ['department', 'region',\n",
       "                                                   'gender',\n",
       "                                                   'recruitment_channel',\n",
       "                                                   'awards_won?'])])),\n",
       "                ('algo', KNeighborsClassifier())])"
      ]
     },
     "execution_count": 139,
     "metadata": {},
     "output_type": "execute_result"
    }
   ],
   "source": [
    "Pipe_KNN.fit(X_train,y_train)"
   ]
  },
  {
   "cell_type": "code",
   "execution_count": 140,
   "id": "de596080-6a7f-44f0-b4e4-aaea0fa4e826",
   "metadata": {},
   "outputs": [
    {
     "data": {
      "text/plain": [
       "Pipeline(steps=[('prep',\n",
       "                 ColumnTransformer(transformers=[('numeric',\n",
       "                                                  Pipeline(steps=[('imputer',\n",
       "                                                                   SimpleImputer(strategy='most_frequent'))]),\n",
       "                                                  ['education_recat',\n",
       "                                                   'no_of_trainings', 'age',\n",
       "                                                   'previous_year_rating',\n",
       "                                                   'length_of_service',\n",
       "                                                   'avg_training_score']),\n",
       "                                                 ('categoric',\n",
       "                                                  Pipeline(steps=[('imputer',\n",
       "                                                                   SimpleImputer(strategy='most_frequent')),\n",
       "                                                                  ('encoder',\n",
       "                                                                   OneHotEncoder())]),\n",
       "                                                  ['department', 'region',\n",
       "                                                   'gender',\n",
       "                                                   'recruitment_channel',\n",
       "                                                   'awards_won?'])])),\n",
       "                ('algo',\n",
       "                 RandomForestClassifier(class_weight={0: 0.1, 1: 0.9}))])"
      ]
     },
     "execution_count": 140,
     "metadata": {},
     "output_type": "execute_result"
    }
   ],
   "source": [
    "Pipe_RF.fit(X_train,y_train)"
   ]
  },
  {
   "cell_type": "code",
   "execution_count": 141,
   "id": "5dba536b-05d2-4963-bf44-cbdbcf09c925",
   "metadata": {},
   "outputs": [
    {
     "data": {
      "text/plain": [
       "Pipeline(steps=[('prep',\n",
       "                 ColumnTransformer(transformers=[('numeric',\n",
       "                                                  Pipeline(steps=[('imputer',\n",
       "                                                                   SimpleImputer(strategy='most_frequent'))]),\n",
       "                                                  ['education_recat',\n",
       "                                                   'no_of_trainings', 'age',\n",
       "                                                   'previous_year_rating',\n",
       "                                                   'length_of_service',\n",
       "                                                   'avg_training_score']),\n",
       "                                                 ('categoric',\n",
       "                                                  Pipeline(steps=[('imputer',\n",
       "                                                                   SimpleImputer(strategy='most_frequent')),\n",
       "                                                                  ('encoder',\n",
       "                                                                   OneHotEncoder())]),\n",
       "                                                  ['department', 'region',\n",
       "                                                   'gender',\n",
       "                                                   'recruitment_channel',\n",
       "                                                   'awards_won?'])])),\n",
       "                ('algo',\n",
       "                 LogisticRegression(class_weight={0: 0.1, 1: 0.9},\n",
       "                                    solver='liblinear'))])"
      ]
     },
     "execution_count": 141,
     "metadata": {},
     "output_type": "execute_result"
    }
   ],
   "source": [
    "Pipe_LR.fit(X_train,y_train)"
   ]
  },
  {
   "cell_type": "markdown",
   "id": "fd198229-762c-45b7-b4ba-ee6ff3c01f6b",
   "metadata": {},
   "source": [
    "- Evaluation Matrix on Test Data"
   ]
  },
  {
   "cell_type": "code",
   "execution_count": 142,
   "id": "b2912d9d-aa9d-41fb-aff2-0b283c161727",
   "metadata": {},
   "outputs": [],
   "source": [
    "def Eva_Matrix_Class(Model,X,y_true):\n",
    "    y_pred = Model.predict(X)\n",
    "    acc = accuracy_score(y_true,y_pred)\n",
    "    rec = recall_score(y_true,y_pred)\n",
    "    prec = precision_score(y_true,y_pred)\n",
    "    f1 = f1_score(y_true,y_pred)\n",
    "    cm = confusion_matrix(y_true,y_pred,labels=[1,0])\n",
    "    df_cm = pd.DataFrame(data=cm,columns=['Pred 1','Pred 0'],index=['Akt 1','Akt 0'])\n",
    "    cr = classification_report(y_true,y_pred)\n",
    "    return acc, rec, prec, f1, df_cm, cr"
   ]
  },
  {
   "cell_type": "code",
   "execution_count": 143,
   "id": "2080fb9a-960e-489d-b009-be220546cfd7",
   "metadata": {},
   "outputs": [],
   "source": [
    "acc_KNN, rec_KNN, prec_KNN, f1_KNN, cm_KNN , cr_KNN = Eva_Matrix_Class(Pipe_KNN,X_test,y_test)\n",
    "acc_RF, rec_RF, prec_RF, f1_RF, cm_RF , cr_RF = Eva_Matrix_Class(Pipe_RF,X_test,y_test)\n",
    "acc_LR, rec_LR, prec_LR, f1_LR, cm_LR , cr_LR = Eva_Matrix_Class(Pipe_LR,X_test,y_test)"
   ]
  },
  {
   "cell_type": "code",
   "execution_count": 144,
   "id": "a5a670ee-b81b-4249-b25c-1f0413133145",
   "metadata": {},
   "outputs": [
    {
     "data": {
      "image/png": "[encoded data removed]",
      "text/plain": [
       "<Figure size 432x288 with 1 Axes>"
      ]
     },
     "metadata": {
      "needs_background": "light"
     },
     "output_type": "display_data"
    }
   ],
   "source": [
    "sns.heatmap(cm_KNN,cbar=False,annot=True);"
   ]
  },
  {
   "cell_type": "code",
   "execution_count": 145,
   "id": "825997d5-4307-429c-acfb-1bb0e8ed8041",
   "metadata": {},
   "outputs": [
    {
     "name": "stdout",
     "output_type": "stream",
     "text": [
      "              precision    recall  f1-score   support\n",
      "\n",
      "           0       0.93      1.00      0.96      9271\n",
      "           1       0.74      0.14      0.23       866\n",
      "\n",
      "    accuracy                           0.92     10137\n",
      "   macro avg       0.83      0.57      0.60     10137\n",
      "weighted avg       0.91      0.92      0.90     10137\n",
      "\n"
     ]
    }
   ],
   "source": [
    "print(cr_KNN)"
   ]
  },
  {
   "cell_type": "code",
   "execution_count": 146,
   "id": "39827f86-3425-41bc-8fd3-5a0f57a38d8c",
   "metadata": {},
   "outputs": [
    {
     "data": {
      "image/png": "[encoded data removed]",
      "text/plain": [
       "<Figure size 432x288 with 1 Axes>"
      ]
     },
     "metadata": {
      "needs_background": "light"
     },
     "output_type": "display_data"
    }
   ],
   "source": [
    "sns.heatmap(cm_RF,cbar=False,annot=True);"
   ]
  },
  {
   "cell_type": "code",
   "execution_count": 147,
   "id": "bd7e569d-cd62-40d0-ba4b-04b78a6755b9",
   "metadata": {},
   "outputs": [
    {
     "name": "stdout",
     "output_type": "stream",
     "text": [
      "              precision    recall  f1-score   support\n",
      "\n",
      "           0       0.94      1.00      0.97      9271\n",
      "           1       0.85      0.29      0.43       866\n",
      "\n",
      "    accuracy                           0.93     10137\n",
      "   macro avg       0.89      0.64      0.70     10137\n",
      "weighted avg       0.93      0.93      0.92     10137\n",
      "\n"
     ]
    }
   ],
   "source": [
    "print(cr_RF)"
   ]
  },
  {
   "cell_type": "code",
   "execution_count": 148,
   "id": "ed3e4036-d157-4393-88f1-bfa700c1721f",
   "metadata": {},
   "outputs": [
    {
     "data": {
      "image/png": "[encoded data removed]",
      "text/plain": [
       "<Figure size 432x288 with 1 Axes>"
      ]
     },
     "metadata": {
      "needs_background": "light"
     },
     "output_type": "display_data"
    }
   ],
   "source": [
    "sns.heatmap(cm_LR,cbar=False,annot=True);"
   ]
  },
  {
   "cell_type": "code",
   "execution_count": 149,
   "id": "7cd98448-cdce-464d-973e-39f26e6d418a",
   "metadata": {},
   "outputs": [
    {
     "name": "stdout",
     "output_type": "stream",
     "text": [
      "              precision    recall  f1-score   support\n",
      "\n",
      "           0       0.96      0.81      0.88      9271\n",
      "           1       0.24      0.63      0.35       866\n",
      "\n",
      "    accuracy                           0.80     10137\n",
      "   macro avg       0.60      0.72      0.61     10137\n",
      "weighted avg       0.90      0.80      0.83     10137\n",
      "\n"
     ]
    }
   ],
   "source": [
    "print(cr_LR)"
   ]
  },
  {
   "cell_type": "markdown",
   "id": "7986e54e-a8e3-4bb9-a581-b8651be8575b",
   "metadata": {},
   "source": [
    "- Hyperparameter Tuning"
   ]
  },
  {
   "cell_type": "code",
   "execution_count": 150,
   "id": "b7b8dafb-512e-4f55-8031-8dab154c53b1",
   "metadata": {},
   "outputs": [
    {
     "data": {
      "text/plain": [
       "{'memory': None,\n",
       " 'steps': [('prep', ColumnTransformer(transformers=[('numeric',\n",
       "                                    Pipeline(steps=[('imputer',\n",
       "                                                     SimpleImputer(strategy='most_frequent'))]),\n",
       "                                    ['education_recat', 'no_of_trainings', 'age',\n",
       "                                     'previous_year_rating', 'length_of_service',\n",
       "                                     'avg_training_score']),\n",
       "                                   ('categoric',\n",
       "                                    Pipeline(steps=[('imputer',\n",
       "                                                     SimpleImputer(strategy='most_frequent')),\n",
       "                                                    ('encoder', OneHotEncoder())]),\n",
       "                                    ['department', 'region', 'gender',\n",
       "                                     'recruitment_channel', 'awards_won?'])])),\n",
       "  ('algo', KNeighborsClassifier())],\n",
       " 'verbose': False,\n",
       " 'prep': ColumnTransformer(transformers=[('numeric',\n",
       "                                  Pipeline(steps=[('imputer',\n",
       "                                                   SimpleImputer(strategy='most_frequent'))]),\n",
       "                                  ['education_recat', 'no_of_trainings', 'age',\n",
       "                                   'previous_year_rating', 'length_of_service',\n",
       "                                   'avg_training_score']),\n",
       "                                 ('categoric',\n",
       "                                  Pipeline(steps=[('imputer',\n",
       "                                                   SimpleImputer(strategy='most_frequent')),\n",
       "                                                  ('encoder', OneHotEncoder())]),\n",
       "                                  ['department', 'region', 'gender',\n",
       "                                   'recruitment_channel', 'awards_won?'])]),\n",
       " 'algo': KNeighborsClassifier(),\n",
       " 'prep__n_jobs': None,\n",
       " 'prep__remainder': 'drop',\n",
       " 'prep__sparse_threshold': 0.3,\n",
       " 'prep__transformer_weights': None,\n",
       " 'prep__transformers': [('numeric',\n",
       "   Pipeline(steps=[('imputer', SimpleImputer(strategy='most_frequent'))]),\n",
       "   ['education_recat',\n",
       "    'no_of_trainings',\n",
       "    'age',\n",
       "    'previous_year_rating',\n",
       "    'length_of_service',\n",
       "    'avg_training_score']),\n",
       "  ('categoric',\n",
       "   Pipeline(steps=[('imputer', SimpleImputer(strategy='most_frequent')),\n",
       "                   ('encoder', OneHotEncoder())]),\n",
       "   ['department', 'region', 'gender', 'recruitment_channel', 'awards_won?'])],\n",
       " 'prep__verbose': False,\n",
       " 'prep__numeric': Pipeline(steps=[('imputer', SimpleImputer(strategy='most_frequent'))]),\n",
       " 'prep__categoric': Pipeline(steps=[('imputer', SimpleImputer(strategy='most_frequent')),\n",
       "                 ('encoder', OneHotEncoder())]),\n",
       " 'prep__numeric__memory': None,\n",
       " 'prep__numeric__steps': [('imputer',\n",
       "   SimpleImputer(strategy='most_frequent'))],\n",
       " 'prep__numeric__verbose': False,\n",
       " 'prep__numeric__imputer': SimpleImputer(strategy='most_frequent'),\n",
       " 'prep__numeric__imputer__add_indicator': False,\n",
       " 'prep__numeric__imputer__copy': True,\n",
       " 'prep__numeric__imputer__fill_value': None,\n",
       " 'prep__numeric__imputer__missing_values': nan,\n",
       " 'prep__numeric__imputer__strategy': 'most_frequent',\n",
       " 'prep__numeric__imputer__verbose': 0,\n",
       " 'prep__categoric__memory': None,\n",
       " 'prep__categoric__steps': [('imputer',\n",
       "   SimpleImputer(strategy='most_frequent')),\n",
       "  ('encoder', OneHotEncoder())],\n",
       " 'prep__categoric__verbose': False,\n",
       " 'prep__categoric__imputer': SimpleImputer(strategy='most_frequent'),\n",
       " 'prep__categoric__encoder': OneHotEncoder(),\n",
       " 'prep__categoric__imputer__add_indicator': False,\n",
       " 'prep__categoric__imputer__copy': True,\n",
       " 'prep__categoric__imputer__fill_value': None,\n",
       " 'prep__categoric__imputer__missing_values': nan,\n",
       " 'prep__categoric__imputer__strategy': 'most_frequent',\n",
       " 'prep__categoric__imputer__verbose': 0,\n",
       " 'prep__categoric__encoder__categories': 'auto',\n",
       " 'prep__categoric__encoder__drop': None,\n",
       " 'prep__categoric__encoder__dtype': numpy.float64,\n",
       " 'prep__categoric__encoder__handle_unknown': 'error',\n",
       " 'prep__categoric__encoder__sparse': True,\n",
       " 'algo__algorithm': 'auto',\n",
       " 'algo__leaf_size': 30,\n",
       " 'algo__metric': 'minkowski',\n",
       " 'algo__metric_params': None,\n",
       " 'algo__n_jobs': None,\n",
       " 'algo__n_neighbors': 5,\n",
       " 'algo__p': 2,\n",
       " 'algo__weights': 'uniform'}"
      ]
     },
     "execution_count": 150,
     "metadata": {},
     "output_type": "execute_result"
    }
   ],
   "source": [
    "Pipe_KNN.get_params()"
   ]
  },
  {
   "cell_type": "code",
   "execution_count": 151,
   "id": "3077d98e-0a55-44f9-96df-5ca77d224b76",
   "metadata": {},
   "outputs": [
    {
     "data": {
      "text/plain": [
       "{'memory': None,\n",
       " 'steps': [('prep', ColumnTransformer(transformers=[('numeric',\n",
       "                                    Pipeline(steps=[('imputer',\n",
       "                                                     SimpleImputer(strategy='most_frequent'))]),\n",
       "                                    ['education_recat', 'no_of_trainings', 'age',\n",
       "                                     'previous_year_rating', 'length_of_service',\n",
       "                                     'avg_training_score']),\n",
       "                                   ('categoric',\n",
       "                                    Pipeline(steps=[('imputer',\n",
       "                                                     SimpleImputer(strategy='most_frequent')),\n",
       "                                                    ('encoder', OneHotEncoder())]),\n",
       "                                    ['department', 'region', 'gender',\n",
       "                                     'recruitment_channel', 'awards_won?'])])),\n",
       "  ('algo', RandomForestClassifier(class_weight={0: 0.1, 1: 0.9}))],\n",
       " 'verbose': False,\n",
       " 'prep': ColumnTransformer(transformers=[('numeric',\n",
       "                                  Pipeline(steps=[('imputer',\n",
       "                                                   SimpleImputer(strategy='most_frequent'))]),\n",
       "                                  ['education_recat', 'no_of_trainings', 'age',\n",
       "                                   'previous_year_rating', 'length_of_service',\n",
       "                                   'avg_training_score']),\n",
       "                                 ('categoric',\n",
       "                                  Pipeline(steps=[('imputer',\n",
       "                                                   SimpleImputer(strategy='most_frequent')),\n",
       "                                                  ('encoder', OneHotEncoder())]),\n",
       "                                  ['department', 'region', 'gender',\n",
       "                                   'recruitment_channel', 'awards_won?'])]),\n",
       " 'algo': RandomForestClassifier(class_weight={0: 0.1, 1: 0.9}),\n",
       " 'prep__n_jobs': None,\n",
       " 'prep__remainder': 'drop',\n",
       " 'prep__sparse_threshold': 0.3,\n",
       " 'prep__transformer_weights': None,\n",
       " 'prep__transformers': [('numeric',\n",
       "   Pipeline(steps=[('imputer', SimpleImputer(strategy='most_frequent'))]),\n",
       "   ['education_recat',\n",
       "    'no_of_trainings',\n",
       "    'age',\n",
       "    'previous_year_rating',\n",
       "    'length_of_service',\n",
       "    'avg_training_score']),\n",
       "  ('categoric',\n",
       "   Pipeline(steps=[('imputer', SimpleImputer(strategy='most_frequent')),\n",
       "                   ('encoder', OneHotEncoder())]),\n",
       "   ['department', 'region', 'gender', 'recruitment_channel', 'awards_won?'])],\n",
       " 'prep__verbose': False,\n",
       " 'prep__numeric': Pipeline(steps=[('imputer', SimpleImputer(strategy='most_frequent'))]),\n",
       " 'prep__categoric': Pipeline(steps=[('imputer', SimpleImputer(strategy='most_frequent')),\n",
       "                 ('encoder', OneHotEncoder())]),\n",
       " 'prep__numeric__memory': None,\n",
       " 'prep__numeric__steps': [('imputer',\n",
       "   SimpleImputer(strategy='most_frequent'))],\n",
       " 'prep__numeric__verbose': False,\n",
       " 'prep__numeric__imputer': SimpleImputer(strategy='most_frequent'),\n",
       " 'prep__numeric__imputer__add_indicator': False,\n",
       " 'prep__numeric__imputer__copy': True,\n",
       " 'prep__numeric__imputer__fill_value': None,\n",
       " 'prep__numeric__imputer__missing_values': nan,\n",
       " 'prep__numeric__imputer__strategy': 'most_frequent',\n",
       " 'prep__numeric__imputer__verbose': 0,\n",
       " 'prep__categoric__memory': None,\n",
       " 'prep__categoric__steps': [('imputer',\n",
       "   SimpleImputer(strategy='most_frequent')),\n",
       "  ('encoder', OneHotEncoder())],\n",
       " 'prep__categoric__verbose': False,\n",
       " 'prep__categoric__imputer': SimpleImputer(strategy='most_frequent'),\n",
       " 'prep__categoric__encoder': OneHotEncoder(),\n",
       " 'prep__categoric__imputer__add_indicator': False,\n",
       " 'prep__categoric__imputer__copy': True,\n",
       " 'prep__categoric__imputer__fill_value': None,\n",
       " 'prep__categoric__imputer__missing_values': nan,\n",
       " 'prep__categoric__imputer__strategy': 'most_frequent',\n",
       " 'prep__categoric__imputer__verbose': 0,\n",
       " 'prep__categoric__encoder__categories': 'auto',\n",
       " 'prep__categoric__encoder__drop': None,\n",
       " 'prep__categoric__encoder__dtype': numpy.float64,\n",
       " 'prep__categoric__encoder__handle_unknown': 'error',\n",
       " 'prep__categoric__encoder__sparse': True,\n",
       " 'algo__bootstrap': True,\n",
       " 'algo__ccp_alpha': 0.0,\n",
       " 'algo__class_weight': {0: 0.1, 1: 0.9},\n",
       " 'algo__criterion': 'gini',\n",
       " 'algo__max_depth': None,\n",
       " 'algo__max_features': 'auto',\n",
       " 'algo__max_leaf_nodes': None,\n",
       " 'algo__max_samples': None,\n",
       " 'algo__min_impurity_decrease': 0.0,\n",
       " 'algo__min_impurity_split': None,\n",
       " 'algo__min_samples_leaf': 1,\n",
       " 'algo__min_samples_split': 2,\n",
       " 'algo__min_weight_fraction_leaf': 0.0,\n",
       " 'algo__n_estimators': 100,\n",
       " 'algo__n_jobs': None,\n",
       " 'algo__oob_score': False,\n",
       " 'algo__random_state': None,\n",
       " 'algo__verbose': 0,\n",
       " 'algo__warm_start': False}"
      ]
     },
     "execution_count": 151,
     "metadata": {},
     "output_type": "execute_result"
    }
   ],
   "source": [
    "Pipe_RF.get_params()"
   ]
  },
  {
   "cell_type": "code",
   "execution_count": 152,
   "id": "9f427ac4-5c1d-4db3-afa2-b01944f88e0b",
   "metadata": {},
   "outputs": [
    {
     "data": {
      "text/plain": [
       "{'memory': None,\n",
       " 'steps': [('prep', ColumnTransformer(transformers=[('numeric',\n",
       "                                    Pipeline(steps=[('imputer',\n",
       "                                                     SimpleImputer(strategy='most_frequent'))]),\n",
       "                                    ['education_recat', 'no_of_trainings', 'age',\n",
       "                                     'previous_year_rating', 'length_of_service',\n",
       "                                     'avg_training_score']),\n",
       "                                   ('categoric',\n",
       "                                    Pipeline(steps=[('imputer',\n",
       "                                                     SimpleImputer(strategy='most_frequent')),\n",
       "                                                    ('encoder', OneHotEncoder())]),\n",
       "                                    ['department', 'region', 'gender',\n",
       "                                     'recruitment_channel', 'awards_won?'])])),\n",
       "  ('algo',\n",
       "   LogisticRegression(class_weight={0: 0.1, 1: 0.9}, solver='liblinear'))],\n",
       " 'verbose': False,\n",
       " 'prep': ColumnTransformer(transformers=[('numeric',\n",
       "                                  Pipeline(steps=[('imputer',\n",
       "                                                   SimpleImputer(strategy='most_frequent'))]),\n",
       "                                  ['education_recat', 'no_of_trainings', 'age',\n",
       "                                   'previous_year_rating', 'length_of_service',\n",
       "                                   'avg_training_score']),\n",
       "                                 ('categoric',\n",
       "                                  Pipeline(steps=[('imputer',\n",
       "                                                   SimpleImputer(strategy='most_frequent')),\n",
       "                                                  ('encoder', OneHotEncoder())]),\n",
       "                                  ['department', 'region', 'gender',\n",
       "                                   'recruitment_channel', 'awards_won?'])]),\n",
       " 'algo': LogisticRegression(class_weight={0: 0.1, 1: 0.9}, solver='liblinear'),\n",
       " 'prep__n_jobs': None,\n",
       " 'prep__remainder': 'drop',\n",
       " 'prep__sparse_threshold': 0.3,\n",
       " 'prep__transformer_weights': None,\n",
       " 'prep__transformers': [('numeric',\n",
       "   Pipeline(steps=[('imputer', SimpleImputer(strategy='most_frequent'))]),\n",
       "   ['education_recat',\n",
       "    'no_of_trainings',\n",
       "    'age',\n",
       "    'previous_year_rating',\n",
       "    'length_of_service',\n",
       "    'avg_training_score']),\n",
       "  ('categoric',\n",
       "   Pipeline(steps=[('imputer', SimpleImputer(strategy='most_frequent')),\n",
       "                   ('encoder', OneHotEncoder())]),\n",
       "   ['department', 'region', 'gender', 'recruitment_channel', 'awards_won?'])],\n",
       " 'prep__verbose': False,\n",
       " 'prep__numeric': Pipeline(steps=[('imputer', SimpleImputer(strategy='most_frequent'))]),\n",
       " 'prep__categoric': Pipeline(steps=[('imputer', SimpleImputer(strategy='most_frequent')),\n",
       "                 ('encoder', OneHotEncoder())]),\n",
       " 'prep__numeric__memory': None,\n",
       " 'prep__numeric__steps': [('imputer',\n",
       "   SimpleImputer(strategy='most_frequent'))],\n",
       " 'prep__numeric__verbose': False,\n",
       " 'prep__numeric__imputer': SimpleImputer(strategy='most_frequent'),\n",
       " 'prep__numeric__imputer__add_indicator': False,\n",
       " 'prep__numeric__imputer__copy': True,\n",
       " 'prep__numeric__imputer__fill_value': None,\n",
       " 'prep__numeric__imputer__missing_values': nan,\n",
       " 'prep__numeric__imputer__strategy': 'most_frequent',\n",
       " 'prep__numeric__imputer__verbose': 0,\n",
       " 'prep__categoric__memory': None,\n",
       " 'prep__categoric__steps': [('imputer',\n",
       "   SimpleImputer(strategy='most_frequent')),\n",
       "  ('encoder', OneHotEncoder())],\n",
       " 'prep__categoric__verbose': False,\n",
       " 'prep__categoric__imputer': SimpleImputer(strategy='most_frequent'),\n",
       " 'prep__categoric__encoder': OneHotEncoder(),\n",
       " 'prep__categoric__imputer__add_indicator': False,\n",
       " 'prep__categoric__imputer__copy': True,\n",
       " 'prep__categoric__imputer__fill_value': None,\n",
       " 'prep__categoric__imputer__missing_values': nan,\n",
       " 'prep__categoric__imputer__strategy': 'most_frequent',\n",
       " 'prep__categoric__imputer__verbose': 0,\n",
       " 'prep__categoric__encoder__categories': 'auto',\n",
       " 'prep__categoric__encoder__drop': None,\n",
       " 'prep__categoric__encoder__dtype': numpy.float64,\n",
       " 'prep__categoric__encoder__handle_unknown': 'error',\n",
       " 'prep__categoric__encoder__sparse': True,\n",
       " 'algo__C': 1.0,\n",
       " 'algo__class_weight': {0: 0.1, 1: 0.9},\n",
       " 'algo__dual': False,\n",
       " 'algo__fit_intercept': True,\n",
       " 'algo__intercept_scaling': 1,\n",
       " 'algo__l1_ratio': None,\n",
       " 'algo__max_iter': 100,\n",
       " 'algo__multi_class': 'auto',\n",
       " 'algo__n_jobs': None,\n",
       " 'algo__penalty': 'l2',\n",
       " 'algo__random_state': None,\n",
       " 'algo__solver': 'liblinear',\n",
       " 'algo__tol': 0.0001,\n",
       " 'algo__verbose': 0,\n",
       " 'algo__warm_start': False}"
      ]
     },
     "execution_count": 152,
     "metadata": {},
     "output_type": "execute_result"
    }
   ],
   "source": [
    "Pipe_LR.get_params()"
   ]
  },
  {
   "cell_type": "code",
   "execution_count": 153,
   "id": "c08acbaa-77bc-4c1d-94df-e5e78fc62904",
   "metadata": {},
   "outputs": [],
   "source": [
    "# Iteration 1 : n-neighbors = 1-9 >> result best param = 9\n",
    "# Iteration 2 : n-neighbors = 9-19 >> result best param = 9"
   ]
  },
  {
   "cell_type": "code",
   "execution_count": 154,
   "id": "d1cde387-f58f-4acb-a16b-64eac3fcdcff",
   "metadata": {},
   "outputs": [],
   "source": [
    "param_KNN = {\n",
    "    'algo__n_neighbors' : np.arange(9,20,2),\n",
    "    'algo__weights' : ['uniform','distance']\n",
    "}"
   ]
  },
  {
   "cell_type": "code",
   "execution_count": 155,
   "id": "b4cf701b-d8c8-4639-a3b7-02288b12c8cf",
   "metadata": {},
   "outputs": [],
   "source": [
    "param_RF = {\n",
    "    'algo__max_depth' : np.arange(10,100),\n",
    "    'algo__min_samples_leaf' : np.arange(1,5),\n",
    "    'algo__class_weight' : [{0:i,1:(1-i)} for i in [0.1,0.2,0.3,0.4]],\n",
    "}"
   ]
  },
  {
   "cell_type": "code",
   "execution_count": 156,
   "id": "9f591ed5-b317-482f-bc5e-458567a9bf69",
   "metadata": {},
   "outputs": [],
   "source": [
    "param_LR = {\n",
    "    'algo__C' : np.arange(1,11,2),\n",
    "    'algo__class_weight' : [{0:i,1:(1-i)} for i in [0.1,0.2,0.3,0.4]],\n",
    "    'algo__l1_ratio' : np.arange(0,1.1,0.2)\n",
    "}"
   ]
  },
  {
   "cell_type": "code",
   "execution_count": 157,
   "id": "a3091231-d3c1-47eb-bbf3-b1f6ddf8252a",
   "metadata": {},
   "outputs": [],
   "source": [
    "skf = StratifiedKFold(n_splits=3,random_state=42,shuffle=True)"
   ]
  },
  {
   "cell_type": "code",
   "execution_count": 158,
   "id": "d58f283e-801f-48cd-95b9-acd763d7aba4",
   "metadata": {},
   "outputs": [],
   "source": [
    "GS_KNN = GridSearchCV(Pipe_KNN,param_KNN, cv=skf, scoring='f1',verbose=1)"
   ]
  },
  {
   "cell_type": "code",
   "execution_count": 159,
   "id": "37f0e147-b2f4-4fce-ab5f-ab91dd696f96",
   "metadata": {},
   "outputs": [
    {
     "name": "stdout",
     "output_type": "stream",
     "text": [
      "Fitting 3 folds for each of 12 candidates, totalling 36 fits\n"
     ]
    },
    {
     "name": "stderr",
     "output_type": "stream",
     "text": [
      "[Parallel(n_jobs=1)]: Using backend SequentialBackend with 1 concurrent workers.\n",
      "[Parallel(n_jobs=1)]: Done  36 out of  36 | elapsed:  9.1min finished\n"
     ]
    },
    {
     "data": {
      "text/plain": [
       "GridSearchCV(cv=StratifiedKFold(n_splits=3, random_state=42, shuffle=True),\n",
       "             estimator=Pipeline(steps=[('prep',\n",
       "                                        ColumnTransformer(transformers=[('numeric',\n",
       "                                                                         Pipeline(steps=[('imputer',\n",
       "                                                                                          SimpleImputer(strategy='most_frequent'))]),\n",
       "                                                                         ['education_recat',\n",
       "                                                                          'no_of_trainings',\n",
       "                                                                          'age',\n",
       "                                                                          'previous_year_rating',\n",
       "                                                                          'length_of_service',\n",
       "                                                                          'avg_training_score']),\n",
       "                                                                        ('categoric',\n",
       "                                                                         Pipeline(steps=[('imputer',\n",
       "                                                                                          SimpleImputer(strategy='most_frequent')),\n",
       "                                                                                         ('encoder',\n",
       "                                                                                          OneHotEncoder())]),\n",
       "                                                                         ['department',\n",
       "                                                                          'region',\n",
       "                                                                          'gender',\n",
       "                                                                          'recruitment_channel',\n",
       "                                                                          'awards_won?'])])),\n",
       "                                       ('algo', KNeighborsClassifier())]),\n",
       "             param_grid={'algo__n_neighbors': array([ 9, 11, 13, 15, 17, 19]),\n",
       "                         'algo__weights': ['uniform', 'distance']},\n",
       "             scoring='f1', verbose=1)"
      ]
     },
     "execution_count": 159,
     "metadata": {},
     "output_type": "execute_result"
    }
   ],
   "source": [
    "GS_KNN.fit(X_train,y_train)"
   ]
  },
  {
   "cell_type": "code",
   "execution_count": 160,
   "id": "3d6efcd1-9a5e-4eff-be1e-24de7a383f05",
   "metadata": {},
   "outputs": [
    {
     "data": {
      "text/plain": [
       "{'algo__n_neighbors': 9, 'algo__weights': 'distance'}"
      ]
     },
     "execution_count": 160,
     "metadata": {},
     "output_type": "execute_result"
    }
   ],
   "source": [
    "GS_KNN.best_params_"
   ]
  },
  {
   "cell_type": "code",
   "execution_count": 161,
   "id": "c79db6f9-fd0a-458f-b512-ce099385263c",
   "metadata": {},
   "outputs": [],
   "source": [
    "KNN_Tuned = GS_KNN.best_estimator_"
   ]
  },
  {
   "cell_type": "code",
   "execution_count": 162,
   "id": "5a1c80eb-0eb2-4a96-914f-92e947a969dc",
   "metadata": {},
   "outputs": [],
   "source": [
    "acc_KNN_Tuned, rec_KNN_Tuned, prec_KNN_Tuned, f1_KNN_Tuned, cm_KNN_Tuned , cr_KNN_Tuned = Eva_Matrix_Class(KNN_Tuned,X_test,y_test)"
   ]
  },
  {
   "cell_type": "code",
   "execution_count": 163,
   "id": "770bb7d4-022f-4f92-bba3-b25a18b176b6",
   "metadata": {},
   "outputs": [
    {
     "data": {
      "image/png": "[encoded data removed]",
      "text/plain": [
       "<Figure size 432x288 with 1 Axes>"
      ]
     },
     "metadata": {
      "needs_background": "light"
     },
     "output_type": "display_data"
    }
   ],
   "source": [
    "sns.heatmap(cm_KNN_Tuned,cbar=False,annot=True);"
   ]
  },
  {
   "cell_type": "code",
   "execution_count": 164,
   "id": "7812dbdf-67f3-4aad-b3e1-2fa90c56204d",
   "metadata": {},
   "outputs": [
    {
     "name": "stdout",
     "output_type": "stream",
     "text": [
      "              precision    recall  f1-score   support\n",
      "\n",
      "           0       0.92      1.00      0.96      9271\n",
      "           1       0.87      0.12      0.21       866\n",
      "\n",
      "    accuracy                           0.92     10137\n",
      "   macro avg       0.90      0.56      0.59     10137\n",
      "weighted avg       0.92      0.92      0.90     10137\n",
      "\n"
     ]
    }
   ],
   "source": [
    "print(cr_KNN_Tuned)"
   ]
  },
  {
   "cell_type": "code",
   "execution_count": 165,
   "id": "19691de9-d68b-44f6-b61f-85bdb786da97",
   "metadata": {},
   "outputs": [],
   "source": [
    "RS_RF = RandomizedSearchCV(Pipe_RF,param_RF, cv=skf, scoring='f1',verbose=1,n_iter=100)"
   ]
  },
  {
   "cell_type": "code",
   "execution_count": 166,
   "id": "92b3c78b-da08-4779-8f97-96604610dc8b",
   "metadata": {},
   "outputs": [
    {
     "name": "stdout",
     "output_type": "stream",
     "text": [
      "Fitting 3 folds for each of 100 candidates, totalling 300 fits\n"
     ]
    },
    {
     "name": "stderr",
     "output_type": "stream",
     "text": [
      "[Parallel(n_jobs=1)]: Using backend SequentialBackend with 1 concurrent workers.\n",
      "[Parallel(n_jobs=1)]: Done 300 out of 300 | elapsed: 51.2min finished\n"
     ]
    },
    {
     "data": {
      "text/plain": [
       "RandomizedSearchCV(cv=StratifiedKFold(n_splits=3, random_state=42, shuffle=True),\n",
       "                   estimator=Pipeline(steps=[('prep',\n",
       "                                              ColumnTransformer(transformers=[('numeric',\n",
       "                                                                               Pipeline(steps=[('imputer',\n",
       "                                                                                                SimpleImputer(strategy='most_frequent'))]),\n",
       "                                                                               ['education_recat',\n",
       "                                                                                'no_of_trainings',\n",
       "                                                                                'age',\n",
       "                                                                                'previous_year_rating',\n",
       "                                                                                'length_of_service',\n",
       "                                                                                'avg_training_score']),\n",
       "                                                                              ('categoric',\n",
       "                                                                               Pi...\n",
       "                                        'algo__max_depth': array([10, 11, 12, 13, 14, 15, 16, 17, 18, 19, 20, 21, 22, 23, 24, 25, 26,\n",
       "       27, 28, 29, 30, 31, 32, 33, 34, 35, 36, 37, 38, 39, 40, 41, 42, 43,\n",
       "       44, 45, 46, 47, 48, 49, 50, 51, 52, 53, 54, 55, 56, 57, 58, 59, 60,\n",
       "       61, 62, 63, 64, 65, 66, 67, 68, 69, 70, 71, 72, 73, 74, 75, 76, 77,\n",
       "       78, 79, 80, 81, 82, 83, 84, 85, 86, 87, 88, 89, 90, 91, 92, 93, 94,\n",
       "       95, 96, 97, 98, 99]),\n",
       "                                        'algo__min_samples_leaf': array([1, 2, 3, 4])},\n",
       "                   scoring='f1', verbose=1)"
      ]
     },
     "execution_count": 166,
     "metadata": {},
     "output_type": "execute_result"
    }
   ],
   "source": [
    "RS_RF.fit(X_train,y_train)"
   ]
  },
  {
   "cell_type": "code",
   "execution_count": 167,
   "id": "8a4537b3-74c2-40fa-a11e-79b2018d623a",
   "metadata": {},
   "outputs": [
    {
     "data": {
      "text/plain": [
       "{'algo__min_samples_leaf': 2,\n",
       " 'algo__max_depth': 34,\n",
       " 'algo__class_weight': {0: 0.1, 1: 0.9}}"
      ]
     },
     "execution_count": 167,
     "metadata": {},
     "output_type": "execute_result"
    }
   ],
   "source": [
    "RS_RF.best_params_"
   ]
  },
  {
   "cell_type": "code",
   "execution_count": 195,
   "id": "7b92f522-1471-4cd7-9ba7-b8afe72c7c14",
   "metadata": {},
   "outputs": [],
   "source": [
    "RF_Tuned = RS_RF.best_estimator_"
   ]
  },
  {
   "cell_type": "code",
   "execution_count": 196,
   "id": "df0591e0-6995-4cda-a9a9-fe2f72c962e0",
   "metadata": {},
   "outputs": [],
   "source": [
    "acc_RF_Tuned, rec_RF_Tuned, prec_RF_Tuned, f1_RF_Tuned, cm_RF_Tuned , cr_RF_Tuned = Eva_Matrix_Class(RF_Tuned,X_test,y_test)"
   ]
  },
  {
   "cell_type": "code",
   "execution_count": 197,
   "id": "ddb90479-d423-4a6c-a892-ec6d939fb54d",
   "metadata": {},
   "outputs": [
    {
     "data": {
      "image/png": "[encoded data removed]",
      "text/plain": [
       "<Figure size 432x288 with 1 Axes>"
      ]
     },
     "metadata": {
      "needs_background": "light"
     },
     "output_type": "display_data"
    }
   ],
   "source": [
    "sns.heatmap(cm_RF_Tuned,cbar=False,annot=True);"
   ]
  },
  {
   "cell_type": "code",
   "execution_count": 171,
   "id": "213f5200-d78f-4113-b254-82e32354deb6",
   "metadata": {},
   "outputs": [
    {
     "name": "stdout",
     "output_type": "stream",
     "text": [
      "              precision    recall  f1-score   support\n",
      "\n",
      "           0       0.95      0.97      0.96      9271\n",
      "           1       0.59      0.41      0.48       866\n",
      "\n",
      "    accuracy                           0.93     10137\n",
      "   macro avg       0.77      0.69      0.72     10137\n",
      "weighted avg       0.92      0.93      0.92     10137\n",
      "\n"
     ]
    }
   ],
   "source": [
    "print(cr_RF_Tuned)"
   ]
  },
  {
   "cell_type": "code",
   "execution_count": 172,
   "id": "b7af9236-4b9f-4960-8719-7f5b887d1b2a",
   "metadata": {},
   "outputs": [],
   "source": [
    "GS_LR = GridSearchCV(Pipe_LR,param_LR, cv=skf, scoring='f1',verbose=1)"
   ]
  },
  {
   "cell_type": "code",
   "execution_count": 173,
   "id": "eb443918-dedd-414f-affb-80180ba2963a",
   "metadata": {},
   "outputs": [
    {
     "name": "stdout",
     "output_type": "stream",
     "text": [
      "Fitting 3 folds for each of 120 candidates, totalling 360 fits\n"
     ]
    },
    {
     "name": "stderr",
     "output_type": "stream",
     "text": [
      "[Parallel(n_jobs=1)]: Using backend SequentialBackend with 1 concurrent workers.\n",
      "[Parallel(n_jobs=1)]: Done 360 out of 360 | elapsed:  6.1min finished\n"
     ]
    },
    {
     "data": {
      "text/plain": [
       "GridSearchCV(cv=StratifiedKFold(n_splits=3, random_state=42, shuffle=True),\n",
       "             estimator=Pipeline(steps=[('prep',\n",
       "                                        ColumnTransformer(transformers=[('numeric',\n",
       "                                                                         Pipeline(steps=[('imputer',\n",
       "                                                                                          SimpleImputer(strategy='most_frequent'))]),\n",
       "                                                                         ['education_recat',\n",
       "                                                                          'no_of_trainings',\n",
       "                                                                          'age',\n",
       "                                                                          'previous_year_rating',\n",
       "                                                                          'length_of_service',\n",
       "                                                                          'avg_training_score']),\n",
       "                                                                        ('categoric',\n",
       "                                                                         Pipeline...\n",
       "                                                                                          OneHotEncoder())]),\n",
       "                                                                         ['department',\n",
       "                                                                          'region',\n",
       "                                                                          'gender',\n",
       "                                                                          'recruitment_channel',\n",
       "                                                                          'awards_won?'])])),\n",
       "                                       ('algo',\n",
       "                                        LogisticRegression(class_weight={0: 0.1,\n",
       "                                                                         1: 0.9},\n",
       "                                                           solver='liblinear'))]),\n",
       "             param_grid={'algo__C': array([1, 3, 5, 7, 9]),\n",
       "                         'algo__class_weight': [{0: 0.1, 1: 0.9},\n",
       "                                                {0: 0.2, 1: 0.8},\n",
       "                                                {0: 0.3, 1: 0.7},\n",
       "                                                {0: 0.4, 1: 0.6}],\n",
       "                         'algo__l1_ratio': array([0. , 0.2, 0.4, 0.6, 0.8, 1. ])},\n",
       "             scoring='f1', verbose=1)"
      ]
     },
     "execution_count": 173,
     "metadata": {},
     "output_type": "execute_result"
    }
   ],
   "source": [
    "GS_LR.fit(X_train,y_train)"
   ]
  },
  {
   "cell_type": "code",
   "execution_count": 174,
   "id": "55e6a5ce-5026-4838-8892-f383c22ec0e9",
   "metadata": {},
   "outputs": [
    {
     "data": {
      "text/plain": [
       "{'algo__C': 9, 'algo__class_weight': {0: 0.3, 1: 0.7}, 'algo__l1_ratio': 0.0}"
      ]
     },
     "execution_count": 174,
     "metadata": {},
     "output_type": "execute_result"
    }
   ],
   "source": [
    "GS_LR.best_params_"
   ]
  },
  {
   "cell_type": "code",
   "execution_count": 175,
   "id": "bac4d203-6987-4eca-b367-7498f532a750",
   "metadata": {},
   "outputs": [],
   "source": [
    "LR_Tuned = GS_LR.best_estimator_"
   ]
  },
  {
   "cell_type": "code",
   "execution_count": 176,
   "id": "9d228e1a-3f05-4d7a-8eb7-8541a017feb6",
   "metadata": {},
   "outputs": [],
   "source": [
    "acc_LR_Tuned, rec_LR_Tuned, prec_LR_Tuned, f1_LR_Tuned, cm_LR_Tuned , cr_LR_Tuned = Eva_Matrix_Class(LR_Tuned,X_test,y_test)"
   ]
  },
  {
   "cell_type": "code",
   "execution_count": 177,
   "id": "4a0b75ef-4ae9-444a-8949-95b2dbe1ff2f",
   "metadata": {},
   "outputs": [
    {
     "data": {
      "image/png": "[encoded data removed]",
      "text/plain": [
       "<Figure size 432x288 with 1 Axes>"
      ]
     },
     "metadata": {
      "needs_background": "light"
     },
     "output_type": "display_data"
    }
   ],
   "source": [
    "sns.heatmap(cm_LR_Tuned,cbar=False,annot=True);"
   ]
  },
  {
   "cell_type": "code",
   "execution_count": 178,
   "id": "ba88a949-a4d1-4366-918b-0bae40749503",
   "metadata": {},
   "outputs": [
    {
     "name": "stdout",
     "output_type": "stream",
     "text": [
      "              precision    recall  f1-score   support\n",
      "\n",
      "           0       0.94      0.99      0.97      9271\n",
      "           1       0.75      0.38      0.50       866\n",
      "\n",
      "    accuracy                           0.94     10137\n",
      "   macro avg       0.85      0.68      0.74     10137\n",
      "weighted avg       0.93      0.94      0.93     10137\n",
      "\n"
     ]
    }
   ],
   "source": [
    "print(cr_LR_Tuned)"
   ]
  },
  {
   "cell_type": "markdown",
   "id": "2ccf9532-aceb-4afe-a1e5-1338e17cad45",
   "metadata": {},
   "source": [
    "- Feature Engineering (Feature Selection)\n",
    "    - From Correlation Ratio and Association on Features, we select the no_of_trainings, previous_year_rating, and awards_won for modelling"
   ]
  },
  {
   "cell_type": "code",
   "execution_count": 198,
   "id": "d20d2a6d-2f47-4b82-bd7e-77f5bacbaf4c",
   "metadata": {},
   "outputs": [],
   "source": [
    "X_select = df1[['avg_training_score','previous_year_rating','awards_won?']]"
   ]
  },
  {
   "cell_type": "code",
   "execution_count": 199,
   "id": "604c083d-bc46-48a8-b898-42f64ef97c59",
   "metadata": {},
   "outputs": [],
   "source": [
    "y_select = df1['is_promoted']"
   ]
  },
  {
   "cell_type": "code",
   "execution_count": 200,
   "id": "4b681cda-2d50-495d-bb2a-c74e74ef8379",
   "metadata": {},
   "outputs": [],
   "source": [
    "X_train_select,X_test_select,y_train_select,y_test_select = train_test_split(X_select,y_select,train_size=.80,stratify=y_select,random_state=42)"
   ]
  },
  {
   "cell_type": "code",
   "execution_count": 205,
   "id": "abf2b900-ed94-48d2-b669-06d7406bd6a3",
   "metadata": {},
   "outputs": [],
   "source": [
    "num_columns1 = ['avg_training_score','previous_year_rating']\n",
    "\n",
    "cat_columns1 = ['awards_won?']\n",
    "\n",
    "num_pipeline1 = Pipeline([\n",
    "    ('imputer',SimpleImputer(strategy='most_frequent')),\n",
    "])\n",
    "\n",
    "cat_pipeline1 = Pipeline([\n",
    "    ('imputer',SimpleImputer(strategy='most_frequent')),\n",
    "    ('encoder',OneHotEncoder())\n",
    "])\n",
    "\n",
    "preprocessor1 = ColumnTransformer([\n",
    "    ('numeric',num_pipeline1,num_columns1),\n",
    "    ('categoric',cat_pipeline1,cat_columns1)\n",
    "])\n",
    "\n",
    "Pipe_KNN_select = Pipeline([\n",
    "    ('prep',preprocessor1),\n",
    "    ('algo',KNeighborsClassifier())\n",
    "])\n",
    "\n",
    "Pipe_RF_select = Pipeline([\n",
    "    ('prep',preprocessor1),\n",
    "    ('algo',RandomForestClassifier(class_weight={0:0.1, 1:0.9}))\n",
    "])\n",
    "\n",
    "Pipe_LR_select = Pipeline([\n",
    "    ('prep',preprocessor1),\n",
    "    ('algo',LogisticRegression(class_weight={0:0.1, 1:0.9},solver='liblinear'))\n",
    "])"
   ]
  },
  {
   "cell_type": "code",
   "execution_count": 206,
   "id": "d2e9faec-d695-4a20-90fc-56907f1f34e4",
   "metadata": {},
   "outputs": [
    {
     "data": {
      "text/plain": [
       "Pipeline(steps=[('prep',\n",
       "                 ColumnTransformer(transformers=[('numeric',\n",
       "                                                  Pipeline(steps=[('imputer',\n",
       "                                                                   SimpleImputer(strategy='most_frequent'))]),\n",
       "                                                  ['avg_training_score',\n",
       "                                                   'previous_year_rating']),\n",
       "                                                 ('categoric',\n",
       "                                                  Pipeline(steps=[('imputer',\n",
       "                                                                   SimpleImputer(strategy='most_frequent')),\n",
       "                                                                  ('encoder',\n",
       "                                                                   OneHotEncoder())]),\n",
       "                                                  ['awards_won?'])])),\n",
       "                ('algo', KNeighborsClassifier())])"
      ]
     },
     "execution_count": 206,
     "metadata": {},
     "output_type": "execute_result"
    }
   ],
   "source": [
    "Pipe_KNN_select.fit(X_train_select,y_train_select)"
   ]
  },
  {
   "cell_type": "code",
   "execution_count": 207,
   "id": "18214c83-794c-40a1-932e-2dd430e3954e",
   "metadata": {},
   "outputs": [
    {
     "data": {
      "text/plain": [
       "Pipeline(steps=[('prep',\n",
       "                 ColumnTransformer(transformers=[('numeric',\n",
       "                                                  Pipeline(steps=[('imputer',\n",
       "                                                                   SimpleImputer(strategy='most_frequent'))]),\n",
       "                                                  ['avg_training_score',\n",
       "                                                   'previous_year_rating']),\n",
       "                                                 ('categoric',\n",
       "                                                  Pipeline(steps=[('imputer',\n",
       "                                                                   SimpleImputer(strategy='most_frequent')),\n",
       "                                                                  ('encoder',\n",
       "                                                                   OneHotEncoder())]),\n",
       "                                                  ['awards_won?'])])),\n",
       "                ('algo',\n",
       "                 RandomForestClassifier(class_weight={0: 0.1, 1: 0.9}))])"
      ]
     },
     "execution_count": 207,
     "metadata": {},
     "output_type": "execute_result"
    }
   ],
   "source": [
    "Pipe_RF_select.fit(X_train_select,y_train_select)"
   ]
  },
  {
   "cell_type": "code",
   "execution_count": 208,
   "id": "b559c321-3db3-493c-8043-8dcc076ac558",
   "metadata": {},
   "outputs": [
    {
     "data": {
      "text/plain": [
       "Pipeline(steps=[('prep',\n",
       "                 ColumnTransformer(transformers=[('numeric',\n",
       "                                                  Pipeline(steps=[('imputer',\n",
       "                                                                   SimpleImputer(strategy='most_frequent'))]),\n",
       "                                                  ['avg_training_score',\n",
       "                                                   'previous_year_rating']),\n",
       "                                                 ('categoric',\n",
       "                                                  Pipeline(steps=[('imputer',\n",
       "                                                                   SimpleImputer(strategy='most_frequent')),\n",
       "                                                                  ('encoder',\n",
       "                                                                   OneHotEncoder())]),\n",
       "                                                  ['awards_won?'])])),\n",
       "                ('algo',\n",
       "                 LogisticRegression(class_weight={0: 0.1, 1: 0.9},\n",
       "                                    solver='liblinear'))])"
      ]
     },
     "execution_count": 208,
     "metadata": {},
     "output_type": "execute_result"
    }
   ],
   "source": [
    "Pipe_LR_select.fit(X_train_select,y_train_select)"
   ]
  },
  {
   "cell_type": "code",
   "execution_count": 209,
   "id": "b65bcbbf-0ab5-43b6-8bbd-32f64259808b",
   "metadata": {},
   "outputs": [],
   "source": [
    "acc_KNN_select, rec_KNN_select, prec_KNN_select, f1_KNN_select, cm_KNN_select , cr_KNN_select = Eva_Matrix_Class(Pipe_KNN_select,X_test_select,y_test_select)\n",
    "acc_RF_select, rec_RF_select, prec_RF_select, f1_RF_select, cm_RF_select , cr_RF_select = Eva_Matrix_Class(Pipe_RF_select,X_test_select,y_test_select)\n",
    "acc_LR_select, rec_LR_select, prec_LR_select, f1_LR_select, cm_LR_select , cr_LR_select = Eva_Matrix_Class(Pipe_LR_select,X_test_select,y_test_select)"
   ]
  },
  {
   "cell_type": "code",
   "execution_count": 210,
   "id": "8cbfa274-1457-4c40-9af7-03ae340074ec",
   "metadata": {},
   "outputs": [
    {
     "data": {
      "image/png": "[encoded data removed]",
      "text/plain": [
       "<Figure size 432x288 with 1 Axes>"
      ]
     },
     "metadata": {
      "needs_background": "light"
     },
     "output_type": "display_data"
    }
   ],
   "source": [
    "sns.heatmap(cm_KNN_select,cbar=False,annot=True);"
   ]
  },
  {
   "cell_type": "code",
   "execution_count": 211,
   "id": "7200611f-1ad7-4458-9db7-80060f212df7",
   "metadata": {},
   "outputs": [
    {
     "name": "stdout",
     "output_type": "stream",
     "text": [
      "              precision    recall  f1-score   support\n",
      "\n",
      "           0       0.93      0.99      0.96      9271\n",
      "           1       0.54      0.18      0.27       866\n",
      "\n",
      "    accuracy                           0.92     10137\n",
      "   macro avg       0.73      0.58      0.61     10137\n",
      "weighted avg       0.89      0.92      0.90     10137\n",
      "\n"
     ]
    }
   ],
   "source": [
    "print(cr_KNN_select)"
   ]
  },
  {
   "cell_type": "code",
   "execution_count": 212,
   "id": "f5516194-6ec9-4740-89b1-382cd5d34b81",
   "metadata": {},
   "outputs": [
    {
     "data": {
      "image/png": "[encoded data removed]",
      "text/plain": [
       "<Figure size 432x288 with 1 Axes>"
      ]
     },
     "metadata": {
      "needs_background": "light"
     },
     "output_type": "display_data"
    }
   ],
   "source": [
    "sns.heatmap(cm_RF_select,cbar=False,annot=True);"
   ]
  },
  {
   "cell_type": "code",
   "execution_count": 213,
   "id": "79dc510a-7e06-408d-80c7-c48f5054aeb6",
   "metadata": {},
   "outputs": [
    {
     "name": "stdout",
     "output_type": "stream",
     "text": [
      "              precision    recall  f1-score   support\n",
      "\n",
      "           0       0.95      0.86      0.90      9271\n",
      "           1       0.25      0.49      0.33       866\n",
      "\n",
      "    accuracy                           0.83     10137\n",
      "   macro avg       0.60      0.68      0.62     10137\n",
      "weighted avg       0.89      0.83      0.85     10137\n",
      "\n"
     ]
    }
   ],
   "source": [
    "print(cr_RF_select)"
   ]
  },
  {
   "cell_type": "code",
   "execution_count": 214,
   "id": "a6abb1e8-fb4f-4f34-aac5-50b35835a39b",
   "metadata": {},
   "outputs": [
    {
     "data": {
      "image/png": "[encoded data removed]",
      "text/plain": [
       "<Figure size 432x288 with 1 Axes>"
      ]
     },
     "metadata": {
      "needs_background": "light"
     },
     "output_type": "display_data"
    }
   ],
   "source": [
    "sns.heatmap(cm_LR_select,cbar=False,annot=True);"
   ]
  },
  {
   "cell_type": "code",
   "execution_count": 215,
   "id": "030d20a9-99fa-43a4-a782-4cee03c7a424",
   "metadata": {},
   "outputs": [
    {
     "name": "stdout",
     "output_type": "stream",
     "text": [
      "              precision    recall  f1-score   support\n",
      "\n",
      "           0       0.95      0.75      0.84      9271\n",
      "           1       0.18      0.59      0.28       866\n",
      "\n",
      "    accuracy                           0.74     10137\n",
      "   macro avg       0.57      0.67      0.56     10137\n",
      "weighted avg       0.89      0.74      0.79     10137\n",
      "\n"
     ]
    }
   ],
   "source": [
    "print(cr_LR_select)"
   ]
  },
  {
   "cell_type": "markdown",
   "id": "36867a46-c90a-4be9-a93f-e6b774d1c0e2",
   "metadata": {},
   "source": [
    "- Improvement Hyperparameter Tuning (Feature Selection)"
   ]
  },
  {
   "cell_type": "code",
   "execution_count": 216,
   "id": "e1449621-7c04-4414-9163-b04eebe692e5",
   "metadata": {},
   "outputs": [],
   "source": [
    "param_KNN_select = {\n",
    "    'algo__n_neighbors' : np.arange(1,10,2),\n",
    "    'algo__p' : [1,2],\n",
    "    'algo__weights' : ['uniform','distance']\n",
    "}"
   ]
  },
  {
   "cell_type": "code",
   "execution_count": 217,
   "id": "2c3aa9bc-61bd-4da1-98ac-97dac5806424",
   "metadata": {},
   "outputs": [],
   "source": [
    "param_RF_select = {\n",
    "    'algo__max_depth' : np.arange(10,100),\n",
    "    'algo__min_samples_leaf' : np.arange(1,5),\n",
    "    'algo__class_weight' : [{0:i,1:(1-i)} for i in [0.1,0.2,0.3,0.4]],\n",
    "}"
   ]
  },
  {
   "cell_type": "code",
   "execution_count": 218,
   "id": "549e591c-b08a-4923-a0f5-5afe92c86486",
   "metadata": {},
   "outputs": [],
   "source": [
    "param_LR_select = {\n",
    "    'algo__C' : np.arange(1,11,2),\n",
    "    'algo__class_weight' : [{0:i,1:(1-i)} for i in [0.1,0.2,0.3,0.4]],\n",
    "    'algo__l1_ratio' : np.arange(0,1.1,0.2)\n",
    "}"
   ]
  },
  {
   "cell_type": "code",
   "execution_count": 219,
   "id": "1783142c-bd3d-4ec8-b6f9-549227e20adc",
   "metadata": {},
   "outputs": [],
   "source": [
    "GS_KNN_select = GridSearchCV(Pipe_KNN_select,param_KNN_select, cv=skf, scoring='f1',verbose=1)"
   ]
  },
  {
   "cell_type": "code",
   "execution_count": 220,
   "id": "2edebb7d-2541-4761-aa66-bacea049d43a",
   "metadata": {},
   "outputs": [
    {
     "name": "stdout",
     "output_type": "stream",
     "text": [
      "Fitting 3 folds for each of 20 candidates, totalling 60 fits\n"
     ]
    },
    {
     "name": "stderr",
     "output_type": "stream",
     "text": [
      "[Parallel(n_jobs=1)]: Using backend SequentialBackend with 1 concurrent workers.\n",
      "[Parallel(n_jobs=1)]: Done  60 out of  60 | elapsed:   18.4s finished\n"
     ]
    },
    {
     "data": {
      "text/plain": [
       "GridSearchCV(cv=StratifiedKFold(n_splits=3, random_state=42, shuffle=True),\n",
       "             estimator=Pipeline(steps=[('prep',\n",
       "                                        ColumnTransformer(transformers=[('numeric',\n",
       "                                                                         Pipeline(steps=[('imputer',\n",
       "                                                                                          SimpleImputer(strategy='most_frequent'))]),\n",
       "                                                                         ['avg_training_score',\n",
       "                                                                          'previous_year_rating']),\n",
       "                                                                        ('categoric',\n",
       "                                                                         Pipeline(steps=[('imputer',\n",
       "                                                                                          SimpleImputer(strategy='most_frequent')),\n",
       "                                                                                         ('encoder',\n",
       "                                                                                          OneHotEncoder())]),\n",
       "                                                                         ['awards_won?'])])),\n",
       "                                       ('algo', KNeighborsClassifier())]),\n",
       "             param_grid={'algo__n_neighbors': array([1, 3, 5, 7, 9]),\n",
       "                         'algo__p': [1, 2],\n",
       "                         'algo__weights': ['uniform', 'distance']},\n",
       "             scoring='f1', verbose=1)"
      ]
     },
     "execution_count": 220,
     "metadata": {},
     "output_type": "execute_result"
    }
   ],
   "source": [
    "GS_KNN_select.fit(X_train_select,y_train_select)"
   ]
  },
  {
   "cell_type": "code",
   "execution_count": 221,
   "id": "f93a0916-fd02-43f4-ae71-48b5f5021b7f",
   "metadata": {},
   "outputs": [
    {
     "data": {
      "text/plain": [
       "{'algo__n_neighbors': 5, 'algo__p': 1, 'algo__weights': 'uniform'}"
      ]
     },
     "execution_count": 221,
     "metadata": {},
     "output_type": "execute_result"
    }
   ],
   "source": [
    "GS_KNN_select.best_params_"
   ]
  },
  {
   "cell_type": "code",
   "execution_count": 222,
   "id": "170c190b-c2d1-4e39-a518-81c056d55ba3",
   "metadata": {},
   "outputs": [],
   "source": [
    "KNN_Tuned_select = GS_KNN_select.best_estimator_"
   ]
  },
  {
   "cell_type": "code",
   "execution_count": 223,
   "id": "f3989fae-3980-4c20-b395-d8a3fc346528",
   "metadata": {},
   "outputs": [],
   "source": [
    "acc_KNN_Tuned_select, rec_KNN_Tuned_select, prec_KNN_Tuned_select, f1_KNN_Tuned_select, cm_KNN_Tuned_select , cr_KNN_Tuned_select = Eva_Matrix_Class(KNN_Tuned_select,X_test_select,y_test_select)"
   ]
  },
  {
   "cell_type": "code",
   "execution_count": 224,
   "id": "6936892c-efa3-4380-bbd5-ada4a6f2cd96",
   "metadata": {},
   "outputs": [
    {
     "data": {
      "image/png": "[encoded data removed]",
      "text/plain": [
       "<Figure size 432x288 with 1 Axes>"
      ]
     },
     "metadata": {
      "needs_background": "light"
     },
     "output_type": "display_data"
    }
   ],
   "source": [
    "sns.heatmap(cm_KNN_Tuned_select,cbar=False,annot=True);"
   ]
  },
  {
   "cell_type": "code",
   "execution_count": 225,
   "id": "fa95eabe-de81-4c14-8b1e-8b9f1ebce52f",
   "metadata": {},
   "outputs": [
    {
     "name": "stdout",
     "output_type": "stream",
     "text": [
      "              precision    recall  f1-score   support\n",
      "\n",
      "           0       0.93      0.99      0.96      9271\n",
      "           1       0.54      0.18      0.26       866\n",
      "\n",
      "    accuracy                           0.92     10137\n",
      "   macro avg       0.73      0.58      0.61     10137\n",
      "weighted avg       0.89      0.92      0.90     10137\n",
      "\n"
     ]
    }
   ],
   "source": [
    "print(cr_KNN_Tuned_select)"
   ]
  },
  {
   "cell_type": "code",
   "execution_count": 227,
   "id": "22aed621-4243-41b9-89c6-0badaefd4902",
   "metadata": {},
   "outputs": [],
   "source": [
    "RS_RF_select = RandomizedSearchCV(Pipe_RF_select,param_RF_select, cv=skf, scoring='f1',verbose=1,n_iter=100)"
   ]
  },
  {
   "cell_type": "code",
   "execution_count": 229,
   "id": "2e1d5410-bcd7-488c-86ff-bb976a8e1a8c",
   "metadata": {},
   "outputs": [
    {
     "name": "stdout",
     "output_type": "stream",
     "text": [
      "Fitting 3 folds for each of 100 candidates, totalling 300 fits\n"
     ]
    },
    {
     "name": "stderr",
     "output_type": "stream",
     "text": [
      "[Parallel(n_jobs=1)]: Using backend SequentialBackend with 1 concurrent workers.\n",
      "[Parallel(n_jobs=1)]: Done 300 out of 300 | elapsed:  4.6min finished\n"
     ]
    },
    {
     "data": {
      "text/plain": [
       "RandomizedSearchCV(cv=StratifiedKFold(n_splits=3, random_state=42, shuffle=True),\n",
       "                   estimator=Pipeline(steps=[('prep',\n",
       "                                              ColumnTransformer(transformers=[('numeric',\n",
       "                                                                               Pipeline(steps=[('imputer',\n",
       "                                                                                                SimpleImputer(strategy='most_frequent'))]),\n",
       "                                                                               ['avg_training_score',\n",
       "                                                                                'previous_year_rating']),\n",
       "                                                                              ('categoric',\n",
       "                                                                               Pipeline(steps=[('imputer',\n",
       "                                                                                                SimpleImputer(strategy='most_frequent...\n",
       "                                        'algo__max_depth': array([10, 11, 12, 13, 14, 15, 16, 17, 18, 19, 20, 21, 22, 23, 24, 25, 26,\n",
       "       27, 28, 29, 30, 31, 32, 33, 34, 35, 36, 37, 38, 39, 40, 41, 42, 43,\n",
       "       44, 45, 46, 47, 48, 49, 50, 51, 52, 53, 54, 55, 56, 57, 58, 59, 60,\n",
       "       61, 62, 63, 64, 65, 66, 67, 68, 69, 70, 71, 72, 73, 74, 75, 76, 77,\n",
       "       78, 79, 80, 81, 82, 83, 84, 85, 86, 87, 88, 89, 90, 91, 92, 93, 94,\n",
       "       95, 96, 97, 98, 99]),\n",
       "                                        'algo__min_samples_leaf': array([1, 2, 3, 4])},\n",
       "                   scoring='f1', verbose=1)"
      ]
     },
     "execution_count": 229,
     "metadata": {},
     "output_type": "execute_result"
    }
   ],
   "source": [
    "RS_RF_select.fit(X_train_select,y_train_select)"
   ]
  },
  {
   "cell_type": "code",
   "execution_count": 230,
   "id": "6b112ca5-e5b2-4a09-b67f-f9f1b772662b",
   "metadata": {},
   "outputs": [
    {
     "data": {
      "text/plain": [
       "{'algo__min_samples_leaf': 4,\n",
       " 'algo__max_depth': 39,\n",
       " 'algo__class_weight': {0: 0.2, 1: 0.8}}"
      ]
     },
     "execution_count": 230,
     "metadata": {},
     "output_type": "execute_result"
    }
   ],
   "source": [
    "RS_RF_select.best_params_"
   ]
  },
  {
   "cell_type": "code",
   "execution_count": 231,
   "id": "3bd60a73-1815-4cc2-b4f7-bf95d2c39c13",
   "metadata": {},
   "outputs": [],
   "source": [
    "RF_Tuned_select = RS_RF_select.best_estimator_"
   ]
  },
  {
   "cell_type": "code",
   "execution_count": 232,
   "id": "40cf1d3c-8788-4736-8038-deade3c51c0a",
   "metadata": {},
   "outputs": [],
   "source": [
    "acc_RF_Tuned_select, rec_RF_Tuned_select, prec_RF_Tuned_select, f1_RF_Tuned_select, cm_RF_Tuned_select , cr_RF_Tuned_select = Eva_Matrix_Class(RF_Tuned_select,X_test_select,y_test_select)"
   ]
  },
  {
   "cell_type": "code",
   "execution_count": 233,
   "id": "28a1db45-d1cd-45eb-aa55-f98eb6e093ac",
   "metadata": {},
   "outputs": [
    {
     "data": {
      "image/png": "[encoded data removed]",
      "text/plain": [
       "<Figure size 432x288 with 1 Axes>"
      ]
     },
     "metadata": {
      "needs_background": "light"
     },
     "output_type": "display_data"
    }
   ],
   "source": [
    "sns.heatmap(cm_RF_Tuned_select,cbar=False,annot=True);"
   ]
  },
  {
   "cell_type": "code",
   "execution_count": 234,
   "id": "33a84e30-197a-4075-9cbc-dc56f67e97b1",
   "metadata": {},
   "outputs": [
    {
     "name": "stdout",
     "output_type": "stream",
     "text": [
      "              precision    recall  f1-score   support\n",
      "\n",
      "           0       0.94      0.96      0.95      9271\n",
      "           1       0.42      0.33      0.37       866\n",
      "\n",
      "    accuracy                           0.90     10137\n",
      "   macro avg       0.68      0.64      0.66     10137\n",
      "weighted avg       0.89      0.90      0.90     10137\n",
      "\n"
     ]
    }
   ],
   "source": [
    "print(cr_RF_Tuned_select)"
   ]
  },
  {
   "cell_type": "code",
   "execution_count": 235,
   "id": "da6bab33-dba2-4486-82b2-af92b962eacc",
   "metadata": {},
   "outputs": [],
   "source": [
    "GS_LR_select = GridSearchCV(Pipe_LR_select,param_LR_select, cv=skf, scoring='f1',verbose=1)"
   ]
  },
  {
   "cell_type": "code",
   "execution_count": 236,
   "id": "7b808441-bd43-4b91-802e-01a001f744f9",
   "metadata": {},
   "outputs": [
    {
     "name": "stdout",
     "output_type": "stream",
     "text": [
      "Fitting 3 folds for each of 120 candidates, totalling 360 fits\n"
     ]
    },
    {
     "name": "stderr",
     "output_type": "stream",
     "text": [
      "[Parallel(n_jobs=1)]: Using backend SequentialBackend with 1 concurrent workers.\n",
      "[Parallel(n_jobs=1)]: Done 360 out of 360 | elapsed:   27.3s finished\n"
     ]
    },
    {
     "data": {
      "text/plain": [
       "GridSearchCV(cv=StratifiedKFold(n_splits=3, random_state=42, shuffle=True),\n",
       "             estimator=Pipeline(steps=[('prep',\n",
       "                                        ColumnTransformer(transformers=[('numeric',\n",
       "                                                                         Pipeline(steps=[('imputer',\n",
       "                                                                                          SimpleImputer(strategy='most_frequent'))]),\n",
       "                                                                         ['avg_training_score',\n",
       "                                                                          'previous_year_rating']),\n",
       "                                                                        ('categoric',\n",
       "                                                                         Pipeline(steps=[('imputer',\n",
       "                                                                                          SimpleImputer(strategy='most_frequent')),\n",
       "                                                                                         ('encoder',\n",
       "                                                                                          OneHotEncoder())]),\n",
       "                                                                         ['awards_won?'])])),\n",
       "                                       ('algo',\n",
       "                                        LogisticRegression(class_weight={0: 0.1,\n",
       "                                                                         1: 0.9},\n",
       "                                                           solver='liblinear'))]),\n",
       "             param_grid={'algo__C': array([1, 3, 5, 7, 9]),\n",
       "                         'algo__class_weight': [{0: 0.1, 1: 0.9},\n",
       "                                                {0: 0.2, 1: 0.8},\n",
       "                                                {0: 0.3, 1: 0.7},\n",
       "                                                {0: 0.4, 1: 0.6}],\n",
       "                         'algo__l1_ratio': array([0. , 0.2, 0.4, 0.6, 0.8, 1. ])},\n",
       "             scoring='f1', verbose=1)"
      ]
     },
     "execution_count": 236,
     "metadata": {},
     "output_type": "execute_result"
    }
   ],
   "source": [
    "GS_LR_select.fit(X_train_select,y_train_select)"
   ]
  },
  {
   "cell_type": "code",
   "execution_count": 237,
   "id": "5270d1bf-d93f-4aed-83e5-33645a4ad3c2",
   "metadata": {},
   "outputs": [
    {
     "data": {
      "text/plain": [
       "{'algo__C': 5, 'algo__class_weight': {0: 0.2, 1: 0.8}, 'algo__l1_ratio': 0.0}"
      ]
     },
     "execution_count": 237,
     "metadata": {},
     "output_type": "execute_result"
    }
   ],
   "source": [
    "GS_LR_select.best_params_"
   ]
  },
  {
   "cell_type": "code",
   "execution_count": 238,
   "id": "c3a42ac9-8677-4b0b-82c8-4be192264528",
   "metadata": {},
   "outputs": [],
   "source": [
    "LR_Tuned_select = GS_LR_select.best_estimator_"
   ]
  },
  {
   "cell_type": "code",
   "execution_count": 239,
   "id": "b5aa15ca-979a-484e-bb4e-0e435e7b5482",
   "metadata": {},
   "outputs": [],
   "source": [
    "acc_LR_Tuned_select, rec_LR_Tuned_select, prec_LR_Tuned_select, f1_LR_Tuned_select, cm_LR_Tuned_select , cr_LR_Tuned_select = Eva_Matrix_Class(LR_Tuned_select,X_test_select,y_test_select)"
   ]
  },
  {
   "cell_type": "code",
   "execution_count": 240,
   "id": "fe9f2e3a-b62c-47db-9438-a762b78d351f",
   "metadata": {},
   "outputs": [
    {
     "data": {
      "image/png": "[encoded data removed]",
      "text/plain": [
       "<Figure size 432x288 with 1 Axes>"
      ]
     },
     "metadata": {
      "needs_background": "light"
     },
     "output_type": "display_data"
    }
   ],
   "source": [
    "sns.heatmap(cm_LR_Tuned_select,cbar=False,annot=True);"
   ]
  },
  {
   "cell_type": "code",
   "execution_count": 241,
   "id": "9d686fb6-2de8-4f9c-aacf-d409140516b0",
   "metadata": {},
   "outputs": [
    {
     "name": "stdout",
     "output_type": "stream",
     "text": [
      "              precision    recall  f1-score   support\n",
      "\n",
      "           0       0.94      0.95      0.94      9271\n",
      "           1       0.35      0.31      0.33       866\n",
      "\n",
      "    accuracy                           0.89     10137\n",
      "   macro avg       0.65      0.63      0.64     10137\n",
      "weighted avg       0.89      0.89      0.89     10137\n",
      "\n"
     ]
    }
   ],
   "source": [
    "print(cr_LR_Tuned_select)"
   ]
  },
  {
   "cell_type": "code",
   "execution_count": 242,
   "id": "8c875ee2-2949-49e5-a547-7c7452bba9da",
   "metadata": {},
   "outputs": [],
   "source": [
    "data_Eva_Matrix = {\n",
    "    'KNN' :[acc_KNN, rec_KNN, prec_KNN, f1_KNN],\n",
    "    'KNN_Tuned' :[acc_KNN_Tuned, rec_KNN_Tuned, prec_KNN_Tuned, f1_KNN_Tuned],\n",
    "    'KNN_select' :[acc_KNN_select, rec_KNN_select, prec_KNN_select, f1_KNN_select],\n",
    "    'KNN_Tuned_select' :[acc_KNN_Tuned_select, rec_KNN_Tuned_select, prec_KNN_Tuned_select, f1_KNN_Tuned_select],\n",
    "    'RF' :[acc_RF, rec_RF, prec_RF, f1_RF],\n",
    "    'RF_Tuned' :[acc_RF_Tuned, rec_RF_Tuned, prec_RF_Tuned, f1_RF_Tuned],\n",
    "    'RF_select' :[acc_RF_select, rec_RF_select, prec_RF_select, f1_RF_select],\n",
    "    'RF_Tuned_select' :[acc_RF_Tuned_select, rec_RF_Tuned_select, prec_RF_Tuned_select, f1_RF_Tuned_select],\n",
    "    'LR' :[acc_LR, rec_LR, prec_LR, f1_LR],\n",
    "    'LR_Tuned' :[acc_LR_Tuned, rec_LR_Tuned, prec_LR_Tuned, f1_LR_Tuned],\n",
    "    'LR_select' :[acc_LR_select, rec_LR_select, prec_LR_select, f1_LR_select],\n",
    "    'LR_Tuned_select' :[acc_LR_Tuned_select, rec_LR_Tuned_select, prec_LR_Tuned_select, f1_LR_Tuned_select],\n",
    "    \n",
    "}\n"
   ]
  },
  {
   "cell_type": "code",
   "execution_count": 243,
   "id": "264b69c0-60b8-4b81-b745-b4d5956cecdf",
   "metadata": {},
   "outputs": [
    {
     "data": {
      "text/html": [
       "<div>\n",
       "<style scoped>\n",
       "    .dataframe tbody tr th:only-of-type {\n",
       "        vertical-align: middle;\n",
       "    }\n",
       "\n",
       "    .dataframe tbody tr th {\n",
       "        vertical-align: top;\n",
       "    }\n",
       "\n",
       "    .dataframe thead th {\n",
       "        text-align: right;\n",
       "    }\n",
       "</style>\n",
       "<table border=\"1\" class=\"dataframe\">\n",
       "  <thead>\n",
       "    <tr style=\"text-align: right;\">\n",
       "      <th></th>\n",
       "      <th>KNN</th>\n",
       "      <th>KNN_Tuned</th>\n",
       "      <th>KNN_select</th>\n",
       "      <th>KNN_Tuned_select</th>\n",
       "      <th>RF</th>\n",
       "      <th>RF_Tuned</th>\n",
       "      <th>RF_select</th>\n",
       "      <th>RF_Tuned_select</th>\n",
       "      <th>LR</th>\n",
       "      <th>LR_Tuned</th>\n",
       "      <th>LR_select</th>\n",
       "      <th>LR_Tuned_select</th>\n",
       "    </tr>\n",
       "  </thead>\n",
       "  <tbody>\n",
       "    <tr>\n",
       "      <th>Accuracy</th>\n",
       "      <td>0.922265</td>\n",
       "      <td>0.923251</td>\n",
       "      <td>0.916839</td>\n",
       "      <td>0.916741</td>\n",
       "      <td>0.934695</td>\n",
       "      <td>0.925422</td>\n",
       "      <td>0.828352</td>\n",
       "      <td>0.903029</td>\n",
       "      <td>0.795798</td>\n",
       "      <td>0.936174</td>\n",
       "      <td>0.741048</td>\n",
       "      <td>0.893065</td>\n",
       "    </tr>\n",
       "    <tr>\n",
       "      <th>Recall</th>\n",
       "      <td>0.137413</td>\n",
       "      <td>0.120092</td>\n",
       "      <td>0.176674</td>\n",
       "      <td>0.175520</td>\n",
       "      <td>0.287529</td>\n",
       "      <td>0.407621</td>\n",
       "      <td>0.491917</td>\n",
       "      <td>0.330254</td>\n",
       "      <td>0.630485</td>\n",
       "      <td>0.381062</td>\n",
       "      <td>0.592379</td>\n",
       "      <td>0.306005</td>\n",
       "    </tr>\n",
       "    <tr>\n",
       "      <th>Precision</th>\n",
       "      <td>0.743750</td>\n",
       "      <td>0.866667</td>\n",
       "      <td>0.540636</td>\n",
       "      <td>0.539007</td>\n",
       "      <td>0.846939</td>\n",
       "      <td>0.592282</td>\n",
       "      <td>0.246813</td>\n",
       "      <td>0.415094</td>\n",
       "      <td>0.237805</td>\n",
       "      <td>0.748299</td>\n",
       "      <td>0.184201</td>\n",
       "      <td>0.354278</td>\n",
       "    </tr>\n",
       "    <tr>\n",
       "      <th>F1</th>\n",
       "      <td>0.231969</td>\n",
       "      <td>0.210953</td>\n",
       "      <td>0.266319</td>\n",
       "      <td>0.264808</td>\n",
       "      <td>0.429310</td>\n",
       "      <td>0.482900</td>\n",
       "      <td>0.328704</td>\n",
       "      <td>0.367846</td>\n",
       "      <td>0.345351</td>\n",
       "      <td>0.504973</td>\n",
       "      <td>0.281019</td>\n",
       "      <td>0.328377</td>\n",
       "    </tr>\n",
       "  </tbody>\n",
       "</table>\n",
       "</div>"
      ],
      "text/plain": [
       "                KNN  KNN_Tuned  KNN_select  KNN_Tuned_select        RF  \\\n",
       "Accuracy   0.922265   0.923251    0.916839          0.916741  0.934695   \n",
       "Recall     0.137413   0.120092    0.176674          0.175520  0.287529   \n",
       "Precision  0.743750   0.866667    0.540636          0.539007  0.846939   \n",
       "F1         0.231969   0.210953    0.266319          0.264808  0.429310   \n",
       "\n",
       "           RF_Tuned  RF_select  RF_Tuned_select        LR  LR_Tuned  \\\n",
       "Accuracy   0.925422   0.828352         0.903029  0.795798  0.936174   \n",
       "Recall     0.407621   0.491917         0.330254  0.630485  0.381062   \n",
       "Precision  0.592282   0.246813         0.415094  0.237805  0.748299   \n",
       "F1         0.482900   0.328704         0.367846  0.345351  0.504973   \n",
       "\n",
       "           LR_select  LR_Tuned_select  \n",
       "Accuracy    0.741048         0.893065  \n",
       "Recall      0.592379         0.306005  \n",
       "Precision   0.184201         0.354278  \n",
       "F1          0.281019         0.328377  "
      ]
     },
     "execution_count": 243,
     "metadata": {},
     "output_type": "execute_result"
    }
   ],
   "source": [
    "pd.DataFrame(data_Eva_Matrix,index=['Accuracy','Recall','Precision','F1'])"
   ]
  },
  {
   "cell_type": "markdown",
   "id": "18da51d0-39e9-4e9d-a3ca-d56963ad7526",
   "metadata": {},
   "source": [
    "- Using Best Model to Predict Probability (Logistic Regression Tuned)"
   ]
  },
  {
   "cell_type": "code",
   "execution_count": 244,
   "id": "0e3e9b74-0607-4aba-b3b9-66ed9105e853",
   "metadata": {},
   "outputs": [
    {
     "data": {
      "text/html": [
       "<div>\n",
       "<style scoped>\n",
       "    .dataframe tbody tr th:only-of-type {\n",
       "        vertical-align: middle;\n",
       "    }\n",
       "\n",
       "    .dataframe tbody tr th {\n",
       "        vertical-align: top;\n",
       "    }\n",
       "\n",
       "    .dataframe thead th {\n",
       "        text-align: right;\n",
       "    }\n",
       "</style>\n",
       "<table border=\"1\" class=\"dataframe\">\n",
       "  <thead>\n",
       "    <tr style=\"text-align: right;\">\n",
       "      <th></th>\n",
       "      <th>department</th>\n",
       "      <th>region</th>\n",
       "      <th>education_recat</th>\n",
       "      <th>gender</th>\n",
       "      <th>recruitment_channel</th>\n",
       "      <th>no_of_trainings</th>\n",
       "      <th>age</th>\n",
       "      <th>previous_year_rating</th>\n",
       "      <th>length_of_service</th>\n",
       "      <th>awards_won?</th>\n",
       "      <th>avg_training_score</th>\n",
       "    </tr>\n",
       "  </thead>\n",
       "  <tbody>\n",
       "    <tr>\n",
       "      <th>44118</th>\n",
       "      <td>Analytics</td>\n",
       "      <td>region_15</td>\n",
       "      <td>1</td>\n",
       "      <td>m</td>\n",
       "      <td>other</td>\n",
       "      <td>1</td>\n",
       "      <td>26</td>\n",
       "      <td>3.0</td>\n",
       "      <td>3</td>\n",
       "      <td>0</td>\n",
       "      <td>82</td>\n",
       "    </tr>\n",
       "    <tr>\n",
       "      <th>21322</th>\n",
       "      <td>Analytics</td>\n",
       "      <td>region_22</td>\n",
       "      <td>1</td>\n",
       "      <td>f</td>\n",
       "      <td>sourcing</td>\n",
       "      <td>1</td>\n",
       "      <td>27</td>\n",
       "      <td>4.0</td>\n",
       "      <td>4</td>\n",
       "      <td>0</td>\n",
       "      <td>84</td>\n",
       "    </tr>\n",
       "    <tr>\n",
       "      <th>30620</th>\n",
       "      <td>Sales &amp; Marketing</td>\n",
       "      <td>region_30</td>\n",
       "      <td>1</td>\n",
       "      <td>f</td>\n",
       "      <td>other</td>\n",
       "      <td>1</td>\n",
       "      <td>31</td>\n",
       "      <td>3.0</td>\n",
       "      <td>3</td>\n",
       "      <td>0</td>\n",
       "      <td>53</td>\n",
       "    </tr>\n",
       "    <tr>\n",
       "      <th>48124</th>\n",
       "      <td>Sales &amp; Marketing</td>\n",
       "      <td>region_26</td>\n",
       "      <td>1</td>\n",
       "      <td>m</td>\n",
       "      <td>sourcing</td>\n",
       "      <td>1</td>\n",
       "      <td>24</td>\n",
       "      <td>1.0</td>\n",
       "      <td>2</td>\n",
       "      <td>0</td>\n",
       "      <td>48</td>\n",
       "    </tr>\n",
       "    <tr>\n",
       "      <th>5728</th>\n",
       "      <td>Technology</td>\n",
       "      <td>region_23</td>\n",
       "      <td>1</td>\n",
       "      <td>m</td>\n",
       "      <td>sourcing</td>\n",
       "      <td>2</td>\n",
       "      <td>32</td>\n",
       "      <td>3.0</td>\n",
       "      <td>5</td>\n",
       "      <td>0</td>\n",
       "      <td>84</td>\n",
       "    </tr>\n",
       "    <tr>\n",
       "      <th>...</th>\n",
       "      <td>...</td>\n",
       "      <td>...</td>\n",
       "      <td>...</td>\n",
       "      <td>...</td>\n",
       "      <td>...</td>\n",
       "      <td>...</td>\n",
       "      <td>...</td>\n",
       "      <td>...</td>\n",
       "      <td>...</td>\n",
       "      <td>...</td>\n",
       "      <td>...</td>\n",
       "    </tr>\n",
       "    <tr>\n",
       "      <th>52496</th>\n",
       "      <td>Analytics</td>\n",
       "      <td>region_22</td>\n",
       "      <td>0</td>\n",
       "      <td>m</td>\n",
       "      <td>sourcing</td>\n",
       "      <td>2</td>\n",
       "      <td>28</td>\n",
       "      <td>4.0</td>\n",
       "      <td>4</td>\n",
       "      <td>0</td>\n",
       "      <td>89</td>\n",
       "    </tr>\n",
       "    <tr>\n",
       "      <th>37852</th>\n",
       "      <td>Sales &amp; Marketing</td>\n",
       "      <td>region_7</td>\n",
       "      <td>1</td>\n",
       "      <td>m</td>\n",
       "      <td>other</td>\n",
       "      <td>1</td>\n",
       "      <td>27</td>\n",
       "      <td>4.0</td>\n",
       "      <td>2</td>\n",
       "      <td>0</td>\n",
       "      <td>51</td>\n",
       "    </tr>\n",
       "    <tr>\n",
       "      <th>9248</th>\n",
       "      <td>Technology</td>\n",
       "      <td>region_2</td>\n",
       "      <td>2</td>\n",
       "      <td>f</td>\n",
       "      <td>sourcing</td>\n",
       "      <td>2</td>\n",
       "      <td>42</td>\n",
       "      <td>5.0</td>\n",
       "      <td>13</td>\n",
       "      <td>0</td>\n",
       "      <td>82</td>\n",
       "    </tr>\n",
       "    <tr>\n",
       "      <th>27306</th>\n",
       "      <td>Operations</td>\n",
       "      <td>region_22</td>\n",
       "      <td>2</td>\n",
       "      <td>f</td>\n",
       "      <td>sourcing</td>\n",
       "      <td>1</td>\n",
       "      <td>50</td>\n",
       "      <td>4.0</td>\n",
       "      <td>18</td>\n",
       "      <td>0</td>\n",
       "      <td>58</td>\n",
       "    </tr>\n",
       "    <tr>\n",
       "      <th>43645</th>\n",
       "      <td>Procurement</td>\n",
       "      <td>region_2</td>\n",
       "      <td>1</td>\n",
       "      <td>f</td>\n",
       "      <td>sourcing</td>\n",
       "      <td>1</td>\n",
       "      <td>26</td>\n",
       "      <td>2.0</td>\n",
       "      <td>3</td>\n",
       "      <td>0</td>\n",
       "      <td>72</td>\n",
       "    </tr>\n",
       "  </tbody>\n",
       "</table>\n",
       "<p>10137 rows × 11 columns</p>\n",
       "</div>"
      ],
      "text/plain": [
       "              department     region  education_recat gender  \\\n",
       "44118          Analytics  region_15                1      m   \n",
       "21322          Analytics  region_22                1      f   \n",
       "30620  Sales & Marketing  region_30                1      f   \n",
       "48124  Sales & Marketing  region_26                1      m   \n",
       "5728          Technology  region_23                1      m   \n",
       "...                  ...        ...              ...    ...   \n",
       "52496          Analytics  region_22                0      m   \n",
       "37852  Sales & Marketing   region_7                1      m   \n",
       "9248          Technology   region_2                2      f   \n",
       "27306         Operations  region_22                2      f   \n",
       "43645        Procurement   region_2                1      f   \n",
       "\n",
       "      recruitment_channel  no_of_trainings  age  previous_year_rating  \\\n",
       "44118               other                1   26                   3.0   \n",
       "21322            sourcing                1   27                   4.0   \n",
       "30620               other                1   31                   3.0   \n",
       "48124            sourcing                1   24                   1.0   \n",
       "5728             sourcing                2   32                   3.0   \n",
       "...                   ...              ...  ...                   ...   \n",
       "52496            sourcing                2   28                   4.0   \n",
       "37852               other                1   27                   4.0   \n",
       "9248             sourcing                2   42                   5.0   \n",
       "27306            sourcing                1   50                   4.0   \n",
       "43645            sourcing                1   26                   2.0   \n",
       "\n",
       "       length_of_service awards_won?  avg_training_score  \n",
       "44118                  3           0                  82  \n",
       "21322                  4           0                  84  \n",
       "30620                  3           0                  53  \n",
       "48124                  2           0                  48  \n",
       "5728                   5           0                  84  \n",
       "...                  ...         ...                 ...  \n",
       "52496                  4           0                  89  \n",
       "37852                  2           0                  51  \n",
       "9248                  13           0                  82  \n",
       "27306                 18           0                  58  \n",
       "43645                  3           0                  72  \n",
       "\n",
       "[10137 rows x 11 columns]"
      ]
     },
     "execution_count": 244,
     "metadata": {},
     "output_type": "execute_result"
    }
   ],
   "source": [
    "X_test"
   ]
  },
  {
   "cell_type": "code",
   "execution_count": 245,
   "id": "74fadcf1-51c9-4b18-b595-b1302dfa823a",
   "metadata": {},
   "outputs": [],
   "source": [
    "proba = LR_Tuned.predict_proba(X_test)"
   ]
  },
  {
   "cell_type": "code",
   "execution_count": 246,
   "id": "3aab641f-85ae-4628-87d9-f2e71cd6e82b",
   "metadata": {},
   "outputs": [],
   "source": [
    "pred = LR_Tuned.predict(X_test)"
   ]
  },
  {
   "cell_type": "code",
   "execution_count": 247,
   "id": "8fdd9984-da7d-40ab-8f3c-5f117531796f",
   "metadata": {},
   "outputs": [],
   "source": [
    "df_proba = X_test"
   ]
  },
  {
   "cell_type": "code",
   "execution_count": 248,
   "id": "b35a83cc-2f7d-4ea8-add2-e78c9793cb78",
   "metadata": {},
   "outputs": [],
   "source": [
    "df_proba['is_promoted'] = y_test"
   ]
  },
  {
   "cell_type": "code",
   "execution_count": 249,
   "id": "ba924035-38fc-4f30-be51-5b15a932c11d",
   "metadata": {},
   "outputs": [],
   "source": [
    "df_proba['prediction'] = pred"
   ]
  },
  {
   "cell_type": "code",
   "execution_count": 250,
   "id": "5001854a-84f3-48c9-bea4-88d912fa64b7",
   "metadata": {},
   "outputs": [],
   "source": [
    "df_proba[['Probability 0','Probability 1']] = proba"
   ]
  },
  {
   "cell_type": "code",
   "execution_count": 252,
   "id": "2fb6b772-ec7e-41da-8472-9f3ee133b963",
   "metadata": {},
   "outputs": [
    {
     "data": {
      "text/html": [
       "<div>\n",
       "<style scoped>\n",
       "    .dataframe tbody tr th:only-of-type {\n",
       "        vertical-align: middle;\n",
       "    }\n",
       "\n",
       "    .dataframe tbody tr th {\n",
       "        vertical-align: top;\n",
       "    }\n",
       "\n",
       "    .dataframe thead th {\n",
       "        text-align: right;\n",
       "    }\n",
       "</style>\n",
       "<table border=\"1\" class=\"dataframe\">\n",
       "  <thead>\n",
       "    <tr style=\"text-align: right;\">\n",
       "      <th></th>\n",
       "      <th>department</th>\n",
       "      <th>region</th>\n",
       "      <th>education_recat</th>\n",
       "      <th>gender</th>\n",
       "      <th>recruitment_channel</th>\n",
       "      <th>no_of_trainings</th>\n",
       "      <th>age</th>\n",
       "      <th>previous_year_rating</th>\n",
       "      <th>length_of_service</th>\n",
       "      <th>awards_won?</th>\n",
       "      <th>avg_training_score</th>\n",
       "      <th>is_promoted</th>\n",
       "      <th>prediction</th>\n",
       "      <th>Probability 0</th>\n",
       "      <th>Probability 1</th>\n",
       "    </tr>\n",
       "  </thead>\n",
       "  <tbody>\n",
       "    <tr>\n",
       "      <th>44118</th>\n",
       "      <td>Analytics</td>\n",
       "      <td>region_15</td>\n",
       "      <td>1</td>\n",
       "      <td>m</td>\n",
       "      <td>other</td>\n",
       "      <td>1</td>\n",
       "      <td>26</td>\n",
       "      <td>3.0</td>\n",
       "      <td>3</td>\n",
       "      <td>0</td>\n",
       "      <td>82</td>\n",
       "      <td>0</td>\n",
       "      <td>0</td>\n",
       "      <td>0.923196</td>\n",
       "      <td>0.076804</td>\n",
       "    </tr>\n",
       "    <tr>\n",
       "      <th>21322</th>\n",
       "      <td>Analytics</td>\n",
       "      <td>region_22</td>\n",
       "      <td>1</td>\n",
       "      <td>f</td>\n",
       "      <td>sourcing</td>\n",
       "      <td>1</td>\n",
       "      <td>27</td>\n",
       "      <td>4.0</td>\n",
       "      <td>4</td>\n",
       "      <td>0</td>\n",
       "      <td>84</td>\n",
       "      <td>0</td>\n",
       "      <td>0</td>\n",
       "      <td>0.759023</td>\n",
       "      <td>0.240977</td>\n",
       "    </tr>\n",
       "    <tr>\n",
       "      <th>30620</th>\n",
       "      <td>Sales &amp; Marketing</td>\n",
       "      <td>region_30</td>\n",
       "      <td>1</td>\n",
       "      <td>f</td>\n",
       "      <td>other</td>\n",
       "      <td>1</td>\n",
       "      <td>31</td>\n",
       "      <td>3.0</td>\n",
       "      <td>3</td>\n",
       "      <td>0</td>\n",
       "      <td>53</td>\n",
       "      <td>0</td>\n",
       "      <td>0</td>\n",
       "      <td>0.860398</td>\n",
       "      <td>0.139602</td>\n",
       "    </tr>\n",
       "    <tr>\n",
       "      <th>48124</th>\n",
       "      <td>Sales &amp; Marketing</td>\n",
       "      <td>region_26</td>\n",
       "      <td>1</td>\n",
       "      <td>m</td>\n",
       "      <td>sourcing</td>\n",
       "      <td>1</td>\n",
       "      <td>24</td>\n",
       "      <td>1.0</td>\n",
       "      <td>2</td>\n",
       "      <td>0</td>\n",
       "      <td>48</td>\n",
       "      <td>0</td>\n",
       "      <td>0</td>\n",
       "      <td>0.979799</td>\n",
       "      <td>0.020201</td>\n",
       "    </tr>\n",
       "    <tr>\n",
       "      <th>5728</th>\n",
       "      <td>Technology</td>\n",
       "      <td>region_23</td>\n",
       "      <td>1</td>\n",
       "      <td>m</td>\n",
       "      <td>sourcing</td>\n",
       "      <td>2</td>\n",
       "      <td>32</td>\n",
       "      <td>3.0</td>\n",
       "      <td>5</td>\n",
       "      <td>0</td>\n",
       "      <td>84</td>\n",
       "      <td>0</td>\n",
       "      <td>0</td>\n",
       "      <td>0.697957</td>\n",
       "      <td>0.302043</td>\n",
       "    </tr>\n",
       "    <tr>\n",
       "      <th>...</th>\n",
       "      <td>...</td>\n",
       "      <td>...</td>\n",
       "      <td>...</td>\n",
       "      <td>...</td>\n",
       "      <td>...</td>\n",
       "      <td>...</td>\n",
       "      <td>...</td>\n",
       "      <td>...</td>\n",
       "      <td>...</td>\n",
       "      <td>...</td>\n",
       "      <td>...</td>\n",
       "      <td>...</td>\n",
       "      <td>...</td>\n",
       "      <td>...</td>\n",
       "      <td>...</td>\n",
       "    </tr>\n",
       "    <tr>\n",
       "      <th>52496</th>\n",
       "      <td>Analytics</td>\n",
       "      <td>region_22</td>\n",
       "      <td>0</td>\n",
       "      <td>m</td>\n",
       "      <td>sourcing</td>\n",
       "      <td>2</td>\n",
       "      <td>28</td>\n",
       "      <td>4.0</td>\n",
       "      <td>4</td>\n",
       "      <td>0</td>\n",
       "      <td>89</td>\n",
       "      <td>0</td>\n",
       "      <td>0</td>\n",
       "      <td>0.627112</td>\n",
       "      <td>0.372888</td>\n",
       "    </tr>\n",
       "    <tr>\n",
       "      <th>37852</th>\n",
       "      <td>Sales &amp; Marketing</td>\n",
       "      <td>region_7</td>\n",
       "      <td>1</td>\n",
       "      <td>m</td>\n",
       "      <td>other</td>\n",
       "      <td>1</td>\n",
       "      <td>27</td>\n",
       "      <td>4.0</td>\n",
       "      <td>2</td>\n",
       "      <td>0</td>\n",
       "      <td>51</td>\n",
       "      <td>0</td>\n",
       "      <td>0</td>\n",
       "      <td>0.782547</td>\n",
       "      <td>0.217453</td>\n",
       "    </tr>\n",
       "    <tr>\n",
       "      <th>9248</th>\n",
       "      <td>Technology</td>\n",
       "      <td>region_2</td>\n",
       "      <td>2</td>\n",
       "      <td>f</td>\n",
       "      <td>sourcing</td>\n",
       "      <td>2</td>\n",
       "      <td>42</td>\n",
       "      <td>5.0</td>\n",
       "      <td>13</td>\n",
       "      <td>0</td>\n",
       "      <td>82</td>\n",
       "      <td>0</td>\n",
       "      <td>0</td>\n",
       "      <td>0.606335</td>\n",
       "      <td>0.393665</td>\n",
       "    </tr>\n",
       "    <tr>\n",
       "      <th>27306</th>\n",
       "      <td>Operations</td>\n",
       "      <td>region_22</td>\n",
       "      <td>2</td>\n",
       "      <td>f</td>\n",
       "      <td>sourcing</td>\n",
       "      <td>1</td>\n",
       "      <td>50</td>\n",
       "      <td>4.0</td>\n",
       "      <td>18</td>\n",
       "      <td>0</td>\n",
       "      <td>58</td>\n",
       "      <td>0</td>\n",
       "      <td>0</td>\n",
       "      <td>0.882076</td>\n",
       "      <td>0.117924</td>\n",
       "    </tr>\n",
       "    <tr>\n",
       "      <th>43645</th>\n",
       "      <td>Procurement</td>\n",
       "      <td>region_2</td>\n",
       "      <td>1</td>\n",
       "      <td>f</td>\n",
       "      <td>sourcing</td>\n",
       "      <td>1</td>\n",
       "      <td>26</td>\n",
       "      <td>2.0</td>\n",
       "      <td>3</td>\n",
       "      <td>0</td>\n",
       "      <td>72</td>\n",
       "      <td>0</td>\n",
       "      <td>0</td>\n",
       "      <td>0.871643</td>\n",
       "      <td>0.128357</td>\n",
       "    </tr>\n",
       "  </tbody>\n",
       "</table>\n",
       "<p>10137 rows × 15 columns</p>\n",
       "</div>"
      ],
      "text/plain": [
       "              department     region  education_recat gender  \\\n",
       "44118          Analytics  region_15                1      m   \n",
       "21322          Analytics  region_22                1      f   \n",
       "30620  Sales & Marketing  region_30                1      f   \n",
       "48124  Sales & Marketing  region_26                1      m   \n",
       "5728          Technology  region_23                1      m   \n",
       "...                  ...        ...              ...    ...   \n",
       "52496          Analytics  region_22                0      m   \n",
       "37852  Sales & Marketing   region_7                1      m   \n",
       "9248          Technology   region_2                2      f   \n",
       "27306         Operations  region_22                2      f   \n",
       "43645        Procurement   region_2                1      f   \n",
       "\n",
       "      recruitment_channel  no_of_trainings  age  previous_year_rating  \\\n",
       "44118               other                1   26                   3.0   \n",
       "21322            sourcing                1   27                   4.0   \n",
       "30620               other                1   31                   3.0   \n",
       "48124            sourcing                1   24                   1.0   \n",
       "5728             sourcing                2   32                   3.0   \n",
       "...                   ...              ...  ...                   ...   \n",
       "52496            sourcing                2   28                   4.0   \n",
       "37852               other                1   27                   4.0   \n",
       "9248             sourcing                2   42                   5.0   \n",
       "27306            sourcing                1   50                   4.0   \n",
       "43645            sourcing                1   26                   2.0   \n",
       "\n",
       "       length_of_service awards_won?  avg_training_score  is_promoted  \\\n",
       "44118                  3           0                  82            0   \n",
       "21322                  4           0                  84            0   \n",
       "30620                  3           0                  53            0   \n",
       "48124                  2           0                  48            0   \n",
       "5728                   5           0                  84            0   \n",
       "...                  ...         ...                 ...          ...   \n",
       "52496                  4           0                  89            0   \n",
       "37852                  2           0                  51            0   \n",
       "9248                  13           0                  82            0   \n",
       "27306                 18           0                  58            0   \n",
       "43645                  3           0                  72            0   \n",
       "\n",
       "       prediction  Probability 0  Probability 1  \n",
       "44118           0       0.923196       0.076804  \n",
       "21322           0       0.759023       0.240977  \n",
       "30620           0       0.860398       0.139602  \n",
       "48124           0       0.979799       0.020201  \n",
       "5728            0       0.697957       0.302043  \n",
       "...           ...            ...            ...  \n",
       "52496           0       0.627112       0.372888  \n",
       "37852           0       0.782547       0.217453  \n",
       "9248            0       0.606335       0.393665  \n",
       "27306           0       0.882076       0.117924  \n",
       "43645           0       0.871643       0.128357  \n",
       "\n",
       "[10137 rows x 15 columns]"
      ]
     },
     "execution_count": 252,
     "metadata": {},
     "output_type": "execute_result"
    }
   ],
   "source": [
    "df_proba"
   ]
  },
  {
   "cell_type": "code",
   "execution_count": 253,
   "id": "d148f624-aee9-48c2-b613-67b45747dc69",
   "metadata": {},
   "outputs": [
    {
     "data": {
      "text/html": [
       "<div>\n",
       "<style scoped>\n",
       "    .dataframe tbody tr th:only-of-type {\n",
       "        vertical-align: middle;\n",
       "    }\n",
       "\n",
       "    .dataframe tbody tr th {\n",
       "        vertical-align: top;\n",
       "    }\n",
       "\n",
       "    .dataframe thead th {\n",
       "        text-align: right;\n",
       "    }\n",
       "</style>\n",
       "<table border=\"1\" class=\"dataframe\">\n",
       "  <thead>\n",
       "    <tr style=\"text-align: right;\">\n",
       "      <th></th>\n",
       "      <th>department</th>\n",
       "      <th>region</th>\n",
       "      <th>education_recat</th>\n",
       "      <th>gender</th>\n",
       "      <th>recruitment_channel</th>\n",
       "      <th>no_of_trainings</th>\n",
       "      <th>age</th>\n",
       "      <th>previous_year_rating</th>\n",
       "      <th>length_of_service</th>\n",
       "      <th>awards_won?</th>\n",
       "      <th>avg_training_score</th>\n",
       "      <th>is_promoted</th>\n",
       "      <th>prediction</th>\n",
       "      <th>Probability 0</th>\n",
       "      <th>Probability 1</th>\n",
       "    </tr>\n",
       "  </thead>\n",
       "  <tbody>\n",
       "    <tr>\n",
       "      <th>49529</th>\n",
       "      <td>Sales &amp; Marketing</td>\n",
       "      <td>region_3</td>\n",
       "      <td>2</td>\n",
       "      <td>m</td>\n",
       "      <td>other</td>\n",
       "      <td>1</td>\n",
       "      <td>33</td>\n",
       "      <td>5.0</td>\n",
       "      <td>2</td>\n",
       "      <td>0</td>\n",
       "      <td>92</td>\n",
       "      <td>1</td>\n",
       "      <td>1</td>\n",
       "      <td>0.000273</td>\n",
       "      <td>0.999727</td>\n",
       "    </tr>\n",
       "    <tr>\n",
       "      <th>28171</th>\n",
       "      <td>Operations</td>\n",
       "      <td>region_7</td>\n",
       "      <td>1</td>\n",
       "      <td>f</td>\n",
       "      <td>sourcing</td>\n",
       "      <td>1</td>\n",
       "      <td>43</td>\n",
       "      <td>3.0</td>\n",
       "      <td>13</td>\n",
       "      <td>0</td>\n",
       "      <td>71</td>\n",
       "      <td>1</td>\n",
       "      <td>1</td>\n",
       "      <td>0.449788</td>\n",
       "      <td>0.550212</td>\n",
       "    </tr>\n",
       "    <tr>\n",
       "      <th>17319</th>\n",
       "      <td>Technology</td>\n",
       "      <td>region_2</td>\n",
       "      <td>1</td>\n",
       "      <td>f</td>\n",
       "      <td>referred</td>\n",
       "      <td>2</td>\n",
       "      <td>37</td>\n",
       "      <td>5.0</td>\n",
       "      <td>4</td>\n",
       "      <td>1</td>\n",
       "      <td>83</td>\n",
       "      <td>1</td>\n",
       "      <td>1</td>\n",
       "      <td>0.184602</td>\n",
       "      <td>0.815398</td>\n",
       "    </tr>\n",
       "    <tr>\n",
       "      <th>37792</th>\n",
       "      <td>Finance</td>\n",
       "      <td>region_26</td>\n",
       "      <td>1</td>\n",
       "      <td>m</td>\n",
       "      <td>sourcing</td>\n",
       "      <td>1</td>\n",
       "      <td>31</td>\n",
       "      <td>5.0</td>\n",
       "      <td>5</td>\n",
       "      <td>1</td>\n",
       "      <td>67</td>\n",
       "      <td>1</td>\n",
       "      <td>1</td>\n",
       "      <td>0.165942</td>\n",
       "      <td>0.834058</td>\n",
       "    </tr>\n",
       "    <tr>\n",
       "      <th>14637</th>\n",
       "      <td>Sales &amp; Marketing</td>\n",
       "      <td>region_4</td>\n",
       "      <td>2</td>\n",
       "      <td>m</td>\n",
       "      <td>other</td>\n",
       "      <td>1</td>\n",
       "      <td>43</td>\n",
       "      <td>4.0</td>\n",
       "      <td>4</td>\n",
       "      <td>1</td>\n",
       "      <td>54</td>\n",
       "      <td>0</td>\n",
       "      <td>1</td>\n",
       "      <td>0.210088</td>\n",
       "      <td>0.789912</td>\n",
       "    </tr>\n",
       "    <tr>\n",
       "      <th>...</th>\n",
       "      <td>...</td>\n",
       "      <td>...</td>\n",
       "      <td>...</td>\n",
       "      <td>...</td>\n",
       "      <td>...</td>\n",
       "      <td>...</td>\n",
       "      <td>...</td>\n",
       "      <td>...</td>\n",
       "      <td>...</td>\n",
       "      <td>...</td>\n",
       "      <td>...</td>\n",
       "      <td>...</td>\n",
       "      <td>...</td>\n",
       "      <td>...</td>\n",
       "      <td>...</td>\n",
       "    </tr>\n",
       "    <tr>\n",
       "      <th>5614</th>\n",
       "      <td>HR</td>\n",
       "      <td>region_13</td>\n",
       "      <td>1</td>\n",
       "      <td>f</td>\n",
       "      <td>other</td>\n",
       "      <td>1</td>\n",
       "      <td>31</td>\n",
       "      <td>5.0</td>\n",
       "      <td>2</td>\n",
       "      <td>1</td>\n",
       "      <td>54</td>\n",
       "      <td>0</td>\n",
       "      <td>1</td>\n",
       "      <td>0.344846</td>\n",
       "      <td>0.655154</td>\n",
       "    </tr>\n",
       "    <tr>\n",
       "      <th>23749</th>\n",
       "      <td>Technology</td>\n",
       "      <td>region_22</td>\n",
       "      <td>2</td>\n",
       "      <td>m</td>\n",
       "      <td>other</td>\n",
       "      <td>2</td>\n",
       "      <td>43</td>\n",
       "      <td>4.0</td>\n",
       "      <td>11</td>\n",
       "      <td>0</td>\n",
       "      <td>89</td>\n",
       "      <td>1</td>\n",
       "      <td>1</td>\n",
       "      <td>0.302725</td>\n",
       "      <td>0.697275</td>\n",
       "    </tr>\n",
       "    <tr>\n",
       "      <th>10947</th>\n",
       "      <td>Technology</td>\n",
       "      <td>region_2</td>\n",
       "      <td>1</td>\n",
       "      <td>m</td>\n",
       "      <td>other</td>\n",
       "      <td>1</td>\n",
       "      <td>27</td>\n",
       "      <td>5.0</td>\n",
       "      <td>3</td>\n",
       "      <td>0</td>\n",
       "      <td>83</td>\n",
       "      <td>1</td>\n",
       "      <td>1</td>\n",
       "      <td>0.486963</td>\n",
       "      <td>0.513037</td>\n",
       "    </tr>\n",
       "    <tr>\n",
       "      <th>27529</th>\n",
       "      <td>Operations</td>\n",
       "      <td>region_2</td>\n",
       "      <td>2</td>\n",
       "      <td>m</td>\n",
       "      <td>other</td>\n",
       "      <td>1</td>\n",
       "      <td>39</td>\n",
       "      <td>3.0</td>\n",
       "      <td>5</td>\n",
       "      <td>0</td>\n",
       "      <td>78</td>\n",
       "      <td>1</td>\n",
       "      <td>1</td>\n",
       "      <td>0.142826</td>\n",
       "      <td>0.857174</td>\n",
       "    </tr>\n",
       "    <tr>\n",
       "      <th>13280</th>\n",
       "      <td>Operations</td>\n",
       "      <td>region_2</td>\n",
       "      <td>1</td>\n",
       "      <td>m</td>\n",
       "      <td>other</td>\n",
       "      <td>1</td>\n",
       "      <td>37</td>\n",
       "      <td>3.0</td>\n",
       "      <td>10</td>\n",
       "      <td>1</td>\n",
       "      <td>76</td>\n",
       "      <td>1</td>\n",
       "      <td>1</td>\n",
       "      <td>0.047319</td>\n",
       "      <td>0.952681</td>\n",
       "    </tr>\n",
       "  </tbody>\n",
       "</table>\n",
       "<p>441 rows × 15 columns</p>\n",
       "</div>"
      ],
      "text/plain": [
       "              department     region  education_recat gender  \\\n",
       "49529  Sales & Marketing   region_3                2      m   \n",
       "28171         Operations   region_7                1      f   \n",
       "17319         Technology   region_2                1      f   \n",
       "37792            Finance  region_26                1      m   \n",
       "14637  Sales & Marketing   region_4                2      m   \n",
       "...                  ...        ...              ...    ...   \n",
       "5614                  HR  region_13                1      f   \n",
       "23749         Technology  region_22                2      m   \n",
       "10947         Technology   region_2                1      m   \n",
       "27529         Operations   region_2                2      m   \n",
       "13280         Operations   region_2                1      m   \n",
       "\n",
       "      recruitment_channel  no_of_trainings  age  previous_year_rating  \\\n",
       "49529               other                1   33                   5.0   \n",
       "28171            sourcing                1   43                   3.0   \n",
       "17319            referred                2   37                   5.0   \n",
       "37792            sourcing                1   31                   5.0   \n",
       "14637               other                1   43                   4.0   \n",
       "...                   ...              ...  ...                   ...   \n",
       "5614                other                1   31                   5.0   \n",
       "23749               other                2   43                   4.0   \n",
       "10947               other                1   27                   5.0   \n",
       "27529               other                1   39                   3.0   \n",
       "13280               other                1   37                   3.0   \n",
       "\n",
       "       length_of_service awards_won?  avg_training_score  is_promoted  \\\n",
       "49529                  2           0                  92            1   \n",
       "28171                 13           0                  71            1   \n",
       "17319                  4           1                  83            1   \n",
       "37792                  5           1                  67            1   \n",
       "14637                  4           1                  54            0   \n",
       "...                  ...         ...                 ...          ...   \n",
       "5614                   2           1                  54            0   \n",
       "23749                 11           0                  89            1   \n",
       "10947                  3           0                  83            1   \n",
       "27529                  5           0                  78            1   \n",
       "13280                 10           1                  76            1   \n",
       "\n",
       "       prediction  Probability 0  Probability 1  \n",
       "49529           1       0.000273       0.999727  \n",
       "28171           1       0.449788       0.550212  \n",
       "17319           1       0.184602       0.815398  \n",
       "37792           1       0.165942       0.834058  \n",
       "14637           1       0.210088       0.789912  \n",
       "...           ...            ...            ...  \n",
       "5614            1       0.344846       0.655154  \n",
       "23749           1       0.302725       0.697275  \n",
       "10947           1       0.486963       0.513037  \n",
       "27529           1       0.142826       0.857174  \n",
       "13280           1       0.047319       0.952681  \n",
       "\n",
       "[441 rows x 15 columns]"
      ]
     },
     "execution_count": 253,
     "metadata": {},
     "output_type": "execute_result"
    }
   ],
   "source": [
    "df_proba[df_proba['prediction']==1]"
   ]
  }
 ],
 "metadata": {
  "kernelspec": {
   "display_name": "Python 3",
   "language": "python",
   "name": "python3"
  },
  "language_info": {
   "codemirror_mode": {
    "name": "ipython",
    "version": 3
   },
   "file_extension": ".py",
   "mimetype": "text/x-python",
   "name": "python",
   "nbconvert_exporter": "python",
   "pygments_lexer": "ipython3",
   "version": "3.8.8"
  }
 },
 "nbformat": 4,
 "nbformat_minor": 5
}
